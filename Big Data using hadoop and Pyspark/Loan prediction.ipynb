{
  "nbformat": 4,
  "nbformat_minor": 0,
  "metadata": {
    "colab": {
      "provenance": []
    },
    "kernelspec": {
      "name": "python3",
      "display_name": "Python 3"
    },
    "language_info": {
      "name": "python"
    }
  },
  "cells": [
    {
      "cell_type": "code",
      "execution_count": null,
      "metadata": {
        "colab": {
          "base_uri": "https://localhost:8080/"
        },
        "id": "IBbIXXgCYAPY",
        "outputId": "845f6517-0696-4c2c-c2fe-05d942396d49"
      },
      "outputs": [
        {
          "output_type": "stream",
          "name": "stdout",
          "text": [
            "Requirement already satisfied: pyspark in /usr/local/lib/python3.10/dist-packages (3.4.1)\n",
            "Requirement already satisfied: py4j==0.10.9.7 in /usr/local/lib/python3.10/dist-packages (from pyspark) (0.10.9.7)\n"
          ]
        }
      ],
      "source": [
        "!pip install pyspark\n",
        "from pyspark.sql import SparkSession\n",
        "spark = SparkSession.builder.appName(\"LoanPrediction\").getOrCreate()"
      ]
    },
    {
      "cell_type": "code",
      "source": [
        "num_rows = df.count()\n",
        "num_columns = len(df.columns)\n",
        "\n",
        "# Print the shape\n",
        "print(f\"Number of Rows: {num_rows}\")\n",
        "print(f\"Number of Columns: {num_columns}\")"
      ],
      "metadata": {
        "colab": {
          "base_uri": "https://localhost:8080/"
        },
        "id": "yAhrf2_Nl8JI",
        "outputId": "ed274917-88db-409d-bbc6-edda6cff9439"
      },
      "execution_count": null,
      "outputs": [
        {
          "output_type": "stream",
          "name": "stdout",
          "text": [
            "Number of Rows: 307511\n",
            "Number of Columns: 37\n"
          ]
        }
      ]
    },
    {
      "cell_type": "code",
      "source": [
        "data_path = \"/content/application_train.csv\"\n",
        "df = spark.read.csv(data_path, header=True, inferSchema=True)\n",
        "df.show()"
      ],
      "metadata": {
        "colab": {
          "base_uri": "https://localhost:8080/"
        },
        "id": "c3B6nBHmYwyD",
        "outputId": "df4732d8-c582-459f-d185-4df6b70260ed"
      },
      "execution_count": null,
      "outputs": [
        {
          "output_type": "stream",
          "name": "stdout",
          "text": [
            "+------+------------------+-----------+------------+---------------+------------+----------------+----------+-----------+----------------+--------------------+--------------------+-----------------+----------+-------------+----------+--------------+---------------+----------------+----------+---------------+--------------------+---------------------------+--------------------------+--------------------------+--------------------+---------------+---------------+---------------+---------------+---------------+---------------+---------------+---------------+----------------+----------------+----------------+\n",
            "|TARGET|NAME_CONTRACT_TYPE|CODE_GENDER|FLAG_OWN_CAR|FLAG_OWN_REALTY|CNT_CHILDREN|AMT_INCOME_TOTAL|AMT_CREDIT|AMT_ANNUITY|NAME_INCOME_TYPE| NAME_EDUCATION_TYPE|  NAME_FAMILY_STATUS|NAME_HOUSING_TYPE|DAYS_BIRTH|DAYS_EMPLOYED|FLAG_MOBIL|FLAG_EMP_PHONE|FLAG_WORK_PHONE|FLAG_CONT_MOBILE|FLAG_PHONE|CNT_FAM_MEMBERS|REGION_RATING_CLIENT|REGION_RATING_CLIENT_W_CITY|REG_REGION_NOT_LIVE_REGION|REG_REGION_NOT_WORK_REGION|   ORGANIZATION_TYPE|FLAG_DOCUMENT_2|FLAG_DOCUMENT_3|FLAG_DOCUMENT_4|FLAG_DOCUMENT_5|FLAG_DOCUMENT_6|FLAG_DOCUMENT_7|FLAG_DOCUMENT_8|FLAG_DOCUMENT_9|FLAG_DOCUMENT_10|FLAG_DOCUMENT_11|FLAG_DOCUMENT_12|\n",
            "+------+------------------+-----------+------------+---------------+------------+----------------+----------+-----------+----------------+--------------------+--------------------+-----------------+----------+-------------+----------+--------------+---------------+----------------+----------+---------------+--------------------+---------------------------+--------------------------+--------------------------+--------------------+---------------+---------------+---------------+---------------+---------------+---------------+---------------+---------------+----------------+----------------+----------------+\n",
            "|     1|        Cash loans|          M|           N|              Y|           0|        202500.0|  406597.5|    24700.5|         Working|Secondary / secon...|Single / not married|House / apartment|     -9461|         -637|         1|             1|              0|               1|         1|              1|                   2|                          2|                         0|                         0|Business Entity T...|              0|              1|              0|              0|              0|              0|              0|              0|               0|               0|               0|\n",
            "|     0|        Cash loans|          F|           N|              N|           0|        270000.0| 1293502.5|    35698.5|   State servant|    Higher education|             Married|House / apartment|    -16765|        -1188|         1|             1|              0|               1|         1|              2|                   1|                          1|                         0|                         0|              School|              0|              1|              0|              0|              0|              0|              0|              0|               0|               0|               0|\n",
            "|     0|   Revolving loans|          M|           Y|              Y|           0|         67500.0|  135000.0|     6750.0|         Working|Secondary / secon...|Single / not married|House / apartment|    -19046|         -225|         1|             1|              1|               1|         1|              1|                   2|                          2|                         0|                         0|          Government|              0|              0|              0|              0|              0|              0|              0|              0|               0|               0|               0|\n",
            "|     0|        Cash loans|          F|           N|              Y|           0|        135000.0|  312682.5|    29686.5|         Working|Secondary / secon...|      Civil marriage|House / apartment|    -19005|        -3039|         1|             1|              0|               1|         0|              2|                   2|                          2|                         0|                         0|Business Entity T...|              0|              1|              0|              0|              0|              0|              0|              0|               0|               0|               0|\n",
            "|     0|        Cash loans|          M|           N|              Y|           0|        121500.0|  513000.0|    21865.5|         Working|Secondary / secon...|Single / not married|House / apartment|    -19932|        -3038|         1|             1|              0|               1|         0|              1|                   2|                          2|                         0|                         0|            Religion|              0|              0|              0|              0|              0|              0|              1|              0|               0|               0|               0|\n",
            "+------+------------------+-----------+------------+---------------+------------+----------------+----------+-----------+----------------+--------------------+--------------------+-----------------+----------+-------------+----------+--------------+---------------+----------------+----------+---------------+--------------------+---------------------------+--------------------------+--------------------------+--------------------+---------------+---------------+---------------+---------------+---------------+---------------+---------------+---------------+----------------+----------------+----------------+\n",
            "only showing top 5 rows\n",
            "\n"
          ]
        }
      ]
    },
    {
      "cell_type": "code",
      "source": [
        "df.dtypes"
      ],
      "metadata": {
        "colab": {
          "base_uri": "https://localhost:8080/"
        },
        "id": "BHRfoIp1m-EP",
        "outputId": "8b986eee-c551-42be-9519-3ad2056b7ae0"
      },
      "execution_count": null,
      "outputs": [
        {
          "output_type": "execute_result",
          "data": {
            "text/plain": [
              "[('TARGET', 'int'),\n",
              " ('NAME_CONTRACT_TYPE', 'string'),\n",
              " ('CODE_GENDER', 'string'),\n",
              " ('FLAG_OWN_CAR', 'string'),\n",
              " ('FLAG_OWN_REALTY', 'string'),\n",
              " ('CNT_CHILDREN', 'int'),\n",
              " ('AMT_INCOME_TOTAL', 'double'),\n",
              " ('AMT_CREDIT', 'double'),\n",
              " ('AMT_ANNUITY', 'double'),\n",
              " ('NAME_INCOME_TYPE', 'string'),\n",
              " ('NAME_EDUCATION_TYPE', 'string'),\n",
              " ('NAME_FAMILY_STATUS', 'string'),\n",
              " ('NAME_HOUSING_TYPE', 'string'),\n",
              " ('DAYS_BIRTH', 'int'),\n",
              " ('DAYS_EMPLOYED', 'int'),\n",
              " ('FLAG_MOBIL', 'int'),\n",
              " ('FLAG_EMP_PHONE', 'int'),\n",
              " ('FLAG_WORK_PHONE', 'int'),\n",
              " ('FLAG_CONT_MOBILE', 'int'),\n",
              " ('FLAG_PHONE', 'int'),\n",
              " ('CNT_FAM_MEMBERS', 'int'),\n",
              " ('REGION_RATING_CLIENT', 'int'),\n",
              " ('REGION_RATING_CLIENT_W_CITY', 'int'),\n",
              " ('REG_REGION_NOT_LIVE_REGION', 'int'),\n",
              " ('REG_REGION_NOT_WORK_REGION', 'int'),\n",
              " ('ORGANIZATION_TYPE', 'string'),\n",
              " ('FLAG_DOCUMENT_2', 'int'),\n",
              " ('FLAG_DOCUMENT_3', 'int'),\n",
              " ('FLAG_DOCUMENT_4', 'int'),\n",
              " ('FLAG_DOCUMENT_5', 'int'),\n",
              " ('FLAG_DOCUMENT_6', 'int'),\n",
              " ('FLAG_DOCUMENT_7', 'int'),\n",
              " ('FLAG_DOCUMENT_8', 'int'),\n",
              " ('FLAG_DOCUMENT_9', 'int'),\n",
              " ('FLAG_DOCUMENT_10', 'int'),\n",
              " ('FLAG_DOCUMENT_11', 'int'),\n",
              " ('FLAG_DOCUMENT_12', 'int')]"
            ]
          },
          "metadata": {},
          "execution_count": 9
        }
      ]
    },
    {
      "cell_type": "code",
      "source": [
        "from pyspark.sql.functions import col, sum\n",
        "dataframes = [df]\n",
        "for df in dataframes:\n",
        "    print(\"Null value counts for DataFrame:\")\n",
        "    for column_name in df.columns:\n",
        "        null_count = df.where(col(column_name).isNull()).count()\n",
        "        print(f\"Column '{column_name}': {null_count} null values\")\n",
        "    print(\"\\n\")"
      ],
      "metadata": {
        "colab": {
          "base_uri": "https://localhost:8080/"
        },
        "id": "DzverGWdjPDh",
        "outputId": "c839172a-da62-42a3-9844-bf7e045af323"
      },
      "execution_count": null,
      "outputs": [
        {
          "output_type": "stream",
          "name": "stdout",
          "text": [
            "Null value counts for DataFrame:\n",
            "Column 'TARGET': 0 null values\n",
            "Column 'NAME_CONTRACT_TYPE': 0 null values\n",
            "Column 'CODE_GENDER': 0 null values\n",
            "Column 'FLAG_OWN_CAR': 0 null values\n",
            "Column 'FLAG_OWN_REALTY': 0 null values\n",
            "Column 'CNT_CHILDREN': 0 null values\n",
            "Column 'AMT_INCOME_TOTAL': 0 null values\n",
            "Column 'AMT_CREDIT': 0 null values\n",
            "Column 'AMT_ANNUITY': 12 null values\n",
            "Column 'NAME_INCOME_TYPE': 0 null values\n",
            "Column 'NAME_EDUCATION_TYPE': 0 null values\n",
            "Column 'NAME_FAMILY_STATUS': 0 null values\n",
            "Column 'NAME_HOUSING_TYPE': 0 null values\n",
            "Column 'DAYS_BIRTH': 0 null values\n",
            "Column 'DAYS_EMPLOYED': 0 null values\n",
            "Column 'FLAG_MOBIL': 0 null values\n",
            "Column 'FLAG_EMP_PHONE': 0 null values\n",
            "Column 'FLAG_WORK_PHONE': 0 null values\n",
            "Column 'FLAG_CONT_MOBILE': 0 null values\n",
            "Column 'FLAG_PHONE': 0 null values\n",
            "Column 'CNT_FAM_MEMBERS': 2 null values\n",
            "Column 'REGION_RATING_CLIENT': 0 null values\n",
            "Column 'REGION_RATING_CLIENT_W_CITY': 0 null values\n",
            "Column 'REG_REGION_NOT_LIVE_REGION': 0 null values\n",
            "Column 'REG_REGION_NOT_WORK_REGION': 0 null values\n",
            "Column 'ORGANIZATION_TYPE': 0 null values\n",
            "Column 'FLAG_DOCUMENT_2': 0 null values\n",
            "Column 'FLAG_DOCUMENT_3': 0 null values\n",
            "Column 'FLAG_DOCUMENT_4': 0 null values\n",
            "Column 'FLAG_DOCUMENT_5': 0 null values\n",
            "Column 'FLAG_DOCUMENT_6': 0 null values\n",
            "Column 'FLAG_DOCUMENT_7': 0 null values\n",
            "Column 'FLAG_DOCUMENT_8': 0 null values\n",
            "Column 'FLAG_DOCUMENT_9': 0 null values\n",
            "Column 'FLAG_DOCUMENT_10': 0 null values\n",
            "Column 'FLAG_DOCUMENT_11': 0 null values\n",
            "Column 'FLAG_DOCUMENT_12': 0 null values\n",
            "\n",
            "\n"
          ]
        }
      ]
    },
    {
      "cell_type": "code",
      "source": [
        "from pyspark.sql.functions import col, when, median\n",
        "median_amt_annuity = df.select(median(col(\"AMT_ANNUITY\"))).first()[0]\n",
        "median_cnt_fam_members = df.select(median(col(\"CNT_FAM_MEMBERS\"))).first()[0]\n",
        "df = df.fillna({\n",
        "    \"AMT_ANNUITY\": median_amt_annuity,\n",
        "    \"CNT_FAM_MEMBERS\": median_cnt_fam_members\n",
        "})\n",
        "df_filled.show()\n"
      ],
      "metadata": {
        "colab": {
          "base_uri": "https://localhost:8080/"
        },
        "id": "F6DOm7GHkl7p",
        "outputId": "73d9f87a-c59b-411d-85a3-5c581505bd6a"
      },
      "execution_count": null,
      "outputs": [
        {
          "output_type": "stream",
          "name": "stdout",
          "text": [
            "+------+------------------+-----------+------------+---------------+------------+----------------+----------+-----------+--------------------+--------------------+--------------------+-----------------+----------+-------------+----------+--------------+---------------+----------------+----------+---------------+--------------------+---------------------------+--------------------------+--------------------------+--------------------+---------------+---------------+---------------+---------------+---------------+---------------+---------------+---------------+----------------+----------------+----------------+\n",
            "|TARGET|NAME_CONTRACT_TYPE|CODE_GENDER|FLAG_OWN_CAR|FLAG_OWN_REALTY|CNT_CHILDREN|AMT_INCOME_TOTAL|AMT_CREDIT|AMT_ANNUITY|    NAME_INCOME_TYPE| NAME_EDUCATION_TYPE|  NAME_FAMILY_STATUS|NAME_HOUSING_TYPE|DAYS_BIRTH|DAYS_EMPLOYED|FLAG_MOBIL|FLAG_EMP_PHONE|FLAG_WORK_PHONE|FLAG_CONT_MOBILE|FLAG_PHONE|CNT_FAM_MEMBERS|REGION_RATING_CLIENT|REGION_RATING_CLIENT_W_CITY|REG_REGION_NOT_LIVE_REGION|REG_REGION_NOT_WORK_REGION|   ORGANIZATION_TYPE|FLAG_DOCUMENT_2|FLAG_DOCUMENT_3|FLAG_DOCUMENT_4|FLAG_DOCUMENT_5|FLAG_DOCUMENT_6|FLAG_DOCUMENT_7|FLAG_DOCUMENT_8|FLAG_DOCUMENT_9|FLAG_DOCUMENT_10|FLAG_DOCUMENT_11|FLAG_DOCUMENT_12|\n",
            "+------+------------------+-----------+------------+---------------+------------+----------------+----------+-----------+--------------------+--------------------+--------------------+-----------------+----------+-------------+----------+--------------+---------------+----------------+----------+---------------+--------------------+---------------------------+--------------------------+--------------------------+--------------------+---------------+---------------+---------------+---------------+---------------+---------------+---------------+---------------+----------------+----------------+----------------+\n",
            "|     1|        Cash loans|          M|           N|              Y|           0|        202500.0|  406597.5|    24700.5|             Working|Secondary / secon...|Single / not married|House / apartment|     -9461|         -637|         1|             1|              0|               1|         1|              1|                   2|                          2|                         0|                         0|Business Entity T...|              0|              1|              0|              0|              0|              0|              0|              0|               0|               0|               0|\n",
            "|     0|        Cash loans|          F|           N|              N|           0|        270000.0| 1293502.5|    35698.5|       State servant|    Higher education|             Married|House / apartment|    -16765|        -1188|         1|             1|              0|               1|         1|              2|                   1|                          1|                         0|                         0|              School|              0|              1|              0|              0|              0|              0|              0|              0|               0|               0|               0|\n",
            "|     0|   Revolving loans|          M|           Y|              Y|           0|         67500.0|  135000.0|     6750.0|             Working|Secondary / secon...|Single / not married|House / apartment|    -19046|         -225|         1|             1|              1|               1|         1|              1|                   2|                          2|                         0|                         0|          Government|              0|              0|              0|              0|              0|              0|              0|              0|               0|               0|               0|\n",
            "|     0|        Cash loans|          F|           N|              Y|           0|        135000.0|  312682.5|    29686.5|             Working|Secondary / secon...|      Civil marriage|House / apartment|    -19005|        -3039|         1|             1|              0|               1|         0|              2|                   2|                          2|                         0|                         0|Business Entity T...|              0|              1|              0|              0|              0|              0|              0|              0|               0|               0|               0|\n",
            "|     0|        Cash loans|          M|           N|              Y|           0|        121500.0|  513000.0|    21865.5|             Working|Secondary / secon...|Single / not married|House / apartment|    -19932|        -3038|         1|             1|              0|               1|         0|              1|                   2|                          2|                         0|                         0|            Religion|              0|              0|              0|              0|              0|              0|              1|              0|               0|               0|               0|\n",
            "|     0|        Cash loans|          M|           N|              Y|           0|         99000.0|  490495.5|    27517.5|       State servant|Secondary / secon...|             Married|House / apartment|    -16941|        -1588|         1|             1|              1|               1|         1|              2|                   2|                          2|                         0|                         0|               Other|              0|              1|              0|              0|              0|              0|              0|              0|               0|               0|               0|\n",
            "|     0|        Cash loans|          F|           Y|              Y|           1|        171000.0| 1560726.0|    41301.0|Commercial associate|    Higher education|             Married|House / apartment|    -13778|        -3130|         1|             1|              0|               1|         1|              3|                   2|                          2|                         0|                         0|Business Entity T...|              0|              0|              0|              0|              0|              0|              1|              0|               0|               0|               0|\n",
            "|     0|        Cash loans|          M|           Y|              Y|           0|        360000.0| 1530000.0|    42075.0|       State servant|    Higher education|             Married|House / apartment|    -18850|         -449|         1|             1|              1|               1|         0|              2|                   3|                          3|                         0|                         0|               Other|              0|              1|              0|              0|              0|              0|              0|              0|               0|               0|               0|\n",
            "|     0|        Cash loans|          F|           N|              Y|           0|        112500.0| 1019610.0|    33826.5|           Pensioner|Secondary / secon...|             Married|House / apartment|    -20099|       365243|         1|             0|              0|               1|         0|              2|                   2|                          2|                         0|                         0|                 XNA|              0|              1|              0|              0|              0|              0|              0|              0|               0|               0|               0|\n",
            "|     0|   Revolving loans|          M|           N|              Y|           0|        135000.0|  405000.0|    20250.0|             Working|Secondary / secon...|Single / not married|House / apartment|    -14469|        -2019|         1|             1|              0|               1|         0|              1|                   2|                          2|                         0|                         0|         Electricity|              0|              0|              0|              0|              0|              0|              0|              0|               0|               0|               0|\n",
            "|     0|        Cash loans|          F|           N|              Y|           1|        112500.0|  652500.0|    21177.0|             Working|    Higher education|             Married|House / apartment|    -10197|         -679|         1|             1|              0|               1|         0|              3|                   2|                          2|                         0|                         0|            Medicine|              0|              1|              0|              0|              0|              0|              0|              0|               0|               0|               0|\n",
            "|     0|        Cash loans|          F|           N|              Y|           0|       38419.155|  148365.0|    10678.5|           Pensioner|Secondary / secon...|             Married|House / apartment|    -20417|       365243|         1|             0|              0|               1|         1|              2|                   2|                          2|                         0|                         0|                 XNA|              0|              0|              0|              0|              1|              0|              0|              0|               0|               0|               0|\n",
            "|     0|        Cash loans|          F|           N|              Y|           0|         67500.0|   80865.0|     5881.5|             Working|Secondary / secon...|             Married|House / apartment|    -13439|        -2717|         1|             1|              1|               1|         1|              2|                   2|                          2|                         0|                         0|Business Entity T...|              0|              1|              0|              0|              0|              0|              0|              0|               0|               0|               0|\n",
            "|     0|        Cash loans|          M|           Y|              N|           1|        225000.0|  918468.0|    28966.5|             Working|Secondary / secon...|             Married|House / apartment|    -14086|        -3028|         1|             1|              0|               1|         0|              3|                   2|                          2|                         0|                         0|       Self-employed|              0|              1|              0|              0|              0|              0|              0|              0|               0|               0|               0|\n",
            "|     0|        Cash loans|          F|           N|              Y|           0|        189000.0|  773680.5|    32778.0|             Working|Secondary / secon...|             Married|House / apartment|    -14583|         -203|         1|             1|              0|               1|         0|              2|                   2|                          1|                         0|                         0|   Transport: type 2|              0|              1|              0|              0|              0|              0|              0|              0|               0|               0|               0|\n",
            "|     0|        Cash loans|          M|           Y|              Y|           0|        157500.0|  299772.0|    20160.0|             Working|Secondary / secon...|Single / not married| Rented apartment|     -8728|        -1157|         1|             1|              0|               1|         0|              1|                   3|                          3|                         0|                         0|Business Entity T...|              0|              0|              0|              0|              0|              0|              1|              0|               0|               0|               0|\n",
            "|     0|        Cash loans|          M|           N|              N|           0|        108000.0|  509602.5|    26149.5|             Working|Secondary / secon...|             Married|House / apartment|    -12931|        -1317|         1|             1|              0|               1|         0|              2|                   2|                          2|                         0|                         0|          Government|              0|              1|              0|              0|              0|              0|              0|              0|               0|               0|               0|\n",
            "|     0|   Revolving loans|          F|           N|              Y|           1|         81000.0|  270000.0|    13500.0|             Working|Secondary / secon...|             Married|House / apartment|     -9776|         -191|         1|             1|              0|               1|         0|              3|                   2|                          2|                         0|                         0|        Construction|              0|              0|              0|              0|              0|              0|              0|              0|               0|               0|               0|\n",
            "|     0|   Revolving loans|          F|           N|              Y|           0|        112500.0|  157500.0|     7875.0|             Working|Secondary / secon...|               Widow|House / apartment|    -17718|        -7804|         1|             1|              0|               1|         1|              1|                   1|                          1|                         0|                         0|             Housing|              0|              1|              0|              0|              0|              0|              0|              0|               0|               0|               0|\n",
            "|     0|        Cash loans|          F|           N|              Y|           1|         90000.0|  544491.0|    17563.5|       State servant|    Higher education|Single / not married|House / apartment|    -11348|        -2038|         1|             1|              1|               1|         1|              2|                   2|                          2|                         0|                         0|        Kindergarten|              0|              1|              0|              0|              0|              0|              0|              0|               0|               0|               0|\n",
            "+------+------------------+-----------+------------+---------------+------------+----------------+----------+-----------+--------------------+--------------------+--------------------+-----------------+----------+-------------+----------+--------------+---------------+----------------+----------+---------------+--------------------+---------------------------+--------------------------+--------------------------+--------------------+---------------+---------------+---------------+---------------+---------------+---------------+---------------+---------------+----------------+----------------+----------------+\n",
            "only showing top 20 rows\n",
            "\n"
          ]
        }
      ]
    },
    {
      "cell_type": "code",
      "source": [
        "from pyspark.sql.functions import col, sum\n",
        "dataframes = [df]\n",
        "for df in dataframes:\n",
        "    print(\"Null value counts for DataFrame:\")\n",
        "    for column_name in df.columns:\n",
        "        null_count = df.where(col(column_name).isNull()).count()\n",
        "        print(f\"Column '{column_name}': {null_count} null values\")\n",
        "    print(\"\\n\")"
      ],
      "metadata": {
        "colab": {
          "base_uri": "https://localhost:8080/"
        },
        "id": "lbt0v-fXnFNF",
        "outputId": "b86ceaba-4c14-408d-e446-0375d7b859cb"
      },
      "execution_count": null,
      "outputs": [
        {
          "output_type": "stream",
          "name": "stdout",
          "text": [
            "Null value counts for DataFrame:\n",
            "Column 'TARGET': 0 null values\n",
            "Column 'NAME_CONTRACT_TYPE': 0 null values\n",
            "Column 'CODE_GENDER': 0 null values\n",
            "Column 'FLAG_OWN_CAR': 0 null values\n",
            "Column 'FLAG_OWN_REALTY': 0 null values\n",
            "Column 'CNT_CHILDREN': 0 null values\n",
            "Column 'AMT_INCOME_TOTAL': 0 null values\n",
            "Column 'AMT_CREDIT': 0 null values\n",
            "Column 'AMT_ANNUITY': 0 null values\n",
            "Column 'NAME_INCOME_TYPE': 0 null values\n",
            "Column 'NAME_EDUCATION_TYPE': 0 null values\n",
            "Column 'NAME_FAMILY_STATUS': 0 null values\n",
            "Column 'NAME_HOUSING_TYPE': 0 null values\n",
            "Column 'DAYS_BIRTH': 0 null values\n",
            "Column 'DAYS_EMPLOYED': 0 null values\n",
            "Column 'FLAG_MOBIL': 0 null values\n",
            "Column 'FLAG_EMP_PHONE': 0 null values\n",
            "Column 'FLAG_WORK_PHONE': 0 null values\n",
            "Column 'FLAG_CONT_MOBILE': 0 null values\n",
            "Column 'FLAG_PHONE': 0 null values\n",
            "Column 'CNT_FAM_MEMBERS': 0 null values\n",
            "Column 'REGION_RATING_CLIENT': 0 null values\n",
            "Column 'REGION_RATING_CLIENT_W_CITY': 0 null values\n",
            "Column 'REG_REGION_NOT_LIVE_REGION': 0 null values\n",
            "Column 'REG_REGION_NOT_WORK_REGION': 0 null values\n",
            "Column 'ORGANIZATION_TYPE': 0 null values\n",
            "Column 'FLAG_DOCUMENT_2': 0 null values\n",
            "Column 'FLAG_DOCUMENT_3': 0 null values\n",
            "Column 'FLAG_DOCUMENT_4': 0 null values\n",
            "Column 'FLAG_DOCUMENT_5': 0 null values\n",
            "Column 'FLAG_DOCUMENT_6': 0 null values\n",
            "Column 'FLAG_DOCUMENT_7': 0 null values\n",
            "Column 'FLAG_DOCUMENT_8': 0 null values\n",
            "Column 'FLAG_DOCUMENT_9': 0 null values\n",
            "Column 'FLAG_DOCUMENT_10': 0 null values\n",
            "Column 'FLAG_DOCUMENT_11': 0 null values\n",
            "Column 'FLAG_DOCUMENT_12': 0 null values\n",
            "\n",
            "\n"
          ]
        }
      ]
    },
    {
      "cell_type": "code",
      "source": [
        "from pyspark.sql import SparkSession\n",
        "from pyspark.sql.functions import *\n",
        "from pyspark.ml.feature import StringIndexer, VectorAssembler\n",
        "from pyspark.ml.classification import RandomForestClassifier\n",
        "from pyspark.ml import Pipeline\n",
        "from pyspark.ml.evaluation import BinaryClassificationEvaluator"
      ],
      "metadata": {
        "id": "QRE1pOeOsUTL"
      },
      "execution_count": null,
      "outputs": []
    },
    {
      "cell_type": "code",
      "source": [
        "indexers = [\n",
        "    StringIndexer(inputCol=col, outputCol=col + \"_index\")\n",
        "    for col in ['NAME_CONTRACT_TYPE', 'CODE_GENDER', 'FLAG_OWN_CAR', 'FLAG_OWN_REALTY', 'NAME_INCOME_TYPE', 'NAME_EDUCATION_TYPE', 'NAME_FAMILY_STATUS', 'NAME_HOUSING_TYPE']\n",
        "]\n",
        "encoder = OneHotEncoder(inputCols=[indexer.getOutputCol() for indexer in indexers], outputCols=[col + \"_encoded\" for col in ['NAME_CONTRACT_TYPE', 'CODE_GENDER', 'FLAG_OWN_CAR', 'FLAG_OWN_REALTY', 'NAME_INCOME_TYPE', 'NAME_EDUCATION_TYPE', 'NAME_FAMILY_STATUS', 'NAME_HOUSING_TYPE']])\n",
        "assembler = VectorAssembler(inputCols=encoder.getOutputCols() + ['AMT_INCOME_TOTAL', 'AMT_CREDIT', 'AMT_ANNUITY', 'DAYS_BIRTH', 'DAYS_EMPLOYED'], outputCol=\"features\")\n",
        "\n",
        "\n",
        "lr = LogisticRegression(featuresCol='features', labelCol='TARGET')\n",
        "pipeline = Pipeline(stages=indexers + [encoder, assembler, lr])\n",
        "model = pipeline.fit(df)\n",
        "\n",
        "# Train-Test Split (simplified)\n",
        "train_data, test_data = df.randomSplit([0.8, 0.2], seed=42)\n",
        "\n",
        "# Make Predictions\n",
        "predictions = model.transform(test_data)\n",
        "\n",
        "# Model Evaluation\n",
        "evaluator = BinaryClassificationEvaluator(labelCol='TARGET')\n",
        "auc = evaluator.evaluate(predictions)\n",
        "\n",
        "print(f\"AUC: {auc}\")\n",
        "\n",
        "# Stop Spark session\n",
        "spark.stop()"
      ],
      "metadata": {
        "colab": {
          "base_uri": "https://localhost:8080/"
        },
        "id": "gPZW-UvcyPQ5",
        "outputId": "9f17cecd-66a7-4776-9a81-03afb2d317cb"
      },
      "execution_count": null,
      "outputs": [
        {
          "output_type": "stream",
          "name": "stdout",
          "text": [
            "AUC: 0.6556402969015676\n"
          ]
        }
      ]
    },
    {
      "cell_type": "code",
      "source": [],
      "metadata": {
        "id": "6dhWDmX7ySQ1"
      },
      "execution_count": null,
      "outputs": []
    }
  ]
}