{
 "cells": [
  {
   "cell_type": "code",
   "execution_count": 2,
   "id": "dd1a9ef9",
   "metadata": {},
   "outputs": [],
   "source": [
    "from pyspark.sql import SparkSession # SparkSession is the entry point for using Spark's DataFrame and SQL functionalities.\n",
    "from pyspark.sql.functions import col #Is the entry point for using Spark's DataFrame and SQL functionalities.\n",
    "from pyspark import SparkContext as sc\n",
    "import findspark\n",
    "findspark.init()  #This code is used to automatically set up the necessary environment variables for Spark.\n",
    "from pyspark.ml.regression import LinearRegression\n",
    "from pyspark.ml.feature import VectorAssembler,StringIndexer\n",
    "from pyspark.ml.evaluation import RegressionEvaluator\n",
    "import seaborn as sns\n",
    "import matplotlib.pyplot as plt\n",
    "from pyspark_dist_explore import hist\n",
    "import numpy as np"
   ]
  },
  {
   "cell_type": "code",
   "execution_count": 9,
   "id": "6f623e41",
   "metadata": {},
   "outputs": [],
   "source": [
    "from IPython.display import display"
   ]
  },
  {
   "cell_type": "code",
   "execution_count": 3,
   "id": "5e2ade3f",
   "metadata": {},
   "outputs": [],
   "source": [
    "spark=SparkSession.builder.master(\"local\").appName(\"loan\").config(\"spark.some.config.option\",\"some-value\").getOrCreate()"
   ]
  },
  {
   "cell_type": "code",
   "execution_count": 11,
   "id": "9d4ceca8",
   "metadata": {},
   "outputs": [],
   "source": [
    "df=spark.read.option('header','true').option('inferSchema','true').csv('./Dataset/application_train.csv')"
   ]
  },
  {
   "cell_type": "code",
   "execution_count": 12,
   "id": "ba1602aa",
   "metadata": {},
   "outputs": [
    {
     "name": "stdout",
     "output_type": "stream",
     "text": [
      "['TARGET', 'NAME_CONTRACT_TYPE', 'CODE_GENDER', 'FLAG_OWN_CAR', 'FLAG_OWN_REALTY', 'CNT_CHILDREN', 'AMT_INCOME_TOTAL', 'AMT_CREDIT', 'AMT_ANNUITY', 'NAME_INCOME_TYPE', 'NAME_EDUCATION_TYPE', 'NAME_FAMILY_STATUS', 'NAME_HOUSING_TYPE', 'DAYS_BIRTH', 'DAYS_EMPLOYED', 'FLAG_MOBIL', 'FLAG_EMP_PHONE', 'FLAG_WORK_PHONE', 'FLAG_CONT_MOBILE', 'FLAG_PHONE', 'CNT_FAM_MEMBERS', 'REGION_RATING_CLIENT', 'REGION_RATING_CLIENT_W_CITY', 'REG_REGION_NOT_LIVE_REGION', 'REG_REGION_NOT_WORK_REGION', 'ORGANIZATION_TYPE', 'FLAG_DOCUMENT_2', 'FLAG_DOCUMENT_3', 'FLAG_DOCUMENT_4', 'FLAG_DOCUMENT_5', 'FLAG_DOCUMENT_6', 'FLAG_DOCUMENT_7', 'FLAG_DOCUMENT_8', 'FLAG_DOCUMENT_9', 'FLAG_DOCUMENT_10', 'FLAG_DOCUMENT_11', 'FLAG_DOCUMENT_12']\n"
     ]
    }
   ],
   "source": [
    "print(df.columns)"
   ]
  },
  {
   "cell_type": "code",
   "execution_count": 16,
   "id": "8d03fc0d",
   "metadata": {
    "scrolled": true
   },
   "outputs": [
    {
     "name": "stdout",
     "output_type": "stream",
     "text": [
      "+------+------------------+-----------+------------+---------------+------------+----------------+----------+-----------+----------------+--------------------+--------------------+-----------------+----------+-------------+----------+--------------+---------------+----------------+----------+---------------+--------------------+---------------------------+--------------------------+--------------------------+--------------------+---------------+---------------+---------------+---------------+---------------+---------------+---------------+---------------+----------------+----------------+----------------+\n",
      "|TARGET|NAME_CONTRACT_TYPE|CODE_GENDER|FLAG_OWN_CAR|FLAG_OWN_REALTY|CNT_CHILDREN|AMT_INCOME_TOTAL|AMT_CREDIT|AMT_ANNUITY|NAME_INCOME_TYPE| NAME_EDUCATION_TYPE|  NAME_FAMILY_STATUS|NAME_HOUSING_TYPE|DAYS_BIRTH|DAYS_EMPLOYED|FLAG_MOBIL|FLAG_EMP_PHONE|FLAG_WORK_PHONE|FLAG_CONT_MOBILE|FLAG_PHONE|CNT_FAM_MEMBERS|REGION_RATING_CLIENT|REGION_RATING_CLIENT_W_CITY|REG_REGION_NOT_LIVE_REGION|REG_REGION_NOT_WORK_REGION|   ORGANIZATION_TYPE|FLAG_DOCUMENT_2|FLAG_DOCUMENT_3|FLAG_DOCUMENT_4|FLAG_DOCUMENT_5|FLAG_DOCUMENT_6|FLAG_DOCUMENT_7|FLAG_DOCUMENT_8|FLAG_DOCUMENT_9|FLAG_DOCUMENT_10|FLAG_DOCUMENT_11|FLAG_DOCUMENT_12|\n",
      "+------+------------------+-----------+------------+---------------+------------+----------------+----------+-----------+----------------+--------------------+--------------------+-----------------+----------+-------------+----------+--------------+---------------+----------------+----------+---------------+--------------------+---------------------------+--------------------------+--------------------------+--------------------+---------------+---------------+---------------+---------------+---------------+---------------+---------------+---------------+----------------+----------------+----------------+\n",
      "|     1|        Cash loans|          M|           N|              Y|           0|        202500.0|  406597.5|    24700.5|         Working|Secondary / secon...|Single / not married|House / apartment|     -9461|         -637|         1|             1|              0|               1|         1|              1|                   2|                          2|                         0|                         0|Business Entity T...|              0|              1|              0|              0|              0|              0|              0|              0|               0|               0|               0|\n",
      "|     0|        Cash loans|          F|           N|              N|           0|        270000.0| 1293502.5|    35698.5|   State servant|    Higher education|             Married|House / apartment|    -16765|        -1188|         1|             1|              0|               1|         1|              2|                   1|                          1|                         0|                         0|              School|              0|              1|              0|              0|              0|              0|              0|              0|               0|               0|               0|\n",
      "|     0|   Revolving loans|          M|           Y|              Y|           0|         67500.0|  135000.0|     6750.0|         Working|Secondary / secon...|Single / not married|House / apartment|    -19046|         -225|         1|             1|              1|               1|         1|              1|                   2|                          2|                         0|                         0|          Government|              0|              0|              0|              0|              0|              0|              0|              0|               0|               0|               0|\n",
      "|     0|        Cash loans|          F|           N|              Y|           0|        135000.0|  312682.5|    29686.5|         Working|Secondary / secon...|      Civil marriage|House / apartment|    -19005|        -3039|         1|             1|              0|               1|         0|              2|                   2|                          2|                         0|                         0|Business Entity T...|              0|              1|              0|              0|              0|              0|              0|              0|               0|               0|               0|\n",
      "|     0|        Cash loans|          M|           N|              Y|           0|        121500.0|  513000.0|    21865.5|         Working|Secondary / secon...|Single / not married|House / apartment|    -19932|        -3038|         1|             1|              0|               1|         0|              1|                   2|                          2|                         0|                         0|            Religion|              0|              0|              0|              0|              0|              0|              1|              0|               0|               0|               0|\n",
      "+------+------------------+-----------+------------+---------------+------------+----------------+----------+-----------+----------------+--------------------+--------------------+-----------------+----------+-------------+----------+--------------+---------------+----------------+----------+---------------+--------------------+---------------------------+--------------------------+--------------------------+--------------------+---------------+---------------+---------------+---------------+---------------+---------------+---------------+---------------+----------------+----------------+----------------+\n",
      "only showing top 5 rows\n",
      "\n"
     ]
    },
    {
     "data": {
      "text/plain": [
       "None"
      ]
     },
     "metadata": {},
     "output_type": "display_data"
    }
   ],
   "source": [
    "display(df.show(5))"
   ]
  },
  {
   "cell_type": "code",
   "execution_count": null,
   "id": "c3600ae8",
   "metadata": {},
   "outputs": [],
   "source": [
    "zzz"
   ]
  }
 ],
 "metadata": {
  "kernelspec": {
   "display_name": "Python 3 (ipykernel)",
   "language": "python",
   "name": "python3"
  },
  "language_info": {
   "codemirror_mode": {
    "name": "ipython",
    "version": 3
   },
   "file_extension": ".py",
   "mimetype": "text/x-python",
   "name": "python",
   "nbconvert_exporter": "python",
   "pygments_lexer": "ipython3",
   "version": "3.9.16"
  }
 },
 "nbformat": 4,
 "nbformat_minor": 5
}
