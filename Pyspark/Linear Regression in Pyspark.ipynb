{
 "cells": [
  {
   "cell_type": "code",
   "execution_count": null,
   "metadata": {
    "colab": {
     "base_uri": "https://localhost:8080/"
    },
    "id": "ks6M3SPKENGi",
    "outputId": "64ce7f1d-d981-49d6-c49b-1684042a2a1d"
   },
   "outputs": [
    {
     "name": "stdout",
     "output_type": "stream",
     "text": [
      "Collecting pyspark\n",
      "  Downloading pyspark-3.4.1.tar.gz (310.8 MB)\n",
      "\u001b[2K     \u001b[90m━━━━━━━━━━━━━━━━━━━━━━━━━━━━━━━━━━━━━━━\u001b[0m \u001b[32m310.8/310.8 MB\u001b[0m \u001b[31m4.1 MB/s\u001b[0m eta \u001b[36m0:00:00\u001b[0m\n",
      "\u001b[?25h  Preparing metadata (setup.py) ... \u001b[?25l\u001b[?25hdone\n",
      "Requirement already satisfied: py4j==0.10.9.7 in /usr/local/lib/python3.10/dist-packages (from pyspark) (0.10.9.7)\n",
      "Building wheels for collected packages: pyspark\n",
      "  Building wheel for pyspark (setup.py) ... \u001b[?25l\u001b[?25hdone\n",
      "  Created wheel for pyspark: filename=pyspark-3.4.1-py2.py3-none-any.whl size=311285388 sha256=4fa3d1365532cc80ce8b659bd3d1b522ea665f4c236afbe948734a1670c6eb4c\n",
      "  Stored in directory: /root/.cache/pip/wheels/0d/77/a3/ff2f74cc9ab41f8f594dabf0579c2a7c6de920d584206e0834\n",
      "Successfully built pyspark\n",
      "Installing collected packages: pyspark\n",
      "Successfully installed pyspark-3.4.1\n"
     ]
    }
   ],
   "source": [
    "pip install pyspark"
   ]
  },
  {
   "cell_type": "code",
   "execution_count": null,
   "metadata": {
    "colab": {
     "base_uri": "https://localhost:8080/"
    },
    "id": "UvriXvEPEI8V",
    "outputId": "984a90a6-0352-4fc2-f31d-697c0fe4d8d9"
   },
   "outputs": [
    {
     "name": "stdout",
     "output_type": "stream",
     "text": [
      "Collecting findspark\n",
      "  Downloading findspark-2.0.1-py2.py3-none-any.whl (4.4 kB)\n",
      "Installing collected packages: findspark\n",
      "Successfully installed findspark-2.0.1\n"
     ]
    }
   ],
   "source": [
    "pip install findspark"
   ]
  },
  {
   "cell_type": "code",
   "execution_count": null,
   "metadata": {
    "id": "IpmK9IWADFPM"
   },
   "outputs": [],
   "source": [
    "from pyspark.sql import SparkSession # SparkSession is the entry point for using Spark's DataFrame and SQL functionalities.\n",
    "from pyspark.sql.functions import col #Is the entry point for using Spark's DataFrame and SQL functionalities.\n",
    "from pyspark import SparkContext as sc\n",
    "import findspark\n",
    "findspark.init()  #This code is used to automatically set up the necessary environment variables for Spark.\n",
    "from pyspark.ml.regression import LinearRegression\n",
    "from pyspark.ml.feature import VectorAssembler,StringIndexer\n",
    "from pyspark.ml.evaluation import RegressionEvaluator\n",
    "import seaborn as sns\n",
    "import matplotlib.pyplot as plt\n",
    "from pyspark_dist_explore import hist\n",
    "import numpy as np\n"
   ]
  },
  {
   "cell_type": "code",
   "execution_count": null,
   "metadata": {
    "id": "SEpju9qoEdu4"
   },
   "outputs": [],
   "source": [
    "spark = SparkSession.builder.master(\"local\").appName(\"Player\").config(\"sprak.some.option\",\"some-value\").getOrCreate()"
   ]
  },
  {
   "cell_type": "code",
   "execution_count": null,
   "metadata": {
    "id": "Dl5R8piqFcFI"
   },
   "outputs": [],
   "source": [
    "df = spark.read.option('header','true').option('inferSchema','true').option('delimiter',';').csv('/content/2021-2022 NBA Player Stats - Playoffs.csv')"
   ]
  },
  {
   "cell_type": "code",
   "execution_count": null,
   "metadata": {
    "colab": {
     "base_uri": "https://localhost:8080/"
    },
    "id": "PyH0W6I6GuPQ",
    "outputId": "23636e2b-bd3b-4b4c-fecc-8a597306e88b"
   },
   "outputs": [
    {
     "name": "stdout",
     "output_type": "stream",
     "text": [
      "['Rk', 'Player', 'Pos', 'Age', 'Tm', 'G', 'GS', 'MP', 'FG', 'FGA', 'FG%', '3P', '3PA', '3P%', '2P', '2PA', '2P%', 'eFG%', 'FT', 'FTA', 'FT%', 'ORB', 'DRB', 'TRB', 'AST', 'STL', 'BLK', 'TOV', 'PF', 'PTS']\n"
     ]
    }
   ],
   "source": [
    "print(df.columns)"
   ]
  },
  {
   "cell_type": "code",
   "execution_count": null,
   "metadata": {
    "colab": {
     "base_uri": "https://localhost:8080/"
    },
    "id": "0cq_bpo-KDIU",
    "outputId": "d63c1070-23e3-4f58-eb01-10c964c871e1"
   },
   "outputs": [
    {
     "name": "stdout",
     "output_type": "stream",
     "text": [
      "Number of rows: 217\n",
      "Number of columns: 30\n"
     ]
    }
   ],
   "source": [
    "num_rows = df.count()\n",
    "num_columns = len(df.columns)\n",
    "\n",
    "print(\"Number of rows:\", num_rows)\n",
    "print(\"Number of columns:\", num_columns)"
   ]
  },
  {
   "cell_type": "code",
   "execution_count": null,
   "metadata": {
    "colab": {
     "base_uri": "https://localhost:8080/"
    },
    "id": "xqp0KElqIsJi",
    "outputId": "808afe64-ebdd-4adf-da6b-716c35b4ff18"
   },
   "outputs": [
    {
     "name": "stdout",
     "output_type": "stream",
     "text": [
      "+---+--------------------+---+---+---+---+---+----+---+---+-----+---+---+-----+---+---+-----+-----+---+---+-----+---+---+---+---+---+---+---+---+----+\n",
      "| Rk|              Player|Pos|Age| Tm|  G| GS|  MP| FG|FGA|  FG%| 3P|3PA|  3P%| 2P|2PA|  2P%| eFG%| FT|FTA|  FT%|ORB|DRB|TRB|AST|STL|BLK|TOV| PF| PTS|\n",
      "+---+--------------------+---+---+---+---+---+----+---+---+-----+---+---+-----+---+---+-----+-----+---+---+-----+---+---+---+---+---+---+---+---+----+\n",
      "|  1|    Precious Achiuwa|  C| 22|TOR|  6|  1|27.8|4.2|8.7|0.481|0.8|2.7|0.313|3.3|6.0|0.556|0.529|1.0|1.7|  0.6|1.3|3.5|4.8|1.0|0.2|0.8|1.5|2.3|10.2|\n",
      "|  2|        Steven Adams|  C| 28|MEM|  7|  5|16.3|1.3|3.0|0.429|0.0|0.0|  0.0|1.3|3.0|0.429|0.429|0.9|1.6|0.545|2.1|4.3|6.4|2.1|0.1|0.1|0.6|1.7| 3.4|\n",
      "|  3|         Bam Adebayo|  C| 24|MIA| 18| 18|34.1|5.8|9.7|0.594|0.0|0.1|  0.0|5.8|9.7|0.598|0.594|3.2|4.2|0.763|2.1|5.9|8.0|2.7|1.0|0.7|2.1|3.1|14.8|\n",
      "|  4|Nickeil Alexander...| SG| 23|UTA|  1|  0| 5.0|2.0|2.0|  1.0|0.0|0.0|  0.0|2.0|2.0|  1.0|  1.0|1.0|1.0|  1.0|0.0|1.0|1.0|1.0|1.0|0.0|0.0|0.0| 5.0|\n",
      "|  5|       Grayson Allen| SG| 26|MIL| 12|  5|25.4|3.1|6.8|0.451|1.6|4.0|0.396|1.5|2.8|0.529|0.567|0.6|0.9|0.636|0.4|2.5|2.9|1.3|0.7|0.3|0.8|1.8| 8.3|\n",
      "+---+--------------------+---+---+---+---+---+----+---+---+-----+---+---+-----+---+---+-----+-----+---+---+-----+---+---+---+---+---+---+---+---+----+\n",
      "only showing top 5 rows\n",
      "\n"
     ]
    }
   ],
   "source": [
    "df.show(5)"
   ]
  },
  {
   "cell_type": "code",
   "execution_count": null,
   "metadata": {
    "colab": {
     "base_uri": "https://localhost:8080/"
    },
    "id": "C_QDslmhHC0E",
    "outputId": "522d9e17-ed84-4560-81be-b275a09e3f57"
   },
   "outputs": [
    {
     "name": "stdout",
     "output_type": "stream",
     "text": [
      "root\n",
      " |-- Rk: integer (nullable = true)\n",
      " |-- Player: string (nullable = true)\n",
      " |-- Pos: string (nullable = true)\n",
      " |-- Age: integer (nullable = true)\n",
      " |-- Tm: string (nullable = true)\n",
      " |-- G: integer (nullable = true)\n",
      " |-- GS: integer (nullable = true)\n",
      " |-- MP: double (nullable = true)\n",
      " |-- FG: double (nullable = true)\n",
      " |-- FGA: double (nullable = true)\n",
      " |-- FG%: double (nullable = true)\n",
      " |-- 3P: double (nullable = true)\n",
      " |-- 3PA: double (nullable = true)\n",
      " |-- 3P%: double (nullable = true)\n",
      " |-- 2P: double (nullable = true)\n",
      " |-- 2PA: double (nullable = true)\n",
      " |-- 2P%: double (nullable = true)\n",
      " |-- eFG%: double (nullable = true)\n",
      " |-- FT: double (nullable = true)\n",
      " |-- FTA: double (nullable = true)\n",
      " |-- FT%: double (nullable = true)\n",
      " |-- ORB: double (nullable = true)\n",
      " |-- DRB: double (nullable = true)\n",
      " |-- TRB: double (nullable = true)\n",
      " |-- AST: double (nullable = true)\n",
      " |-- STL: double (nullable = true)\n",
      " |-- BLK: double (nullable = true)\n",
      " |-- TOV: double (nullable = true)\n",
      " |-- PF: double (nullable = true)\n",
      " |-- PTS: double (nullable = true)\n",
      "\n"
     ]
    }
   ],
   "source": [
    "df.printSchema()"
   ]
  },
  {
   "cell_type": "code",
   "execution_count": null,
   "metadata": {
    "colab": {
     "base_uri": "https://localhost:8080/"
    },
    "id": "KbeviccoKxfT",
    "outputId": "6be668c2-cefe-43e0-8100-6f6c8731e3b5"
   },
   "outputs": [
    {
     "data": {
      "text/plain": [
       "[('Rk', 'int'),\n",
       " ('Player', 'string'),\n",
       " ('Pos', 'string'),\n",
       " ('Age', 'int'),\n",
       " ('Tm', 'string'),\n",
       " ('G', 'int'),\n",
       " ('GS', 'int'),\n",
       " ('MP', 'double'),\n",
       " ('FG', 'double'),\n",
       " ('FGA', 'double'),\n",
       " ('FG%', 'double'),\n",
       " ('3P', 'double'),\n",
       " ('3PA', 'double'),\n",
       " ('3P%', 'double'),\n",
       " ('2P', 'double'),\n",
       " ('2PA', 'double'),\n",
       " ('2P%', 'double'),\n",
       " ('eFG%', 'double'),\n",
       " ('FT', 'double'),\n",
       " ('FTA', 'double'),\n",
       " ('FT%', 'double'),\n",
       " ('ORB', 'double'),\n",
       " ('DRB', 'double'),\n",
       " ('TRB', 'double'),\n",
       " ('AST', 'double'),\n",
       " ('STL', 'double'),\n",
       " ('BLK', 'double'),\n",
       " ('TOV', 'double'),\n",
       " ('PF', 'double'),\n",
       " ('PTS', 'double')]"
      ]
     },
     "execution_count": 24,
     "metadata": {},
     "output_type": "execute_result"
    }
   ],
   "source": [
    "df.dtypes"
   ]
  },
  {
   "cell_type": "code",
   "execution_count": null,
   "metadata": {
    "colab": {
     "base_uri": "https://localhost:8080/"
    },
    "id": "AdjFS4dIKL95",
    "outputId": "927bea2e-2b8a-41c9-aa57-11941c079069"
   },
   "outputs": [
    {
     "name": "stdout",
     "output_type": "stream",
     "text": [
      "Column: Rk, Data Type: int\n",
      "Column: Player, Data Type: string\n",
      "Column: Pos, Data Type: string\n",
      "Column: Age, Data Type: int\n",
      "Column: Tm, Data Type: string\n",
      "Column: G, Data Type: int\n",
      "Column: GS, Data Type: int\n",
      "Column: MP, Data Type: double\n",
      "Column: FG, Data Type: double\n",
      "Column: FGA, Data Type: double\n",
      "Column: FG%, Data Type: double\n",
      "Column: 3P, Data Type: double\n",
      "Column: 3PA, Data Type: double\n",
      "Column: 3P%, Data Type: double\n",
      "Column: 2P, Data Type: double\n",
      "Column: 2PA, Data Type: double\n",
      "Column: 2P%, Data Type: double\n",
      "Column: eFG%, Data Type: double\n",
      "Column: FT, Data Type: double\n",
      "Column: FTA, Data Type: double\n",
      "Column: FT%, Data Type: double\n",
      "Column: ORB, Data Type: double\n",
      "Column: DRB, Data Type: double\n",
      "Column: TRB, Data Type: double\n",
      "Column: AST, Data Type: double\n",
      "Column: STL, Data Type: double\n",
      "Column: BLK, Data Type: double\n",
      "Column: TOV, Data Type: double\n",
      "Column: PF, Data Type: double\n",
      "Column: PTS, Data Type: double\n"
     ]
    }
   ],
   "source": [
    "data_types = df.dtypes\n",
    "for column_name, data_type in data_types:\n",
    "    print(f\"Column: {column_name}, Data Type: {data_type}\")"
   ]
  },
  {
   "cell_type": "code",
   "execution_count": null,
   "metadata": {
    "colab": {
     "base_uri": "https://localhost:8080/"
    },
    "id": "7StzqQzhJLcn",
    "outputId": "32927c35-8f43-47ee-b927-955f9326addb"
   },
   "outputs": [
    {
     "name": "stdout",
     "output_type": "stream",
     "text": [
      "+-------+-----------------+---------------+----+------------------+----+-----------------+-----------------+------------------+------------------+-----------------+-------------------+------------------+-----------------+-------------------+-----------------+-----------------+------------------+-------------------+------------------+------------------+------------------+------------------+------------------+------------------+------------------+------------------+------------------+------------------+------------------+-----------------+\n",
      "|summary|               Rk|         Player| Pos|               Age|  Tm|                G|               GS|                MP|                FG|              FGA|                FG%|                3P|              3PA|                3P%|               2P|              2PA|               2P%|               eFG%|                FT|               FTA|               FT%|               ORB|               DRB|               TRB|               AST|               STL|               BLK|               TOV|                PF|              PTS|\n",
      "+-------+-----------------+---------------+----+------------------+----+-----------------+-----------------+------------------+------------------+-----------------+-------------------+------------------+-----------------+-------------------+-----------------+-----------------+------------------+-------------------+------------------+------------------+------------------+------------------+------------------+------------------+------------------+------------------+------------------+------------------+------------------+-----------------+\n",
      "|  count|              217|            217| 217|               217| 217|              217|              217|               217|               217|              217|                217|               217|              217|                217|              217|              217|               217|                217|               217|               217|               217|               217|               217|               217|               217|               217|               217|               217|               217|              217|\n",
      "|   mean|            109.0|           null|null|26.589861751152075|null|8.714285714285714|4.009216589861751| 19.42903225806451|3.0451612903225804|6.737788018433182|0.43751612903225834|0.9345622119815661|2.700460829493089| 0.2733179723502303|2.111981566820278| 4.03778801843318|0.4950000000000003| 0.5043963133640555|1.4423963133640554|1.8331797235023046|0.6232488479262673|0.7737327188940093|2.6267281105990787| 3.404147465437788|1.8285714285714292|0.5847926267281106|0.3612903225806449|1.0857142857142856| 1.784331797235024|8.457142857142856|\n",
      "| stddev|62.78667586890284|           null|null| 4.238545400302844|null|5.802412379173806| 5.94417765502835|12.879891572894172|2.6998434619872618|5.865455264074204|0.18458050779814292| 0.969322939082802|2.538454212045791|0.20106060284922012|2.160234949420012|4.094276797175884|0.2224426684355786|0.20576984982610283|1.7959186676258716|2.2167931313034988| 0.344243108017645|0.8489652647915967|2.2038108586568663|2.8423600223532186|2.0071202619752877| 0.499628638332191|0.4534581053256668| 1.126790168867338|1.1758108473135382|7.625417847862331|\n",
      "|    min|                1|   Aaron Gordon|   C|                19| ATL|                1|                0|               0.0|               0.0|              0.0|                0.0|               0.0|              0.0|                0.0|              0.0|              0.0|               0.0|                0.0|               0.0|               0.0|               0.0|               0.0|               0.0|               0.0|               0.0|               0.0|               0.0|               0.0|               0.0|              0.0|\n",
      "|    max|              217|Ziaire Williams|  SG|                38| UTA|               24|               24|              44.0|              12.2|             23.8|                1.0|               4.1|             10.4|                1.0|             11.2|             20.3|               1.0|                1.5|               8.5|              11.2|               1.0|               5.5|              12.0|              14.3|               9.8|               2.1|               2.5|               6.2|               4.7|             31.7|\n",
      "+-------+-----------------+---------------+----+------------------+----+-----------------+-----------------+------------------+------------------+-----------------+-------------------+------------------+-----------------+-------------------+-----------------+-----------------+------------------+-------------------+------------------+------------------+------------------+------------------+------------------+------------------+------------------+------------------+------------------+------------------+------------------+-----------------+\n",
      "\n"
     ]
    }
   ],
   "source": [
    "descriptive_stats = df.describe()\n",
    "descriptive_stats.show()"
   ]
  },
  {
   "cell_type": "code",
   "execution_count": null,
   "metadata": {
    "colab": {
     "base_uri": "https://localhost:8080/"
    },
    "id": "8HjP8qtSJvb5",
    "outputId": "a888e041-1d4d-4f76-aad1-50c973dd322c"
   },
   "outputs": [
    {
     "data": {
      "text/plain": [
       "31"
      ]
     },
     "execution_count": 22,
     "metadata": {},
     "output_type": "execute_result"
    }
   ],
   "source": [
    "len(descriptive_stats.columns)"
   ]
  },
  {
   "cell_type": "code",
   "execution_count": null,
   "metadata": {
    "colab": {
     "base_uri": "https://localhost:8080/"
    },
    "id": "UntplC2sK0-h",
    "outputId": "78e633a2-ca37-4049-c447-bf2709ae7505"
   },
   "outputs": [
    {
     "name": "stdout",
     "output_type": "stream",
     "text": [
      "+---+------+---+---+---+---+---+---+---+---+---+---+---+---+---+---+---+----+---+---+---+---+---+---+---+---+---+---+---+---+\n",
      "| Rk|Player|Pos|Age| Tm|  G| GS| MP| FG|FGA|FG%| 3P|3PA|3P%| 2P|2PA|2P%|eFG%| FT|FTA|FT%|ORB|DRB|TRB|AST|STL|BLK|TOV| PF|PTS|\n",
      "+---+------+---+---+---+---+---+---+---+---+---+---+---+---+---+---+---+----+---+---+---+---+---+---+---+---+---+---+---+---+\n",
      "|  0|     0|  0|  0|  0|  0|  0|  0|  0|  0|  0|  0|  0|  0|  0|  0|  0|   0|  0|  0|  0|  0|  0|  0|  0|  0|  0|  0|  0|  0|\n",
      "+---+------+---+---+---+---+---+---+---+---+---+---+---+---+---+---+---+----+---+---+---+---+---+---+---+---+---+---+---+---+\n",
      "\n"
     ]
    }
   ],
   "source": [
    "missing_values = df.select([sum(col(c).isNull().cast(\"int\")).alias(c) for c in df.columns])\n",
    "missing_values.show()"
   ]
  },
  {
   "cell_type": "code",
   "execution_count": null,
   "metadata": {
    "colab": {
     "base_uri": "https://localhost:8080/"
    },
    "id": "o7n8squZLNl-",
    "outputId": "a3fee39f-0af7-4a5a-a7e6-4eca4e7f7def"
   },
   "outputs": [
    {
     "name": "stdout",
     "output_type": "stream",
     "text": [
      "Unique values in column 'Rk':\n",
      "+---+\n",
      "| Rk|\n",
      "+---+\n",
      "|148|\n",
      "| 31|\n",
      "| 85|\n",
      "|137|\n",
      "| 65|\n",
      "| 53|\n",
      "|133|\n",
      "| 78|\n",
      "|108|\n",
      "|155|\n",
      "| 34|\n",
      "|193|\n",
      "|211|\n",
      "|101|\n",
      "|115|\n",
      "|126|\n",
      "| 81|\n",
      "| 28|\n",
      "|183|\n",
      "|210|\n",
      "+---+\n",
      "only showing top 20 rows\n",
      "\n",
      "Unique values in column 'Player':\n",
      "+--------------------+\n",
      "|              Player|\n",
      "+--------------------+\n",
      "|      Brandon Ingram|\n",
      "|      Svi Mykhailiuk|\n",
      "|         Zach LaVine|\n",
      "|Timoth� Luwawu-Ca...|\n",
      "|       Javonte Green|\n",
      "|           Ja Morant|\n",
      "|          Seth Curry|\n",
      "| Dorian Finney-Smith|\n",
      "|       Armoni Brooks|\n",
      "|         Brook Lopez|\n",
      "|      Jaden Springer|\n",
      "|     Pat Connaughton|\n",
      "|          Khem Birch|\n",
      "|       Cameron Payne|\n",
      "|         Serge Ibaka|\n",
      "|   Derrick Jones Jr.|\n",
      "|       Deandre Ayton|\n",
      "|    Patrick Beverley|\n",
      "|         Bruce Brown|\n",
      "|     Bismack Biyombo|\n",
      "+--------------------+\n",
      "only showing top 20 rows\n",
      "\n",
      "Unique values in column 'Pos':\n",
      "+---+\n",
      "|Pos|\n",
      "+---+\n",
      "| PF|\n",
      "| PG|\n",
      "| SF|\n",
      "|  C|\n",
      "| SG|\n",
      "+---+\n",
      "\n",
      "Unique values in column 'Age':\n",
      "+---+\n",
      "|Age|\n",
      "+---+\n",
      "| 31|\n",
      "| 34|\n",
      "| 28|\n",
      "| 26|\n",
      "| 27|\n",
      "| 22|\n",
      "| 20|\n",
      "| 19|\n",
      "| 35|\n",
      "| 23|\n",
      "| 38|\n",
      "| 25|\n",
      "| 24|\n",
      "| 29|\n",
      "| 21|\n",
      "| 32|\n",
      "| 33|\n",
      "| 30|\n",
      "| 36|\n",
      "+---+\n",
      "\n",
      "Unique values in column 'Tm':\n",
      "+---+\n",
      "| Tm|\n",
      "+---+\n",
      "|GSW|\n",
      "|UTA|\n",
      "|BOS|\n",
      "|TOR|\n",
      "|DEN|\n",
      "|BRK|\n",
      "|DAL|\n",
      "|MIA|\n",
      "|PHO|\n",
      "|MIN|\n",
      "|MEM|\n",
      "|ATL|\n",
      "|PHI|\n",
      "|NOP|\n",
      "|CHI|\n",
      "|MIL|\n",
      "+---+\n",
      "\n",
      "Unique values in column 'G':\n",
      "+---+\n",
      "|  G|\n",
      "+---+\n",
      "| 12|\n",
      "| 22|\n",
      "|  1|\n",
      "| 13|\n",
      "|  6|\n",
      "| 16|\n",
      "|  3|\n",
      "|  5|\n",
      "| 19|\n",
      "| 15|\n",
      "|  9|\n",
      "| 17|\n",
      "|  4|\n",
      "|  8|\n",
      "| 23|\n",
      "|  7|\n",
      "| 10|\n",
      "| 24|\n",
      "| 21|\n",
      "| 11|\n",
      "+---+\n",
      "only showing top 20 rows\n",
      "\n",
      "Unique values in column 'GS':\n",
      "+---+\n",
      "| GS|\n",
      "+---+\n",
      "| 12|\n",
      "| 22|\n",
      "|  1|\n",
      "| 13|\n",
      "|  6|\n",
      "|  3|\n",
      "|  5|\n",
      "| 15|\n",
      "| 17|\n",
      "|  9|\n",
      "|  4|\n",
      "|  8|\n",
      "| 23|\n",
      "| 10|\n",
      "| 24|\n",
      "| 21|\n",
      "| 11|\n",
      "|  2|\n",
      "|  0|\n",
      "| 18|\n",
      "+---+\n",
      "\n",
      "Unique values in column 'MP':\n",
      "+----+\n",
      "|  MP|\n",
      "+----+\n",
      "|15.4|\n",
      "| 2.4|\n",
      "|32.3|\n",
      "|24.7|\n",
      "| 0.0|\n",
      "|43.3|\n",
      "|11.4|\n",
      "|16.6|\n",
      "| 7.0|\n",
      "|11.5|\n",
      "|36.2|\n",
      "| 3.5|\n",
      "|38.5|\n",
      "| 7.7|\n",
      "|26.6|\n",
      "|34.7|\n",
      "| 8.7|\n",
      "|28.8|\n",
      "| 2.9|\n",
      "| 3.7|\n",
      "+----+\n",
      "only showing top 20 rows\n",
      "\n",
      "Unique values in column 'FG':\n",
      "+---+\n",
      "| FG|\n",
      "+---+\n",
      "|2.4|\n",
      "|8.0|\n",
      "|0.0|\n",
      "|5.4|\n",
      "|7.0|\n",
      "|3.5|\n",
      "|0.2|\n",
      "|2.9|\n",
      "|3.7|\n",
      "|4.5|\n",
      "|1.4|\n",
      "|1.7|\n",
      "|6.7|\n",
      "|0.7|\n",
      "|2.3|\n",
      "|7.4|\n",
      "|6.5|\n",
      "|0.1|\n",
      "|3.4|\n",
      "|4.9|\n",
      "+---+\n",
      "only showing top 20 rows\n",
      "\n",
      "Unique values in column 'FGA':\n",
      "+----+\n",
      "| FGA|\n",
      "+----+\n",
      "| 2.4|\n",
      "| 8.0|\n",
      "|10.2|\n",
      "|18.3|\n",
      "| 0.0|\n",
      "|23.8|\n",
      "| 5.4|\n",
      "| 7.0|\n",
      "|11.5|\n",
      "| 3.5|\n",
      "| 9.5|\n",
      "| 6.1|\n",
      "| 7.7|\n",
      "|17.3|\n",
      "| 8.7|\n",
      "|13.3|\n",
      "| 3.7|\n",
      "|19.7|\n",
      "| 4.5|\n",
      "| 5.7|\n",
      "+----+\n",
      "only showing top 20 rows\n",
      "\n",
      "Unique values in column 'FG%':\n",
      "+-----+\n",
      "|  FG%|\n",
      "+-----+\n",
      "|0.481|\n",
      "|0.319|\n",
      "|0.679|\n",
      "|0.394|\n",
      "|0.396|\n",
      "|  0.0|\n",
      "|0.494|\n",
      "|0.563|\n",
      "|0.429|\n",
      "|0.352|\n",
      "|  0.2|\n",
      "|0.487|\n",
      "|0.474|\n",
      "|0.548|\n",
      "|0.545|\n",
      "|0.392|\n",
      "|0.561|\n",
      "| 0.72|\n",
      "|0.469|\n",
      "|0.409|\n",
      "+-----+\n",
      "only showing top 20 rows\n",
      "\n",
      "Unique values in column '3P':\n",
      "+---+\n",
      "| 3P|\n",
      "+---+\n",
      "|2.4|\n",
      "|0.0|\n",
      "|3.5|\n",
      "|0.2|\n",
      "|2.9|\n",
      "|1.4|\n",
      "|1.7|\n",
      "|0.7|\n",
      "|2.3|\n",
      "|0.1|\n",
      "|3.4|\n",
      "|2.5|\n",
      "|1.0|\n",
      "|0.6|\n",
      "|0.8|\n",
      "|4.1|\n",
      "|2.2|\n",
      "|2.8|\n",
      "|1.9|\n",
      "|0.5|\n",
      "+---+\n",
      "only showing top 20 rows\n",
      "\n",
      "Unique values in column '3PA':\n",
      "+---+\n",
      "|3PA|\n",
      "+---+\n",
      "|2.4|\n",
      "|8.0|\n",
      "|0.0|\n",
      "|5.4|\n",
      "|7.0|\n",
      "|3.5|\n",
      "|9.5|\n",
      "|0.2|\n",
      "|6.6|\n",
      "|3.7|\n",
      "|4.5|\n",
      "|1.4|\n",
      "|6.7|\n",
      "|1.7|\n",
      "|0.7|\n",
      "|2.3|\n",
      "|6.5|\n",
      "|0.1|\n",
      "|3.4|\n",
      "|8.4|\n",
      "+---+\n",
      "only showing top 20 rows\n",
      "\n",
      "Unique values in column '3P%':\n",
      "+-----+\n",
      "|  3P%|\n",
      "+-----+\n",
      "|0.396|\n",
      "|0.394|\n",
      "|0.302|\n",
      "|  0.0|\n",
      "|0.373|\n",
      "|0.423|\n",
      "|0.714|\n",
      "|0.429|\n",
      "|0.227|\n",
      "|0.241|\n",
      "|  0.2|\n",
      "|0.474|\n",
      "|0.212|\n",
      "|0.383|\n",
      "|0.407|\n",
      "|  0.1|\n",
      "|0.404|\n",
      "|0.278|\n",
      "|0.348|\n",
      "|0.571|\n",
      "+-----+\n",
      "only showing top 20 rows\n",
      "\n",
      "Unique values in column '2P':\n",
      "+---+\n",
      "| 2P|\n",
      "+---+\n",
      "|0.0|\n",
      "|5.4|\n",
      "|3.5|\n",
      "|0.2|\n",
      "|6.6|\n",
      "|2.9|\n",
      "|3.7|\n",
      "|4.5|\n",
      "|5.7|\n",
      "|1.4|\n",
      "|1.7|\n",
      "|0.7|\n",
      "|2.3|\n",
      "|0.1|\n",
      "|8.4|\n",
      "|4.9|\n",
      "|2.5|\n",
      "|1.0|\n",
      "|0.6|\n",
      "|3.1|\n",
      "+---+\n",
      "only showing top 20 rows\n",
      "\n",
      "Unique values in column '2PA':\n",
      "+----+\n",
      "| 2PA|\n",
      "+----+\n",
      "|15.5|\n",
      "|14.9|\n",
      "| 2.4|\n",
      "| 8.0|\n",
      "| 0.0|\n",
      "| 7.0|\n",
      "|11.5|\n",
      "| 0.2|\n",
      "| 2.9|\n",
      "| 3.7|\n",
      "| 4.5|\n",
      "|10.3|\n",
      "| 5.7|\n",
      "| 1.4|\n",
      "| 1.7|\n",
      "| 0.7|\n",
      "| 7.4|\n",
      "| 2.3|\n",
      "| 0.1|\n",
      "| 3.4|\n",
      "+----+\n",
      "only showing top 20 rows\n",
      "\n",
      "Unique values in column '2P%':\n",
      "+-----+\n",
      "|  2P%|\n",
      "+-----+\n",
      "|0.526|\n",
      "|0.481|\n",
      "|  0.0|\n",
      "|0.516|\n",
      "|0.714|\n",
      "|0.563|\n",
      "|0.429|\n",
      "|0.492|\n",
      "|0.688|\n",
      "|0.548|\n",
      "|0.614|\n",
      "|0.545|\n",
      "|0.534|\n",
      "|0.627|\n",
      "|0.419|\n",
      "|0.642|\n",
      "|0.409|\n",
      "|0.598|\n",
      "|0.633|\n",
      "|  0.7|\n",
      "+-----+\n",
      "only showing top 20 rows\n",
      "\n",
      "Unique values in column 'eFG%':\n",
      "+-----+\n",
      "| eFG%|\n",
      "+-----+\n",
      "|0.526|\n",
      "|0.645|\n",
      "|0.481|\n",
      "|0.679|\n",
      "|  0.0|\n",
      "|0.494|\n",
      "|0.875|\n",
      "|0.576|\n",
      "|0.563|\n",
      "|0.541|\n",
      "|0.429|\n",
      "|0.318|\n",
      "|0.492|\n",
      "|0.833|\n",
      "|0.548|\n",
      "|0.573|\n",
      "|0.614|\n",
      "|0.545|\n",
      "|0.534|\n",
      "|0.561|\n",
      "+-----+\n",
      "only showing top 20 rows\n",
      "\n",
      "Unique values in column 'FT':\n",
      "+---+\n",
      "| FT|\n",
      "+---+\n",
      "|2.4|\n",
      "|0.0|\n",
      "|3.5|\n",
      "|0.2|\n",
      "|5.7|\n",
      "|1.4|\n",
      "|1.7|\n",
      "|0.7|\n",
      "|6.5|\n",
      "|0.1|\n",
      "|4.9|\n",
      "|2.5|\n",
      "|1.0|\n",
      "|0.6|\n",
      "|3.1|\n",
      "|0.8|\n",
      "|2.7|\n",
      "|2.2|\n",
      "|2.8|\n",
      "|4.0|\n",
      "+---+\n",
      "only showing top 20 rows\n",
      "\n",
      "Unique values in column 'FTA':\n",
      "+---+\n",
      "|FTA|\n",
      "+---+\n",
      "|2.4|\n",
      "|0.0|\n",
      "|7.0|\n",
      "|3.5|\n",
      "|9.5|\n",
      "|0.2|\n",
      "|6.6|\n",
      "|2.9|\n",
      "|3.7|\n",
      "|4.5|\n",
      "|5.7|\n",
      "|1.4|\n",
      "|1.7|\n",
      "|0.7|\n",
      "|2.3|\n",
      "|0.1|\n",
      "|2.5|\n",
      "|1.0|\n",
      "|0.6|\n",
      "|2.7|\n",
      "+---+\n",
      "only showing top 20 rows\n",
      "\n",
      "Unique values in column 'FT%':\n",
      "+-----+\n",
      "|  FT%|\n",
      "+-----+\n",
      "|0.679|\n",
      "|0.773|\n",
      "|  0.0|\n",
      "|0.875|\n",
      "|0.611|\n",
      "|0.714|\n",
      "|0.881|\n",
      "|0.833|\n",
      "|0.688|\n",
      "|0.731|\n",
      "|0.829|\n",
      "|0.769|\n",
      "|0.545|\n",
      "|0.755|\n",
      "|0.788|\n",
      "|0.926|\n",
      "|  0.7|\n",
      "|0.638|\n",
      "|0.818|\n",
      "|0.915|\n",
      "+-----+\n",
      "only showing top 20 rows\n",
      "\n",
      "Unique values in column 'ORB':\n",
      "+---+\n",
      "|ORB|\n",
      "+---+\n",
      "|2.4|\n",
      "|0.0|\n",
      "|3.5|\n",
      "|0.2|\n",
      "|2.9|\n",
      "|1.4|\n",
      "|0.7|\n",
      "|2.3|\n",
      "|0.1|\n",
      "|3.4|\n",
      "|2.5|\n",
      "|1.0|\n",
      "|0.6|\n",
      "|3.1|\n",
      "|0.8|\n",
      "|2.2|\n",
      "|2.8|\n",
      "|1.9|\n",
      "|0.5|\n",
      "|1.3|\n",
      "+---+\n",
      "only showing top 20 rows\n",
      "\n",
      "Unique values in column 'DRB':\n",
      "+---+\n",
      "|DRB|\n",
      "+---+\n",
      "|2.4|\n",
      "|0.0|\n",
      "|3.5|\n",
      "|0.2|\n",
      "|6.6|\n",
      "|2.9|\n",
      "|3.7|\n",
      "|4.5|\n",
      "|5.7|\n",
      "|1.4|\n",
      "|1.7|\n",
      "|0.7|\n",
      "|2.3|\n",
      "|0.1|\n",
      "|3.4|\n",
      "|4.9|\n",
      "|2.5|\n",
      "|1.0|\n",
      "|9.8|\n",
      "|0.6|\n",
      "+---+\n",
      "only showing top 20 rows\n",
      "\n",
      "Unique values in column 'TRB':\n",
      "+---+\n",
      "|TRB|\n",
      "+---+\n",
      "|2.4|\n",
      "|8.0|\n",
      "|0.0|\n",
      "|5.4|\n",
      "|3.5|\n",
      "|0.2|\n",
      "|2.9|\n",
      "|4.5|\n",
      "|5.7|\n",
      "|1.4|\n",
      "|1.7|\n",
      "|6.7|\n",
      "|0.7|\n",
      "|7.4|\n",
      "|2.3|\n",
      "|0.1|\n",
      "|3.4|\n",
      "|2.5|\n",
      "|1.0|\n",
      "|9.8|\n",
      "+---+\n",
      "only showing top 20 rows\n",
      "\n",
      "Unique values in column 'AST':\n",
      "+---+\n",
      "|AST|\n",
      "+---+\n",
      "|2.4|\n",
      "|0.0|\n",
      "|5.4|\n",
      "|7.0|\n",
      "|3.5|\n",
      "|0.2|\n",
      "|2.9|\n",
      "|3.7|\n",
      "|4.5|\n",
      "|5.7|\n",
      "|1.4|\n",
      "|1.7|\n",
      "|6.7|\n",
      "|0.7|\n",
      "|2.3|\n",
      "|6.5|\n",
      "|0.1|\n",
      "|3.4|\n",
      "|2.5|\n",
      "|1.0|\n",
      "+---+\n",
      "only showing top 20 rows\n",
      "\n",
      "Unique values in column 'STL':\n",
      "+---+\n",
      "|STL|\n",
      "+---+\n",
      "|0.0|\n",
      "|0.2|\n",
      "|1.4|\n",
      "|0.7|\n",
      "|0.1|\n",
      "|1.0|\n",
      "|0.6|\n",
      "|0.8|\n",
      "|0.5|\n",
      "|1.3|\n",
      "|0.4|\n",
      "|1.6|\n",
      "|2.0|\n",
      "|1.1|\n",
      "|1.2|\n",
      "|0.9|\n",
      "|1.8|\n",
      "|1.5|\n",
      "|0.3|\n",
      "|2.1|\n",
      "+---+\n",
      "\n",
      "Unique values in column 'BLK':\n",
      "+---+\n",
      "|BLK|\n",
      "+---+\n",
      "|0.0|\n",
      "|0.2|\n",
      "|0.7|\n",
      "|2.3|\n",
      "|0.1|\n",
      "|2.5|\n",
      "|1.0|\n",
      "|0.6|\n",
      "|0.8|\n",
      "|2.2|\n",
      "|0.5|\n",
      "|1.3|\n",
      "|0.4|\n",
      "|2.0|\n",
      "|1.2|\n",
      "|0.9|\n",
      "|1.5|\n",
      "|1.8|\n",
      "|0.3|\n",
      "+---+\n",
      "\n",
      "Unique values in column 'TOV':\n",
      "+---+\n",
      "|TOV|\n",
      "+---+\n",
      "|2.4|\n",
      "|0.0|\n",
      "|0.2|\n",
      "|4.5|\n",
      "|1.4|\n",
      "|1.7|\n",
      "|0.7|\n",
      "|2.3|\n",
      "|0.1|\n",
      "|2.5|\n",
      "|1.0|\n",
      "|0.6|\n",
      "|3.1|\n",
      "|0.8|\n",
      "|2.7|\n",
      "|2.2|\n",
      "|2.8|\n",
      "|1.9|\n",
      "|3.9|\n",
      "|6.2|\n",
      "+---+\n",
      "only showing top 20 rows\n",
      "\n",
      "Unique values in column 'PF':\n",
      "+---+\n",
      "| PF|\n",
      "+---+\n",
      "|2.4|\n",
      "|0.0|\n",
      "|3.5|\n",
      "|0.2|\n",
      "|2.9|\n",
      "|3.7|\n",
      "|1.4|\n",
      "|1.7|\n",
      "|0.7|\n",
      "|2.3|\n",
      "|0.1|\n",
      "|3.4|\n",
      "|2.5|\n",
      "|1.0|\n",
      "|3.1|\n",
      "|2.7|\n",
      "|0.8|\n",
      "|2.2|\n",
      "|2.8|\n",
      "|4.0|\n",
      "+---+\n",
      "only showing top 20 rows\n",
      "\n",
      "Unique values in column 'PTS':\n",
      "+----+\n",
      "| PTS|\n",
      "+----+\n",
      "|15.4|\n",
      "|10.2|\n",
      "| 8.0|\n",
      "| 0.0|\n",
      "|17.9|\n",
      "| 5.4|\n",
      "|31.7|\n",
      "| 3.5|\n",
      "| 9.5|\n",
      "| 7.7|\n",
      "|17.3|\n",
      "|25.2|\n",
      "|13.3|\n",
      "| 8.7|\n",
      "| 2.9|\n",
      "| 3.7|\n",
      "| 4.5|\n",
      "| 1.4|\n",
      "| 0.7|\n",
      "| 2.3|\n",
      "+----+\n",
      "only showing top 20 rows\n",
      "\n"
     ]
    }
   ],
   "source": [
    "for column_name in df.columns:\n",
    "    unique_values = df.select(col(column_name)).distinct()\n",
    "    print(f\"Unique values in column '{column_name}':\")\n",
    "    unique_values.show()"
   ]
  },
  {
   "cell_type": "code",
   "execution_count": null,
   "metadata": {
    "colab": {
     "base_uri": "https://localhost:8080/"
    },
    "id": "BxFwqrODMePI",
    "outputId": "431da712-d349-424c-f27e-0774725b5d3a"
   },
   "outputs": [
    {
     "name": "stdout",
     "output_type": "stream",
     "text": [
      "Column 'Rk' does not contain special characters.\n",
      "Column 'Player' contains special characters:\n",
      "+--------------------+\n",
      "|              Player|\n",
      "+--------------------+\n",
      "|Nickeil Alexander...|\n",
      "|       D?vis Bert?ns|\n",
      "|   Bogdan Bogdanovi?|\n",
      "|    Bojan Bogdanovi?|\n",
      "|       Vlatko ?an?ar|\n",
      "|         Luka Don?i?|\n",
      "|        Goran Dragi?|\n",
      "| Dorian Finney-Smith|\n",
      "|     Devonte' Graham|\n",
      "| Juancho Hernang�mez|\n",
      "|   Willy Hernang�mez|\n",
      "|     De'Andre Hunter|\n",
      "|        Nikola Joki?|\n",
      "|Timoth� Luwawu-Ca...|\n",
      "|    Boban Marjanovi?|\n",
      "|   De'Anthony Melton|\n",
      "|       Royce O'Neale|\n",
      "|    D'Angelo Russell|\n",
      "|      Day'Ron Sharpe|\n",
      "|Juan Toscano-Ande...|\n",
      "+--------------------+\n",
      "only showing top 20 rows\n",
      "\n",
      "Column 'Pos' does not contain special characters.\n",
      "Column 'Age' does not contain special characters.\n",
      "Column 'Tm' does not contain special characters.\n",
      "Column 'G' does not contain special characters.\n",
      "Column 'GS' does not contain special characters.\n",
      "Column 'MP' does not contain special characters.\n",
      "Column 'FG' does not contain special characters.\n",
      "Column 'FGA' does not contain special characters.\n",
      "Column 'FG%' does not contain special characters.\n",
      "Column '3P' does not contain special characters.\n",
      "Column '3PA' does not contain special characters.\n",
      "Column '3P%' does not contain special characters.\n",
      "Column '2P' does not contain special characters.\n",
      "Column '2PA' does not contain special characters.\n",
      "Column '2P%' does not contain special characters.\n",
      "Column 'eFG%' does not contain special characters.\n",
      "Column 'FT' does not contain special characters.\n",
      "Column 'FTA' does not contain special characters.\n",
      "Column 'FT%' does not contain special characters.\n",
      "Column 'ORB' does not contain special characters.\n",
      "Column 'DRB' does not contain special characters.\n",
      "Column 'TRB' does not contain special characters.\n",
      "Column 'AST' does not contain special characters.\n",
      "Column 'STL' does not contain special characters.\n",
      "Column 'BLK' does not contain special characters.\n",
      "Column 'TOV' does not contain special characters.\n",
      "Column 'PF' does not contain special characters.\n",
      "Column 'PTS' does not contain special characters.\n"
     ]
    }
   ],
   "source": [
    "def contains_special_characters(column):\n",
    "    return col(column).rlike(\"[^a-zA-Z0-9\\s.]\")\n",
    "\n",
    "for column_name in df.columns:\n",
    "    has_special_characters = df.select(column_name).where(contains_special_characters(column_name))\n",
    "\n",
    "    if has_special_characters.count() > 0:\n",
    "        print(f\"Column '{column_name}' contains special characters:\")\n",
    "        has_special_characters.show()\n",
    "    else:\n",
    "        print(f\"Column '{column_name}' does not contain special characters.\")"
   ]
  },
  {
   "cell_type": "code",
   "execution_count": null,
   "metadata": {
    "colab": {
     "base_uri": "https://localhost:8080/"
    },
    "id": "A0ZZpO9zNs1P",
    "outputId": "b9eb8e7c-2990-4e1d-ca95-bc7521118107"
   },
   "outputs": [
    {
     "name": "stdout",
     "output_type": "stream",
     "text": [
      "+---+--------------------+---+---+---+---+---+----+----+----+-----+---+---+-----+----+----+-----+-----+---+----+-----+---+----+----+---+---+---+---+---+----+\n",
      "| Rk|              Player|Pos|Age| Tm|  G| GS|  MP|  FG| FGA|  FG%| 3P|3PA|  3P%|  2P| 2PA|  2P%| eFG%| FT| FTA|  FT%|ORB| DRB| TRB|AST|STL|BLK|TOV| PF| PTS|\n",
      "+---+--------------------+---+---+---+---+---+----+----+----+-----+---+---+-----+----+----+-----+-----+---+----+-----+---+----+----+---+---+---+---+---+----+\n",
      "|  1|    Precious Achiuwa|  C| 22|TOR|  6|  1|27.8| 4.2| 8.7|0.481|0.8|2.7|0.313| 3.3| 6.0|0.556|0.529|1.0| 1.7|  0.6|1.3| 3.5| 4.8|1.0|0.2|0.8|1.5|2.3|10.2|\n",
      "|  2|        Steven Adams|  C| 28|MEM|  7|  5|16.3| 1.3| 3.0|0.429|0.0|0.0|  0.0| 1.3| 3.0|0.429|0.429|0.9| 1.6|0.545|2.1| 4.3| 6.4|2.1|0.1|0.1|0.6|1.7| 3.4|\n",
      "|  3|         Bam Adebayo|  C| 24|MIA| 18| 18|34.1| 5.8| 9.7|0.594|0.0|0.1|  0.0| 5.8| 9.7|0.598|0.594|3.2| 4.2|0.763|2.1| 5.9| 8.0|2.7|1.0|0.7|2.1|3.1|14.8|\n",
      "|  4|Nickeil Alexander...| SG| 23|UTA|  1|  0| 5.0| 2.0| 2.0|  1.0|0.0|0.0|  0.0| 2.0| 2.0|  1.0|  1.0|1.0| 1.0|  1.0|0.0| 1.0| 1.0|1.0|1.0|0.0|0.0|0.0| 5.0|\n",
      "|  5|       Grayson Allen| SG| 26|MIL| 12|  5|25.4| 3.1| 6.8|0.451|1.6|4.0|0.396| 1.5| 2.8|0.529|0.567|0.6| 0.9|0.636|0.4| 2.5| 2.9|1.3|0.7|0.3|0.8|1.8| 8.3|\n",
      "|  6|       Jose Alvarado| PG| 23|NOP|  6|  0|19.5| 2.7| 5.5|0.485|1.0|2.7|0.375| 1.7| 2.8|0.588|0.576|1.7| 2.2|0.769|0.3| 1.0| 1.3|1.5|1.2|0.2|1.2|3.0| 8.0|\n",
      "|  7|       Kyle Anderson| PF| 28|MEM| 12|  1|18.4| 2.4| 4.3|0.569|0.3|1.0| 0.25| 2.2| 3.3|0.667|0.598|0.9| 1.5|0.611|0.8| 3.5| 4.3|1.8|0.9|0.6|0.8|1.8| 6.0|\n",
      "|  8|Giannis Antetokou...| PF| 27|MIL| 12| 12|37.3|11.7|23.8|0.491|0.8|3.4| 0.22|10.9|20.3|0.537|0.507|7.6|11.2|0.679|2.2|12.0|14.2|6.8|0.7|1.3|4.5|3.6|31.7|\n",
      "|  9|Thanasis Antetoko...| SF| 29|MIL|  8|  0| 2.5| 0.3| 0.4|0.667|0.0|0.0|  0.0| 0.3| 0.4|0.667|0.667|0.1| 0.4|0.333|0.1| 0.4| 0.5|0.1|0.1|0.0|0.0|0.5| 0.6|\n",
      "| 10|          OG Anunoby| SF| 24|TOR|  6|  6|36.2| 6.5|13.7|0.476|2.3|6.8|0.341| 4.2| 6.8| 0.61|0.561|2.0| 2.7| 0.75|1.2| 2.8| 4.0|2.5|1.0|0.2|1.7|3.0|17.3|\n",
      "| 11|       Deandre Ayton|  C| 23|PHO| 13| 13|30.5| 8.1|12.6| 0.64|0.2|0.3|  0.5| 7.9|12.3|0.644|0.646|1.6| 2.5|0.636|2.5| 6.4| 8.9|1.7|0.4|0.8|1.5|2.6|17.9|\n",
      "| 12|        Desmond Bane| SF| 23|MEM| 12| 12|35.7| 6.3|13.3|0.478|3.6|7.3|0.489| 2.8| 5.9|0.465|0.613|2.5| 2.9|0.857|0.4| 3.3| 3.8|2.2|0.9|0.8|1.3|1.9|18.8|\n",
      "| 13|       Dalano Banton| PG| 22|TOR|  4|  0| 2.0| 0.5| 0.5|  1.0|0.0|0.0|  0.0| 0.5| 0.5|  1.0|  1.0|0.8| 1.5|  0.5|0.5| 0.0| 0.5|0.3|0.3|0.0|0.3|0.0| 1.8|\n",
      "| 14|      Scottie Barnes| PF| 20|TOR|  4|  3|33.3| 4.5|10.5|0.429|0.5|3.0|0.167| 4.0| 7.5|0.533|0.452|3.3| 4.0|0.813|1.8| 7.3| 9.0|4.3|1.0|0.3|1.3|3.0|12.8|\n",
      "| 15|         Will Barton| SG| 31|DEN|  5|  5|34.4| 5.4|13.2|0.409|2.2|5.6|0.393| 3.2| 7.6|0.421|0.492|0.8| 1.2|0.667|1.0| 4.6| 5.6|2.8|0.8|0.2|2.0|2.2|13.8|\n",
      "| 16|      Charles Bassey| PF| 21|PHI|  3|  0| 4.0| 0.3| 0.7|  0.5|0.0|0.0|  0.0| 0.3| 0.7|  0.5|  0.5|0.0| 0.3|  0.0|0.3| 1.3| 1.7|0.3|0.0|0.3|0.0|0.3| 0.7|\n",
      "| 17|       Malik Beasley| SG| 25|MIN|  6|  0|19.8| 3.2| 7.3|0.432|1.3|4.2| 0.32| 1.8| 3.2|0.579|0.523|0.8| 1.0|0.833|0.3| 3.0| 3.3|0.7|0.3|0.2|1.2|1.5| 8.5|\n",
      "| 18|         Dvis Bertns| PF| 29|DAL| 18|  0|10.7| 1.2| 3.1|  0.4|1.1|2.8|0.373| 0.2| 0.2| 0.75|0.573|0.6| 0.7|0.833|0.2| 1.2| 1.4|0.3|0.4|0.1|0.2|1.4| 4.1|\n",
      "| 19|    Patrick Beverley| PG| 33|MIN|  6|  6|32.3| 3.5| 8.2|0.429|1.5|4.3|0.346| 2.0| 3.8|0.522| 0.52|2.5| 3.7|0.682|0.7| 2.5| 3.2|4.8|1.2|1.2|2.0|4.7|11.0|\n",
      "| 20|          Khem Birch|  C| 29|TOR|  6|  4|10.5| 1.3| 2.7|  0.5|0.3|0.7|  0.5| 1.0| 2.0|  0.5|0.563|0.0| 0.0|  0.0|0.7| 0.8| 1.5|0.5|0.2|0.2|0.5|2.2| 3.0|\n",
      "+---+--------------------+---+---+---+---+---+----+----+----+-----+---+---+-----+----+----+-----+-----+---+----+-----+---+----+----+---+---+---+---+---+----+\n",
      "only showing top 20 rows\n",
      "\n"
     ]
    }
   ],
   "source": [
    "def remove_special_characters(column):\n",
    "    # Regular expression pattern to match non-alphanumeric characters and whitespace\n",
    "    return regexp_replace(col(column), '[^a-zA-Z0-9\\s]', '')\n",
    "\n",
    "# Apply the remove_special_characters function to the \"Player\" column\n",
    "cleaned_df = df.withColumn(\"Player\", remove_special_characters(\"Player\"))\n",
    "\n",
    "# Show the cleaned DataFrame\n",
    "cleaned_df.show()"
   ]
  },
  {
   "cell_type": "code",
   "execution_count": null,
   "metadata": {
    "colab": {
     "base_uri": "https://localhost:8080/"
    },
    "id": "7Xrvj1m3OZAH",
    "outputId": "c92b2894-dca7-44fd-f238-de047d32f0b2"
   },
   "outputs": [
    {
     "name": "stdout",
     "output_type": "stream",
     "text": [
      "Collecting pyspark_dist_explore\n",
      "  Downloading pyspark_dist_explore-0.1.8-py3-none-any.whl (7.2 kB)\n",
      "Requirement already satisfied: pandas in /usr/local/lib/python3.10/dist-packages (from pyspark_dist_explore) (1.5.3)\n",
      "Requirement already satisfied: numpy in /usr/local/lib/python3.10/dist-packages (from pyspark_dist_explore) (1.23.5)\n",
      "Requirement already satisfied: scipy in /usr/local/lib/python3.10/dist-packages (from pyspark_dist_explore) (1.10.1)\n",
      "Requirement already satisfied: matplotlib in /usr/local/lib/python3.10/dist-packages (from pyspark_dist_explore) (3.7.1)\n",
      "Requirement already satisfied: contourpy>=1.0.1 in /usr/local/lib/python3.10/dist-packages (from matplotlib->pyspark_dist_explore) (1.1.0)\n",
      "Requirement already satisfied: cycler>=0.10 in /usr/local/lib/python3.10/dist-packages (from matplotlib->pyspark_dist_explore) (0.11.0)\n",
      "Requirement already satisfied: fonttools>=4.22.0 in /usr/local/lib/python3.10/dist-packages (from matplotlib->pyspark_dist_explore) (4.42.0)\n",
      "Requirement already satisfied: kiwisolver>=1.0.1 in /usr/local/lib/python3.10/dist-packages (from matplotlib->pyspark_dist_explore) (1.4.4)\n",
      "Requirement already satisfied: packaging>=20.0 in /usr/local/lib/python3.10/dist-packages (from matplotlib->pyspark_dist_explore) (23.1)\n",
      "Requirement already satisfied: pillow>=6.2.0 in /usr/local/lib/python3.10/dist-packages (from matplotlib->pyspark_dist_explore) (9.4.0)\n",
      "Requirement already satisfied: pyparsing>=2.3.1 in /usr/local/lib/python3.10/dist-packages (from matplotlib->pyspark_dist_explore) (3.1.1)\n",
      "Requirement already satisfied: python-dateutil>=2.7 in /usr/local/lib/python3.10/dist-packages (from matplotlib->pyspark_dist_explore) (2.8.2)\n",
      "Requirement already satisfied: pytz>=2020.1 in /usr/local/lib/python3.10/dist-packages (from pandas->pyspark_dist_explore) (2023.3)\n",
      "Requirement already satisfied: six>=1.5 in /usr/local/lib/python3.10/dist-packages (from python-dateutil>=2.7->matplotlib->pyspark_dist_explore) (1.16.0)\n",
      "Installing collected packages: pyspark_dist_explore\n",
      "Successfully installed pyspark_dist_explore-0.1.8\n"
     ]
    }
   ],
   "source": [
    "pip install pyspark_dist_explore"
   ]
  },
  {
   "cell_type": "code",
   "execution_count": null,
   "metadata": {
    "colab": {
     "base_uri": "https://localhost:8080/",
     "height": 615
    },
    "id": "AS28P8JRZUAu",
    "outputId": "b0b9acb2-7d96-48d2-a6cb-0512b1bce178"
   },
   "outputs": [
    {
     "name": "stderr",
     "output_type": "stream",
     "text": [
      "Exception ignored in: <function JavaWrapper.__del__ at 0x7b2cb55048b0>\n",
      "Traceback (most recent call last):\n",
      "  File \"/usr/local/lib/python3.10/dist-packages/pyspark/ml/wrapper.py\", line 53, in __del__\n",
      "    if SparkContext._active_spark_context and self._java_obj is not None:\n",
      "AttributeError: 'VectorAssembler' object has no attribute '_java_obj'\n"
     ]
    },
    {
     "data": {
      "image/png": "[encoded data removed]",
      "text/plain": [
       "<Figure size 640x480 with 1 Axes>"
      ]
     },
     "metadata": {},
     "output_type": "display_data"
    }
   ],
   "source": [
    "column_name = \"PTS\"\n",
    "column_data = df.select(column_name)\n",
    "\n",
    "# Convert the selected column to a list of values\n",
    "values_list = [row[column_name] for row in column_data.collect()]\n",
    "\n",
    "# Use Matplotlib to plot a histogram\n",
    "plt.hist(values_list, bins=20)\n",
    "plt.xlabel(column_name)\n",
    "plt.ylabel(\"Frequency\")\n",
    "plt.title(\"Histogram of \" + column_name)\n",
    "plt.show()"
   ]
  },
  {
   "cell_type": "code",
   "execution_count": null,
   "metadata": {
    "colab": {
     "base_uri": "https://localhost:8080/",
     "height": 818
    },
    "id": "6GocZRfLZWsC",
    "outputId": "b67e8288-8fb6-4929-8f9d-7a7e797a53a4"
   },
   "outputs": [
    {
     "data": {
      "image/png": "[encoded data removed]",
      "text/plain": [
       "<Figure size 1000x600 with 1 Axes>"
      ]
     },
     "metadata": {},
     "output_type": "display_data"
    },
    {
     "data": {
      "image/png": "[encoded data removed]",
      "text/plain": [
       "<Figure size 1000x600 with 1 Axes>"
      ]
     },
     "metadata": {},
     "output_type": "display_data"
    }
   ],
   "source": [
    "selected_df = df.select(\"Age\", \"PTS\", \"Rk\")\n",
    "\n",
    "# Convert to Pandas DataFrame for visualization\n",
    "pandas_df = selected_df.toPandas()\n",
    "\n",
    "# Plot age vs points\n",
    "plt.figure(figsize=(10, 6))\n",
    "plt.scatter(pandas_df[\"Age\"], pandas_df[\"PTS\"], alpha=0.5)\n",
    "plt.xlabel(\"Age\")\n",
    "plt.ylabel(\"Points\")\n",
    "plt.title(\"Age vs Points\")\n",
    "plt.grid(True)\n",
    "plt.show()\n",
    "\n",
    "# Plot rank vs points\n",
    "plt.figure(figsize=(10, 6))\n",
    "plt.scatter(pandas_df[\"Rk\"], pandas_df[\"PTS\"], alpha=0.5)\n",
    "plt.xlabel(\"Rank\")\n",
    "plt.ylabel(\"Points\")\n",
    "plt.title(\"Rank vs Points\")\n",
    "plt.grid(True)\n",
    "plt.show()\n"
   ]
  },
  {
   "cell_type": "code",
   "execution_count": null,
   "metadata": {
    "colab": {
     "base_uri": "https://localhost:8080/",
     "height": 452
    },
    "id": "_GQQZoRRP07U",
    "outputId": "c15de788-cca4-4af1-96eb-6bf9c1d6a930"
   },
   "outputs": [
    {
     "data": {
      "image/png": "[encoded data removed]",
      "text/plain": [
       "<Figure size 1000x600 with 1 Axes>"
      ]
     },
     "metadata": {},
     "output_type": "display_data"
    }
   ],
   "source": [
    "# Calculate average points per game by team\n",
    "team_avg_points = cleaned_df.groupBy(\"Tm\").avg(\"PTS\")\n",
    "# Convert the team_avg_points Spark DataFrame to Pandas DataFrame\n",
    "team_avg_points_pd = team_avg_points.toPandas()\n",
    "# Create a bar plot using seaborn\n",
    "plt.figure(figsize=(10, 6))\n",
    "sns.barplot(x=\"Tm\", y=\"avg(PTS)\", data=team_avg_points_pd)\n",
    "plt.xlabel(\"Team\")\n",
    "plt.ylabel(\"Average Points\")\n",
    "plt.title(\"Average Points per Game by Team\")\n",
    "plt.xticks(rotation=45)\n",
    "plt.show()\n"
   ]
  },
  {
   "cell_type": "code",
   "execution_count": null,
   "metadata": {
    "colab": {
     "base_uri": "https://localhost:8080/",
     "height": 472
    },
    "id": "YimZ5yF6QUs1",
    "outputId": "d438730b-51dd-4694-aa91-d13d06cd1190"
   },
   "outputs": [
    {
     "data": {
      "image/png": "[encoded data removed]",
      "text/plain": [
       "<Figure size 640x480 with 1 Axes>"
      ]
     },
     "metadata": {},
     "output_type": "display_data"
    }
   ],
   "source": [
    "# Create a histogram of Age column using Matplotlib\n",
    "plt.hist(df.select(\"Age\").rdd.flatMap(lambda x: x).collect(), bins=10, edgecolor='black')\n",
    "plt.xlabel(\"Age\")\n",
    "plt.ylabel(\"Frequency\")\n",
    "plt.title(\"Distribution of Age\")\n",
    "plt.show()"
   ]
  },
  {
   "cell_type": "code",
   "execution_count": null,
   "metadata": {
    "colab": {
     "base_uri": "https://localhost:8080/",
     "height": 441
    },
    "id": "jnMlLZwvQlvf",
    "outputId": "0f894f26-6432-43d2-d1f5-f2ac5b101659"
   },
   "outputs": [
    {
     "data": {
      "image/png": "[encoded data removed]",
      "text/plain": [
       "<Figure size 640x480 with 1 Axes>"
      ]
     },
     "metadata": {},
     "output_type": "display_data"
    }
   ],
   "source": [
    "# Calculate average field goal attempts and points per game by age\n",
    "fga_pts_avg = df.groupBy(\"Age\").agg({'FGA': 'sum', 'PTS': 'sum'}).select(col('Age'),\n",
    "                                                                         (36 * col('sum(FGA)') / col('sum(PTS)')).alias('fga_p36pts')).orderBy('Age')\n",
    "\n",
    "# Create a line plot using seaborn\n",
    "plt.style.use('fivethirtyeight')\n",
    "\n",
    "# Convert the Spark DataFrame to Pandas DataFrame for visualization\n",
    "_df = fga_pts_avg.toPandas()\n",
    "\n",
    "plt.plot(_df.Age, _df.fga_p36pts,color=\"green\")\n",
    "plt.xlabel(\"Age\")\n",
    "plt.ylabel(\"FGA per 36 Points\")\n",
    "plt.title('Player average field goal attempts per 36 points')\n",
    "\n",
    "# Annotate important events\n",
    "plt.annotate('3 point introduced', xy=(23, 1.5), xytext=(19, 1.9), fontsize=9,\n",
    "             arrowprops=dict(facecolor=\"grey\", shrink=0, linewidth=2))\n",
    "plt.annotate(\"NBA moved in 3-point line\", xy=(30, 1.3), xytext=(25, 1.7), fontsize=9,\n",
    "             arrowprops=dict(facecolor=\"grey\", shrink=0, linewidth=2))\n",
    "plt.annotate(\"NBA moved back in 3-point line\", xy=(32, 1.1), xytext=(32.5, 1.5), fontsize=9,\n",
    "             arrowprops=dict(facecolor=\"grey\", shrink=0, linewidth=2))\n",
    "\n",
    "plt.tight_layout()\n",
    "plt.show()"
   ]
  },
  {
   "cell_type": "code",
   "execution_count": null,
   "metadata": {
    "colab": {
     "base_uri": "https://localhost:8080/"
    },
    "id": "ybRSfo03Zpmc",
    "outputId": "63663450-e2d2-4b03-accd-98aed0b67d66"
   },
   "outputs": [
    {
     "name": "stdout",
     "output_type": "stream",
     "text": [
      "+---+--------------------+---+---+---+---+---+----+----+----+-----+---+----+-----+----+----+-----+-----+---+----+-----+---+----+----+---+---+---+---+---+----+\n",
      "| Rk|              Player|Pos|Age| Tm|  G| GS|  MP|  FG| FGA|  FG%| 3P| 3PA|  3P%|  2P| 2PA|  2P%| eFG%| FT| FTA|  FT%|ORB| DRB| TRB|AST|STL|BLK|TOV| PF| PTS|\n",
      "+---+--------------------+---+---+---+---+---+----+----+----+-----+---+----+-----+----+----+-----+-----+---+----+-----+---+----+----+---+---+---+---+---+----+\n",
      "|  8|Giannis Antetokou...| PF| 27|MIL| 12| 12|37.3|11.7|23.8|0.491|0.8| 3.4| 0.22|10.9|20.3|0.537|0.507|7.6|11.2|0.679|2.2|12.0|14.2|6.8|0.7|1.3|4.5|3.6|31.7|\n",
      "| 63|         Luka Don?i?| PG| 22|DAL| 15| 15|36.8|10.7|23.5|0.455|3.4| 9.9|0.345| 7.3|13.6|0.534|0.527|6.9| 9.0| 0.77|0.7| 9.1| 9.8|6.4|1.8|0.6|3.9|2.9|31.7|\n",
      "|110|        Nikola Joki?|  C| 26|DEN|  5|  5|34.2|12.2|21.2|0.575|1.0| 3.6|0.278|11.2|17.6|0.636|0.599|5.6| 6.6|0.848|3.4| 9.8|13.2|5.8|1.6|1.0|4.8|4.0|31.0|\n",
      "| 40|        Jimmy Butler| SF| 32|MIA| 17| 17|37.0| 9.8|19.3|0.506|1.4| 4.0|0.338| 8.4|15.3| 0.55|0.541|6.5| 7.8|0.841|2.4| 4.9| 7.4|4.6|2.1|0.6|1.5|1.5|27.4|\n",
      "| 58|       Stephen Curry| PG| 33|GSW| 22| 18|34.7| 9.2|20.0|0.459|4.1|10.4|0.397| 5.0| 9.6|0.526|0.563|4.9| 5.9|0.829|0.5| 4.7| 5.2|5.9|1.3|0.4|2.6|2.7|27.4|\n",
      "|145|           Ja Morant| PG| 22|MEM|  9|  9|37.6| 9.0|20.4| 0.44|1.9| 5.6| 0.34| 7.1|14.9|0.478|0.486|7.2| 9.7|0.747|1.4| 6.6| 8.0|9.8|2.0|0.4|3.6|2.4|27.1|\n",
      "|104|      Brandon Ingram| SF| 24|NOP|  6|  6|39.3| 9.3|19.7|0.475|1.8| 4.5|0.407| 7.5|15.2|0.495|0.521|6.5| 7.8| 0.83|0.7| 5.5| 6.2|6.2|0.7|0.3|3.8|1.8|27.0|\n",
      "| 67|        Kevin Durant| PF| 33|BRK|  4|  4|44.0| 8.0|20.8|0.386|1.8| 5.3|0.333| 6.3|15.5|0.403|0.428|8.5| 9.5|0.895|0.5| 5.3| 5.8|6.3|1.0|0.3|5.3|3.8|26.3|\n",
      "|185|        Jayson Tatum| SF| 23|BOS| 24| 24|41.0| 8.4|19.7|0.426|3.2| 8.2|0.393| 5.2|11.5|0.449|0.507|5.7| 7.1|  0.8|1.0| 5.7| 6.7|6.2|1.2|0.9|4.2|3.0|25.6|\n",
      "|142|    Donovan Mitchell| SG| 25|UTA|  6|  6|38.2| 8.8|22.2|0.398|1.7| 8.0|0.208| 7.2|14.2|0.506|0.436|6.2| 7.0|0.881|1.0| 3.3| 4.3|5.7|0.7|0.5|2.7|2.3|25.5|\n",
      "+---+--------------------+---+---+---+---+---+----+----+----+-----+---+----+-----+----+----+-----+-----+---+----+-----+---+----+----+---+---+---+---+---+----+\n",
      "only showing top 10 rows\n",
      "\n"
     ]
    }
   ],
   "source": [
    "df.orderBy('PTS',ascending=False).show(10)"
   ]
  },
  {
   "cell_type": "code",
   "execution_count": null,
   "metadata": {
    "id": "mVz4tGdUTh3G"
   },
   "outputs": [],
   "source": [
    "# Data preprocessing\n",
    "# For categorical columns (Pos, Tm), use StringIndexer to convert them to numerical\n",
    "\n",
    "indexer_pos = StringIndexer(inputCol=\"Pos\", outputCol=\"PosIndex\")\n",
    "indexer_tm = StringIndexer(inputCol=\"Tm\", outputCol=\"TmIndex\")\n",
    "df_indexed = indexer_pos.fit(df).transform(indexer_tm.fit(df).transform(df))\n",
    "\n",
    "# Assemble features using VectorAssembler\n",
    "feature_columns = ['Age', 'G', 'GS', 'MP', 'FG', 'FGA', '3P', '3PA', '2P', '2PA', 'ORB', 'DRB', 'TRB', 'AST', 'STL', 'BLK', 'TOV', 'PF','FT','FTA']\n",
    "assembler = VectorAssembler(inputCols=feature_columns + ['PosIndex', 'TmIndex'], outputCol='features')\n",
    "df_assembled = assembler.transform(df_indexed)"
   ]
  },
  {
   "cell_type": "code",
   "execution_count": null,
   "metadata": {
    "id": "f5xwYfK2YTNH"
   },
   "outputs": [],
   "source": [
    "# Split data into training and testing sets\n",
    "train_data, test_data = df_assembled.randomSplit([0.8, 0.2], seed=42)"
   ]
  },
  {
   "cell_type": "code",
   "execution_count": null,
   "metadata": {
    "id": "UOV95vweaSTK"
   },
   "outputs": [],
   "source": [
    "# Create a LinearRegression model\n",
    "lr = LinearRegression(featuresCol='features', labelCol='PTS')\n",
    "\n",
    "# Train the model\n",
    "lr_model = lr.fit(train_data)\n",
    "\n",
    "# Make predictions on test data\n",
    "predictions = lr_model.transform(test_data)"
   ]
  },
  {
   "cell_type": "code",
   "execution_count": null,
   "metadata": {
    "colab": {
     "base_uri": "https://localhost:8080/"
    },
    "id": "yS8L-QHlaUrQ",
    "outputId": "b6c80f2b-3a40-43a4-b58d-e3567b28fee9"
   },
   "outputs": [
    {
     "name": "stdout",
     "output_type": "stream",
     "text": [
      "Root Mean Squared Error (RMSE): 0.060244251662820034\n",
      "R squared: 0.9999356963323817\n"
     ]
    }
   ],
   "source": [
    "# Evaluate the model\n",
    "evaluator = RegressionEvaluator(labelCol=\"PTS\", predictionCol=\"prediction\", metricName=\"rmse\")\n",
    "evaluator2 = RegressionEvaluator(labelCol=\"PTS\", predictionCol=\"prediction\", metricName=\"r2\")\n",
    "r2 = evaluator2.evaluate(predictions)\n",
    "rmse = evaluator.evaluate(predictions)\n",
    "print(\"Root Mean Squared Error (RMSE):\", rmse)\n",
    "print(\"R squared:\", r2)"
   ]
  },
  {
   "cell_type": "code",
   "execution_count": null,
   "metadata": {
    "colab": {
     "base_uri": "https://localhost:8080/"
    },
    "id": "8Rs7eIu3aWRs",
    "outputId": "934600ff-e725-4b9a-b86c-696499cda084"
   },
   "outputs": [
    {
     "name": "stdout",
     "output_type": "stream",
     "text": [
      "+----+------------------+\n",
      "| PTS|        prediction|\n",
      "+----+------------------+\n",
      "|10.2|10.164509964314933|\n",
      "| 3.4|3.5010213125851894|\n",
      "|14.8| 14.75720256680946|\n",
      "| 5.0| 4.997618717951366|\n",
      "| 8.3| 8.389727413352679|\n",
      "| 8.0|  8.07844983278098|\n",
      "| 6.0| 5.993413606287034|\n",
      "|31.7| 31.74237856179652|\n",
      "| 0.6| 0.690514205888781|\n",
      "|17.3|17.282524942538284|\n",
      "|17.9| 17.94674017568824|\n",
      "|18.8|  18.6932286925217|\n",
      "| 1.8|1.8067552285592143|\n",
      "|12.8|12.786371456196122|\n",
      "|13.8|13.780098615611323|\n",
      "| 0.7| 0.605147589808646|\n",
      "| 8.5| 8.484283647668688|\n",
      "| 4.1| 4.118707411075506|\n",
      "|11.0|10.962356278918527|\n",
      "| 3.0| 2.884413103812622|\n",
      "+----+------------------+\n",
      "only showing top 20 rows\n",
      "\n"
     ]
    }
   ],
   "source": [
    "predictions_all = lr_model.transform(df_assembled)\n",
    "\n",
    "# Select columns for actual and predicted values\n",
    "actual_pred_df = predictions_all.select(\"PTS\", \"prediction\")\n",
    "\n",
    "# Display the DataFrame with actual and predicted values\n",
    "actual_pred_df.show()\n"
   ]
  },
  {
   "cell_type": "code",
   "execution_count": null,
   "metadata": {
    "id": "GZmI7R64aYI6"
   },
   "outputs": [],
   "source": []
  }
 ],
 "metadata": {
  "colab": {
   "provenance": []
  },
  "kernelspec": {
   "display_name": "Python 3 (ipykernel)",
   "language": "python",
   "name": "python3"
  },
  "language_info": {
   "codemirror_mode": {
    "name": "ipython",
    "version": 3
   },
   "file_extension": ".py",
   "mimetype": "text/x-python",
   "name": "python",
   "nbconvert_exporter": "python",
   "pygments_lexer": "ipython3",
   "version": "3.9.16"
  }
 },
 "nbformat": 4,
 "nbformat_minor": 1
}
