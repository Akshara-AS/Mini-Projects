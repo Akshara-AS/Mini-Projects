{
 "cells": [
  {
   "cell_type": "code",
   "execution_count": 2,
   "metadata": {
    "execution": {
     "iopub.execute_input": "2022-09-18T18:47:13.264972Z",
     "iopub.status.busy": "2022-09-18T18:47:13.264557Z",
     "iopub.status.idle": "2022-09-18T18:47:13.270866Z",
     "shell.execute_reply": "2022-09-18T18:47:13.269367Z",
     "shell.execute_reply.started": "2022-09-18T18:47:13.264938Z"
    }
   },
   "outputs": [],
   "source": [
    "import pandas as pd\n",
    "import numpy as np\n",
    "import matplotlib.pyplot as plt\n",
    "import seaborn as sns"
   ]
  },
  {
   "cell_type": "code",
   "execution_count": 4,
   "metadata": {
    "execution": {
     "iopub.execute_input": "2022-09-18T18:47:13.27584Z",
     "iopub.status.busy": "2022-09-18T18:47:13.274326Z",
     "iopub.status.idle": "2022-09-18T18:47:13.307969Z",
     "shell.execute_reply": "2022-09-18T18:47:13.306748Z",
     "shell.execute_reply.started": "2022-09-18T18:47:13.27579Z"
    }
   },
   "outputs": [],
   "source": [
    "df=pd.read_csv('Hierarchical Clustering/Dataset/google_review_ratings.csv')"
   ]
  },
  {
   "cell_type": "code",
   "execution_count": 5,
   "metadata": {
    "execution": {
     "iopub.execute_input": "2022-09-18T18:47:13.310861Z",
     "iopub.status.busy": "2022-09-18T18:47:13.310377Z",
     "iopub.status.idle": "2022-09-18T18:47:13.354399Z",
     "shell.execute_reply": "2022-09-18T18:47:13.353207Z",
     "shell.execute_reply.started": "2022-09-18T18:47:13.310814Z"
    }
   },
   "outputs": [
    {
     "data": {
      "text/html": [
       "<div>\n",
       "<style scoped>\n",
       "    .dataframe tbody tr th:only-of-type {\n",
       "        vertical-align: middle;\n",
       "    }\n",
       "\n",
       "    .dataframe tbody tr th {\n",
       "        vertical-align: top;\n",
       "    }\n",
       "\n",
       "    .dataframe thead th {\n",
       "        text-align: right;\n",
       "    }\n",
       "</style>\n",
       "<table border=\"1\" class=\"dataframe\">\n",
       "  <thead>\n",
       "    <tr style=\"text-align: right;\">\n",
       "      <th></th>\n",
       "      <th>User</th>\n",
       "      <th>Category 1</th>\n",
       "      <th>Category 2</th>\n",
       "      <th>Category 3</th>\n",
       "      <th>Category 4</th>\n",
       "      <th>Category 5</th>\n",
       "      <th>Category 6</th>\n",
       "      <th>Category 7</th>\n",
       "      <th>Category 8</th>\n",
       "      <th>Category 9</th>\n",
       "      <th>...</th>\n",
       "      <th>Category 16</th>\n",
       "      <th>Category 17</th>\n",
       "      <th>Category 18</th>\n",
       "      <th>Category 19</th>\n",
       "      <th>Category 20</th>\n",
       "      <th>Category 21</th>\n",
       "      <th>Category 22</th>\n",
       "      <th>Category 23</th>\n",
       "      <th>Category 24</th>\n",
       "      <th>Unnamed: 25</th>\n",
       "    </tr>\n",
       "  </thead>\n",
       "  <tbody>\n",
       "    <tr>\n",
       "      <th>0</th>\n",
       "      <td>User 1</td>\n",
       "      <td>0.0</td>\n",
       "      <td>0.0</td>\n",
       "      <td>3.63</td>\n",
       "      <td>3.65</td>\n",
       "      <td>5.0</td>\n",
       "      <td>2.92</td>\n",
       "      <td>5.0</td>\n",
       "      <td>2.35</td>\n",
       "      <td>2.33</td>\n",
       "      <td>...</td>\n",
       "      <td>0.59</td>\n",
       "      <td>0.5</td>\n",
       "      <td>0.0</td>\n",
       "      <td>0.5</td>\n",
       "      <td>0.0</td>\n",
       "      <td>0.0</td>\n",
       "      <td>0.0</td>\n",
       "      <td>0.0</td>\n",
       "      <td>0.0</td>\n",
       "      <td>NaN</td>\n",
       "    </tr>\n",
       "    <tr>\n",
       "      <th>1</th>\n",
       "      <td>User 2</td>\n",
       "      <td>0.0</td>\n",
       "      <td>0.0</td>\n",
       "      <td>3.63</td>\n",
       "      <td>3.65</td>\n",
       "      <td>5.0</td>\n",
       "      <td>2.92</td>\n",
       "      <td>5.0</td>\n",
       "      <td>2.64</td>\n",
       "      <td>2.33</td>\n",
       "      <td>...</td>\n",
       "      <td>0.59</td>\n",
       "      <td>0.5</td>\n",
       "      <td>0.0</td>\n",
       "      <td>0.5</td>\n",
       "      <td>0.0</td>\n",
       "      <td>0.0</td>\n",
       "      <td>0.0</td>\n",
       "      <td>0.0</td>\n",
       "      <td>0.0</td>\n",
       "      <td>NaN</td>\n",
       "    </tr>\n",
       "    <tr>\n",
       "      <th>2</th>\n",
       "      <td>User 3</td>\n",
       "      <td>0.0</td>\n",
       "      <td>0.0</td>\n",
       "      <td>3.63</td>\n",
       "      <td>3.63</td>\n",
       "      <td>5.0</td>\n",
       "      <td>2.92</td>\n",
       "      <td>5.0</td>\n",
       "      <td>2.64</td>\n",
       "      <td>2.33</td>\n",
       "      <td>...</td>\n",
       "      <td>0.59</td>\n",
       "      <td>0.5</td>\n",
       "      <td>0.0</td>\n",
       "      <td>0.5</td>\n",
       "      <td>0.0</td>\n",
       "      <td>0.0</td>\n",
       "      <td>0.0</td>\n",
       "      <td>0.0</td>\n",
       "      <td>0.0</td>\n",
       "      <td>NaN</td>\n",
       "    </tr>\n",
       "    <tr>\n",
       "      <th>3</th>\n",
       "      <td>User 4</td>\n",
       "      <td>0.0</td>\n",
       "      <td>0.5</td>\n",
       "      <td>3.63</td>\n",
       "      <td>3.63</td>\n",
       "      <td>5.0</td>\n",
       "      <td>2.92</td>\n",
       "      <td>5.0</td>\n",
       "      <td>2.35</td>\n",
       "      <td>2.33</td>\n",
       "      <td>...</td>\n",
       "      <td>0.59</td>\n",
       "      <td>0.5</td>\n",
       "      <td>0.0</td>\n",
       "      <td>0.5</td>\n",
       "      <td>0.0</td>\n",
       "      <td>0.0</td>\n",
       "      <td>0.0</td>\n",
       "      <td>0.0</td>\n",
       "      <td>0.0</td>\n",
       "      <td>NaN</td>\n",
       "    </tr>\n",
       "    <tr>\n",
       "      <th>4</th>\n",
       "      <td>User 5</td>\n",
       "      <td>0.0</td>\n",
       "      <td>0.0</td>\n",
       "      <td>3.63</td>\n",
       "      <td>3.63</td>\n",
       "      <td>5.0</td>\n",
       "      <td>2.92</td>\n",
       "      <td>5.0</td>\n",
       "      <td>2.64</td>\n",
       "      <td>2.33</td>\n",
       "      <td>...</td>\n",
       "      <td>0.59</td>\n",
       "      <td>0.5</td>\n",
       "      <td>0.0</td>\n",
       "      <td>0.5</td>\n",
       "      <td>0.0</td>\n",
       "      <td>0.0</td>\n",
       "      <td>0.0</td>\n",
       "      <td>0.0</td>\n",
       "      <td>0.0</td>\n",
       "      <td>NaN</td>\n",
       "    </tr>\n",
       "  </tbody>\n",
       "</table>\n",
       "<p>5 rows × 26 columns</p>\n",
       "</div>"
      ],
      "text/plain": [
       "     User  Category 1  Category 2  Category 3  Category 4  Category 5  \\\n",
       "0  User 1         0.0         0.0        3.63        3.65         5.0   \n",
       "1  User 2         0.0         0.0        3.63        3.65         5.0   \n",
       "2  User 3         0.0         0.0        3.63        3.63         5.0   \n",
       "3  User 4         0.0         0.5        3.63        3.63         5.0   \n",
       "4  User 5         0.0         0.0        3.63        3.63         5.0   \n",
       "\n",
       "   Category 6  Category 7  Category 8  Category 9  ...  Category 16  \\\n",
       "0        2.92         5.0        2.35        2.33  ...         0.59   \n",
       "1        2.92         5.0        2.64        2.33  ...         0.59   \n",
       "2        2.92         5.0        2.64        2.33  ...         0.59   \n",
       "3        2.92         5.0        2.35        2.33  ...         0.59   \n",
       "4        2.92         5.0        2.64        2.33  ...         0.59   \n",
       "\n",
       "  Category 17  Category 18  Category 19  Category 20  Category 21  \\\n",
       "0         0.5          0.0          0.5          0.0          0.0   \n",
       "1         0.5          0.0          0.5          0.0          0.0   \n",
       "2         0.5          0.0          0.5          0.0          0.0   \n",
       "3         0.5          0.0          0.5          0.0          0.0   \n",
       "4         0.5          0.0          0.5          0.0          0.0   \n",
       "\n",
       "   Category 22  Category 23  Category 24  Unnamed: 25  \n",
       "0          0.0          0.0          0.0          NaN  \n",
       "1          0.0          0.0          0.0          NaN  \n",
       "2          0.0          0.0          0.0          NaN  \n",
       "3          0.0          0.0          0.0          NaN  \n",
       "4          0.0          0.0          0.0          NaN  \n",
       "\n",
       "[5 rows x 26 columns]"
      ]
     },
     "execution_count": 5,
     "metadata": {},
     "output_type": "execute_result"
    }
   ],
   "source": [
    "df.head()"
   ]
  },
  {
   "cell_type": "code",
   "execution_count": 6,
   "metadata": {
    "execution": {
     "iopub.execute_input": "2022-09-18T18:47:13.360107Z",
     "iopub.status.busy": "2022-09-18T18:47:13.359218Z",
     "iopub.status.idle": "2022-09-18T18:47:13.368499Z",
     "shell.execute_reply": "2022-09-18T18:47:13.367083Z",
     "shell.execute_reply.started": "2022-09-18T18:47:13.360056Z"
    }
   },
   "outputs": [
    {
     "data": {
      "text/plain": [
       "(5456, 26)"
      ]
     },
     "execution_count": 6,
     "metadata": {},
     "output_type": "execute_result"
    }
   ],
   "source": [
    "df.shape"
   ]
  },
  {
   "cell_type": "code",
   "execution_count": 7,
   "metadata": {
    "execution": {
     "iopub.execute_input": "2022-09-18T18:47:13.404613Z",
     "iopub.status.busy": "2022-09-18T18:47:13.404145Z",
     "iopub.status.idle": "2022-09-18T18:47:13.443365Z",
     "shell.execute_reply": "2022-09-18T18:47:13.442123Z",
     "shell.execute_reply.started": "2022-09-18T18:47:13.404578Z"
    }
   },
   "outputs": [
    {
     "data": {
      "text/html": [
       "<div>\n",
       "<style scoped>\n",
       "    .dataframe tbody tr th:only-of-type {\n",
       "        vertical-align: middle;\n",
       "    }\n",
       "\n",
       "    .dataframe tbody tr th {\n",
       "        vertical-align: top;\n",
       "    }\n",
       "\n",
       "    .dataframe thead th {\n",
       "        text-align: right;\n",
       "    }\n",
       "</style>\n",
       "<table border=\"1\" class=\"dataframe\">\n",
       "  <thead>\n",
       "    <tr style=\"text-align: right;\">\n",
       "      <th></th>\n",
       "      <th>User</th>\n",
       "      <th>Category 1</th>\n",
       "      <th>Category 2</th>\n",
       "      <th>Category 3</th>\n",
       "      <th>Category 4</th>\n",
       "      <th>Category 5</th>\n",
       "      <th>Category 6</th>\n",
       "      <th>Category 7</th>\n",
       "      <th>Category 8</th>\n",
       "      <th>Category 9</th>\n",
       "      <th>...</th>\n",
       "      <th>Category 15</th>\n",
       "      <th>Category 16</th>\n",
       "      <th>Category 17</th>\n",
       "      <th>Category 18</th>\n",
       "      <th>Category 19</th>\n",
       "      <th>Category 20</th>\n",
       "      <th>Category 21</th>\n",
       "      <th>Category 22</th>\n",
       "      <th>Category 23</th>\n",
       "      <th>Category 24</th>\n",
       "    </tr>\n",
       "  </thead>\n",
       "  <tbody>\n",
       "    <tr>\n",
       "      <th>0</th>\n",
       "      <td>User 1</td>\n",
       "      <td>0.0</td>\n",
       "      <td>0.0</td>\n",
       "      <td>3.63</td>\n",
       "      <td>3.65</td>\n",
       "      <td>5.0</td>\n",
       "      <td>2.92</td>\n",
       "      <td>5.0</td>\n",
       "      <td>2.35</td>\n",
       "      <td>2.33</td>\n",
       "      <td>...</td>\n",
       "      <td>1.74</td>\n",
       "      <td>0.59</td>\n",
       "      <td>0.5</td>\n",
       "      <td>0.0</td>\n",
       "      <td>0.5</td>\n",
       "      <td>0.0</td>\n",
       "      <td>0.0</td>\n",
       "      <td>0.0</td>\n",
       "      <td>0.0</td>\n",
       "      <td>0.0</td>\n",
       "    </tr>\n",
       "    <tr>\n",
       "      <th>1</th>\n",
       "      <td>User 2</td>\n",
       "      <td>0.0</td>\n",
       "      <td>0.0</td>\n",
       "      <td>3.63</td>\n",
       "      <td>3.65</td>\n",
       "      <td>5.0</td>\n",
       "      <td>2.92</td>\n",
       "      <td>5.0</td>\n",
       "      <td>2.64</td>\n",
       "      <td>2.33</td>\n",
       "      <td>...</td>\n",
       "      <td>1.74</td>\n",
       "      <td>0.59</td>\n",
       "      <td>0.5</td>\n",
       "      <td>0.0</td>\n",
       "      <td>0.5</td>\n",
       "      <td>0.0</td>\n",
       "      <td>0.0</td>\n",
       "      <td>0.0</td>\n",
       "      <td>0.0</td>\n",
       "      <td>0.0</td>\n",
       "    </tr>\n",
       "    <tr>\n",
       "      <th>2</th>\n",
       "      <td>User 3</td>\n",
       "      <td>0.0</td>\n",
       "      <td>0.0</td>\n",
       "      <td>3.63</td>\n",
       "      <td>3.63</td>\n",
       "      <td>5.0</td>\n",
       "      <td>2.92</td>\n",
       "      <td>5.0</td>\n",
       "      <td>2.64</td>\n",
       "      <td>2.33</td>\n",
       "      <td>...</td>\n",
       "      <td>1.74</td>\n",
       "      <td>0.59</td>\n",
       "      <td>0.5</td>\n",
       "      <td>0.0</td>\n",
       "      <td>0.5</td>\n",
       "      <td>0.0</td>\n",
       "      <td>0.0</td>\n",
       "      <td>0.0</td>\n",
       "      <td>0.0</td>\n",
       "      <td>0.0</td>\n",
       "    </tr>\n",
       "    <tr>\n",
       "      <th>3</th>\n",
       "      <td>User 4</td>\n",
       "      <td>0.0</td>\n",
       "      <td>0.5</td>\n",
       "      <td>3.63</td>\n",
       "      <td>3.63</td>\n",
       "      <td>5.0</td>\n",
       "      <td>2.92</td>\n",
       "      <td>5.0</td>\n",
       "      <td>2.35</td>\n",
       "      <td>2.33</td>\n",
       "      <td>...</td>\n",
       "      <td>1.74</td>\n",
       "      <td>0.59</td>\n",
       "      <td>0.5</td>\n",
       "      <td>0.0</td>\n",
       "      <td>0.5</td>\n",
       "      <td>0.0</td>\n",
       "      <td>0.0</td>\n",
       "      <td>0.0</td>\n",
       "      <td>0.0</td>\n",
       "      <td>0.0</td>\n",
       "    </tr>\n",
       "    <tr>\n",
       "      <th>4</th>\n",
       "      <td>User 5</td>\n",
       "      <td>0.0</td>\n",
       "      <td>0.0</td>\n",
       "      <td>3.63</td>\n",
       "      <td>3.63</td>\n",
       "      <td>5.0</td>\n",
       "      <td>2.92</td>\n",
       "      <td>5.0</td>\n",
       "      <td>2.64</td>\n",
       "      <td>2.33</td>\n",
       "      <td>...</td>\n",
       "      <td>1.74</td>\n",
       "      <td>0.59</td>\n",
       "      <td>0.5</td>\n",
       "      <td>0.0</td>\n",
       "      <td>0.5</td>\n",
       "      <td>0.0</td>\n",
       "      <td>0.0</td>\n",
       "      <td>0.0</td>\n",
       "      <td>0.0</td>\n",
       "      <td>0.0</td>\n",
       "    </tr>\n",
       "  </tbody>\n",
       "</table>\n",
       "<p>5 rows × 25 columns</p>\n",
       "</div>"
      ],
      "text/plain": [
       "     User  Category 1  Category 2  Category 3  Category 4  Category 5  \\\n",
       "0  User 1         0.0         0.0        3.63        3.65         5.0   \n",
       "1  User 2         0.0         0.0        3.63        3.65         5.0   \n",
       "2  User 3         0.0         0.0        3.63        3.63         5.0   \n",
       "3  User 4         0.0         0.5        3.63        3.63         5.0   \n",
       "4  User 5         0.0         0.0        3.63        3.63         5.0   \n",
       "\n",
       "   Category 6  Category 7  Category 8  Category 9  ...  Category 15  \\\n",
       "0        2.92         5.0        2.35        2.33  ...         1.74   \n",
       "1        2.92         5.0        2.64        2.33  ...         1.74   \n",
       "2        2.92         5.0        2.64        2.33  ...         1.74   \n",
       "3        2.92         5.0        2.35        2.33  ...         1.74   \n",
       "4        2.92         5.0        2.64        2.33  ...         1.74   \n",
       "\n",
       "  Category 16  Category 17  Category 18  Category 19  Category 20  \\\n",
       "0        0.59          0.5          0.0          0.5          0.0   \n",
       "1        0.59          0.5          0.0          0.5          0.0   \n",
       "2        0.59          0.5          0.0          0.5          0.0   \n",
       "3        0.59          0.5          0.0          0.5          0.0   \n",
       "4        0.59          0.5          0.0          0.5          0.0   \n",
       "\n",
       "   Category 21  Category 22  Category 23  Category 24  \n",
       "0          0.0          0.0          0.0          0.0  \n",
       "1          0.0          0.0          0.0          0.0  \n",
       "2          0.0          0.0          0.0          0.0  \n",
       "3          0.0          0.0          0.0          0.0  \n",
       "4          0.0          0.0          0.0          0.0  \n",
       "\n",
       "[5 rows x 25 columns]"
      ]
     },
     "execution_count": 7,
     "metadata": {},
     "output_type": "execute_result"
    }
   ],
   "source": [
    "data=df.drop('Unnamed: 25',axis=1)\n",
    "data.head()"
   ]
  },
  {
   "cell_type": "code",
   "execution_count": 8,
   "metadata": {
    "execution": {
     "iopub.execute_input": "2022-09-18T18:47:13.445238Z",
     "iopub.status.busy": "2022-09-18T18:47:13.444862Z",
     "iopub.status.idle": "2022-09-18T18:47:13.452041Z",
     "shell.execute_reply": "2022-09-18T18:47:13.450605Z",
     "shell.execute_reply.started": "2022-09-18T18:47:13.445204Z"
    }
   },
   "outputs": [],
   "source": [
    "column_names=['user_id','churches','resorts','beaches','parks','theaters','museums','malls','zoo','restaurent','pubs_bars','local_services','burzer_pizza_shops','hotel_other_lodgings','juice_bars','art_gallaries','dance_clubs','swimming_pools','gyms','bakeries','beauty_spas','cafes','view_points','monuments','gardens']"
   ]
  },
  {
   "cell_type": "code",
   "execution_count": 9,
   "metadata": {
    "execution": {
     "iopub.execute_input": "2022-09-18T18:47:13.455617Z",
     "iopub.status.busy": "2022-09-18T18:47:13.45514Z",
     "iopub.status.idle": "2022-09-18T18:47:13.492312Z",
     "shell.execute_reply": "2022-09-18T18:47:13.491041Z",
     "shell.execute_reply.started": "2022-09-18T18:47:13.455579Z"
    }
   },
   "outputs": [
    {
     "data": {
      "text/html": [
       "<div>\n",
       "<style scoped>\n",
       "    .dataframe tbody tr th:only-of-type {\n",
       "        vertical-align: middle;\n",
       "    }\n",
       "\n",
       "    .dataframe tbody tr th {\n",
       "        vertical-align: top;\n",
       "    }\n",
       "\n",
       "    .dataframe thead th {\n",
       "        text-align: right;\n",
       "    }\n",
       "</style>\n",
       "<table border=\"1\" class=\"dataframe\">\n",
       "  <thead>\n",
       "    <tr style=\"text-align: right;\">\n",
       "      <th></th>\n",
       "      <th>user_id</th>\n",
       "      <th>churches</th>\n",
       "      <th>resorts</th>\n",
       "      <th>beaches</th>\n",
       "      <th>parks</th>\n",
       "      <th>theaters</th>\n",
       "      <th>museums</th>\n",
       "      <th>malls</th>\n",
       "      <th>zoo</th>\n",
       "      <th>restaurent</th>\n",
       "      <th>...</th>\n",
       "      <th>art_gallaries</th>\n",
       "      <th>dance_clubs</th>\n",
       "      <th>swimming_pools</th>\n",
       "      <th>gyms</th>\n",
       "      <th>bakeries</th>\n",
       "      <th>beauty_spas</th>\n",
       "      <th>cafes</th>\n",
       "      <th>view_points</th>\n",
       "      <th>monuments</th>\n",
       "      <th>gardens</th>\n",
       "    </tr>\n",
       "  </thead>\n",
       "  <tbody>\n",
       "    <tr>\n",
       "      <th>0</th>\n",
       "      <td>User 1</td>\n",
       "      <td>0.0</td>\n",
       "      <td>0.0</td>\n",
       "      <td>3.63</td>\n",
       "      <td>3.65</td>\n",
       "      <td>5.0</td>\n",
       "      <td>2.92</td>\n",
       "      <td>5.0</td>\n",
       "      <td>2.35</td>\n",
       "      <td>2.33</td>\n",
       "      <td>...</td>\n",
       "      <td>1.74</td>\n",
       "      <td>0.59</td>\n",
       "      <td>0.5</td>\n",
       "      <td>0.0</td>\n",
       "      <td>0.5</td>\n",
       "      <td>0.0</td>\n",
       "      <td>0.0</td>\n",
       "      <td>0.0</td>\n",
       "      <td>0.0</td>\n",
       "      <td>0.0</td>\n",
       "    </tr>\n",
       "    <tr>\n",
       "      <th>1</th>\n",
       "      <td>User 2</td>\n",
       "      <td>0.0</td>\n",
       "      <td>0.0</td>\n",
       "      <td>3.63</td>\n",
       "      <td>3.65</td>\n",
       "      <td>5.0</td>\n",
       "      <td>2.92</td>\n",
       "      <td>5.0</td>\n",
       "      <td>2.64</td>\n",
       "      <td>2.33</td>\n",
       "      <td>...</td>\n",
       "      <td>1.74</td>\n",
       "      <td>0.59</td>\n",
       "      <td>0.5</td>\n",
       "      <td>0.0</td>\n",
       "      <td>0.5</td>\n",
       "      <td>0.0</td>\n",
       "      <td>0.0</td>\n",
       "      <td>0.0</td>\n",
       "      <td>0.0</td>\n",
       "      <td>0.0</td>\n",
       "    </tr>\n",
       "    <tr>\n",
       "      <th>2</th>\n",
       "      <td>User 3</td>\n",
       "      <td>0.0</td>\n",
       "      <td>0.0</td>\n",
       "      <td>3.63</td>\n",
       "      <td>3.63</td>\n",
       "      <td>5.0</td>\n",
       "      <td>2.92</td>\n",
       "      <td>5.0</td>\n",
       "      <td>2.64</td>\n",
       "      <td>2.33</td>\n",
       "      <td>...</td>\n",
       "      <td>1.74</td>\n",
       "      <td>0.59</td>\n",
       "      <td>0.5</td>\n",
       "      <td>0.0</td>\n",
       "      <td>0.5</td>\n",
       "      <td>0.0</td>\n",
       "      <td>0.0</td>\n",
       "      <td>0.0</td>\n",
       "      <td>0.0</td>\n",
       "      <td>0.0</td>\n",
       "    </tr>\n",
       "    <tr>\n",
       "      <th>3</th>\n",
       "      <td>User 4</td>\n",
       "      <td>0.0</td>\n",
       "      <td>0.5</td>\n",
       "      <td>3.63</td>\n",
       "      <td>3.63</td>\n",
       "      <td>5.0</td>\n",
       "      <td>2.92</td>\n",
       "      <td>5.0</td>\n",
       "      <td>2.35</td>\n",
       "      <td>2.33</td>\n",
       "      <td>...</td>\n",
       "      <td>1.74</td>\n",
       "      <td>0.59</td>\n",
       "      <td>0.5</td>\n",
       "      <td>0.0</td>\n",
       "      <td>0.5</td>\n",
       "      <td>0.0</td>\n",
       "      <td>0.0</td>\n",
       "      <td>0.0</td>\n",
       "      <td>0.0</td>\n",
       "      <td>0.0</td>\n",
       "    </tr>\n",
       "    <tr>\n",
       "      <th>4</th>\n",
       "      <td>User 5</td>\n",
       "      <td>0.0</td>\n",
       "      <td>0.0</td>\n",
       "      <td>3.63</td>\n",
       "      <td>3.63</td>\n",
       "      <td>5.0</td>\n",
       "      <td>2.92</td>\n",
       "      <td>5.0</td>\n",
       "      <td>2.64</td>\n",
       "      <td>2.33</td>\n",
       "      <td>...</td>\n",
       "      <td>1.74</td>\n",
       "      <td>0.59</td>\n",
       "      <td>0.5</td>\n",
       "      <td>0.0</td>\n",
       "      <td>0.5</td>\n",
       "      <td>0.0</td>\n",
       "      <td>0.0</td>\n",
       "      <td>0.0</td>\n",
       "      <td>0.0</td>\n",
       "      <td>0.0</td>\n",
       "    </tr>\n",
       "  </tbody>\n",
       "</table>\n",
       "<p>5 rows × 25 columns</p>\n",
       "</div>"
      ],
      "text/plain": [
       "  user_id  churches  resorts  beaches  parks  theaters  museums  malls   zoo  \\\n",
       "0  User 1       0.0      0.0     3.63   3.65       5.0     2.92    5.0  2.35   \n",
       "1  User 2       0.0      0.0     3.63   3.65       5.0     2.92    5.0  2.64   \n",
       "2  User 3       0.0      0.0     3.63   3.63       5.0     2.92    5.0  2.64   \n",
       "3  User 4       0.0      0.5     3.63   3.63       5.0     2.92    5.0  2.35   \n",
       "4  User 5       0.0      0.0     3.63   3.63       5.0     2.92    5.0  2.64   \n",
       "\n",
       "   restaurent  ...  art_gallaries dance_clubs  swimming_pools  gyms  bakeries  \\\n",
       "0        2.33  ...           1.74        0.59             0.5   0.0       0.5   \n",
       "1        2.33  ...           1.74        0.59             0.5   0.0       0.5   \n",
       "2        2.33  ...           1.74        0.59             0.5   0.0       0.5   \n",
       "3        2.33  ...           1.74        0.59             0.5   0.0       0.5   \n",
       "4        2.33  ...           1.74        0.59             0.5   0.0       0.5   \n",
       "\n",
       "   beauty_spas  cafes  view_points  monuments  gardens  \n",
       "0          0.0    0.0          0.0        0.0      0.0  \n",
       "1          0.0    0.0          0.0        0.0      0.0  \n",
       "2          0.0    0.0          0.0        0.0      0.0  \n",
       "3          0.0    0.0          0.0        0.0      0.0  \n",
       "4          0.0    0.0          0.0        0.0      0.0  \n",
       "\n",
       "[5 rows x 25 columns]"
      ]
     },
     "execution_count": 9,
     "metadata": {},
     "output_type": "execute_result"
    }
   ],
   "source": [
    "data.columns=column_names\n",
    "data.head()"
   ]
  },
  {
   "cell_type": "code",
   "execution_count": 10,
   "metadata": {
    "execution": {
     "iopub.execute_input": "2022-09-18T18:47:13.494893Z",
     "iopub.status.busy": "2022-09-18T18:47:13.4943Z",
     "iopub.status.idle": "2022-09-18T18:47:13.509429Z",
     "shell.execute_reply": "2022-09-18T18:47:13.508127Z",
     "shell.execute_reply.started": "2022-09-18T18:47:13.494856Z"
    }
   },
   "outputs": [
    {
     "name": "stdout",
     "output_type": "stream",
     "text": [
      "<class 'pandas.core.frame.DataFrame'>\n",
      "RangeIndex: 5456 entries, 0 to 5455\n",
      "Data columns (total 25 columns):\n",
      " #   Column                Non-Null Count  Dtype  \n",
      "---  ------                --------------  -----  \n",
      " 0   user_id               5456 non-null   object \n",
      " 1   churches              5456 non-null   float64\n",
      " 2   resorts               5456 non-null   float64\n",
      " 3   beaches               5456 non-null   float64\n",
      " 4   parks                 5456 non-null   float64\n",
      " 5   theaters              5456 non-null   float64\n",
      " 6   museums               5456 non-null   float64\n",
      " 7   malls                 5456 non-null   float64\n",
      " 8   zoo                   5456 non-null   float64\n",
      " 9   restaurent            5456 non-null   float64\n",
      " 10  pubs_bars             5456 non-null   float64\n",
      " 11  local_services        5456 non-null   object \n",
      " 12  burzer_pizza_shops    5455 non-null   float64\n",
      " 13  hotel_other_lodgings  5456 non-null   float64\n",
      " 14  juice_bars            5456 non-null   float64\n",
      " 15  art_gallaries         5456 non-null   float64\n",
      " 16  dance_clubs           5456 non-null   float64\n",
      " 17  swimming_pools        5456 non-null   float64\n",
      " 18  gyms                  5456 non-null   float64\n",
      " 19  bakeries              5456 non-null   float64\n",
      " 20  beauty_spas           5456 non-null   float64\n",
      " 21  cafes                 5456 non-null   float64\n",
      " 22  view_points           5456 non-null   float64\n",
      " 23  monuments             5456 non-null   float64\n",
      " 24  gardens               5455 non-null   float64\n",
      "dtypes: float64(23), object(2)\n",
      "memory usage: 1.0+ MB\n"
     ]
    }
   ],
   "source": [
    "data.info()"
   ]
  },
  {
   "cell_type": "code",
   "execution_count": 11,
   "metadata": {
    "execution": {
     "iopub.execute_input": "2022-09-18T18:47:13.511629Z",
     "iopub.status.busy": "2022-09-18T18:47:13.511242Z",
     "iopub.status.idle": "2022-09-18T18:47:13.520529Z",
     "shell.execute_reply": "2022-09-18T18:47:13.519013Z",
     "shell.execute_reply.started": "2022-09-18T18:47:13.511587Z"
    }
   },
   "outputs": [
    {
     "data": {
      "text/plain": [
       "array(['1.7', '1.73', '1.71', '1.69', '1.67', '1.65', '1.66', '1.64',\n",
       "       '1.63', '5', '1.56', '1.55', '1.53', '1.52', '1.51', '1.5', '1.49',\n",
       "       '1.48', '1.46', '2.13', '2.12', '2.1', '2.09', '2.08', '2.07',\n",
       "       '2.06', '2.05', '2.04', '2.03', '2.01', '2', '1.98', '1.97',\n",
       "       '1.95', '1.93', '1.91', '1.9', '1.88', '1.86', '1.84', '1.83',\n",
       "       '1.81', '1.79', '1.77', '1.74', '1.72', '1.68', '1.61', '1.6',\n",
       "       '1.59', '1.58', '1.99', '2.47', '2.35', '2.48', '2.59', '3.39',\n",
       "       '2.31', '2.78', '2.79', '2.77', '2.76', '2.75', '2.74', '2.72',\n",
       "       '2.71', '2.69', '2.68', '2.66', '2.65', '2.63', '2.61', '2.57',\n",
       "       '2.55', '2.53', '2.51', '2.49', '1.94', '1.92', '1.82', '1.76',\n",
       "       '1.62', '4.08', '4.04', '4.02', '4.01', '4', '3.99', '3.98',\n",
       "       '3.96', '3.95', '3.94', '3.93', '3.91', '3.9', '3.88', '3.87',\n",
       "       '3.86', '3.84', '3.85', '2.17', '3', '2.99', '2.82', '2.83',\n",
       "       '2.81', '2.8', '2.73', '2.67', '2.64', '2.62', '2.54', '2.52',\n",
       "       '2.5', '2.02', '1.57', '1.54', '1.47', '1.87', '1.85', '1.78',\n",
       "       '2.6', '1.45', '1.43', '1.41', '1.39', '1.37', '1.36', '1.34',\n",
       "       '1.32', '1.3', '1.28', '1.26', '1.24', '1.22', '1.2', '1.18',\n",
       "       '1.16', '1.14', '1.12', '1.1', '1.08', '1.07', '1.05', '1.03',\n",
       "       '1.01', '0.99', '0.97', '0.96', '0.94', '0.92', '0.9', '0.88',\n",
       "       '0.87', '0.85', '0.83', '0.82', '0.84', '0.86', '3.35', '3.34',\n",
       "       '3.33', '3.32', '3.31', '3.3', '3.29', '3.28', '3.27', '3.26',\n",
       "       '3.25', '3.24', '3.22', '3.21', '3.19', '3.17', '3.16', '3.14',\n",
       "       '3.08', '3.06', '3.04', '3.02', '2.98', '2.97', '2.94', '2.92',\n",
       "       '2.91', '2.89', '2.87', '2.85', '2.7', '2.28', '2.26', '2.25',\n",
       "       '2.45', '2.43', '2.41', '2.39', '2.37', '2.34', '2.32', '2.3',\n",
       "       '2.24', '2.23', '2.21', '2.19', '2.18', '2.15', '2.14', '2.11',\n",
       "       '1.89', '1.75', '1.8', '1.44', '1.42', '1.17', '1.19', '1.35',\n",
       "       '1.38', '1.33', '1.31', '1.29', '1.27', '1.25', '1.23', '1.21',\n",
       "       '1.06', '1.04', '1.02', '1', '0.98', '0.95', '0.93', '0.91',\n",
       "       '4.95', '4.96', '3.07', '2.9', '2.88', '2.84', '2.22', '2.29',\n",
       "       '2.27', '2.2', '1.96', '3.82', '3.11', '2.93', '2.16', '3.74',\n",
       "       '3.72', '2.58', '2.44', '2.42', '2.4', '2.33', '1.4', '1.09',\n",
       "       '3.15', '3.13', '3.12', '3.1', '3.09', '2.96', '2.95', '2.86',\n",
       "       '2.38', '2.36', '3.56', '0.89', '0.81', '4.98', '3.4', '4.06',\n",
       "       '4.05', '4.03', '3.97', '3.03', '3.01', '3.18', '1.15', '1.13',\n",
       "       '1.11', '3.23', '2.46', '2\\t2.', '0.8', '4.94', '3.92', '3.2',\n",
       "       '3.05', '0.79', '0.78', '4.09', '4.97', '2.56', '3.54'],\n",
       "      dtype=object)"
      ]
     },
     "execution_count": 11,
     "metadata": {},
     "output_type": "execute_result"
    }
   ],
   "source": [
    "data['local_services'].unique()"
   ]
  },
  {
   "cell_type": "code",
   "execution_count": 12,
   "metadata": {
    "execution": {
     "iopub.execute_input": "2022-09-18T18:47:13.523018Z",
     "iopub.status.busy": "2022-09-18T18:47:13.52209Z",
     "iopub.status.idle": "2022-09-18T18:47:13.533284Z",
     "shell.execute_reply": "2022-09-18T18:47:13.531866Z",
     "shell.execute_reply.started": "2022-09-18T18:47:13.522821Z"
    }
   },
   "outputs": [],
   "source": [
    "data['local_services'].replace({'2\\t2.':np.NaN},inplace=True)"
   ]
  },
  {
   "cell_type": "code",
   "execution_count": 13,
   "metadata": {
    "execution": {
     "iopub.execute_input": "2022-09-18T18:47:13.535023Z",
     "iopub.status.busy": "2022-09-18T18:47:13.534688Z",
     "iopub.status.idle": "2022-09-18T18:47:13.543487Z",
     "shell.execute_reply": "2022-09-18T18:47:13.542343Z",
     "shell.execute_reply.started": "2022-09-18T18:47:13.534994Z"
    }
   },
   "outputs": [],
   "source": [
    "data['local_services'].dropna(inplace=True)"
   ]
  },
  {
   "cell_type": "code",
   "execution_count": 14,
   "metadata": {
    "execution": {
     "iopub.execute_input": "2022-09-18T18:47:13.545652Z",
     "iopub.status.busy": "2022-09-18T18:47:13.545238Z",
     "iopub.status.idle": "2022-09-18T18:47:13.556961Z",
     "shell.execute_reply": "2022-09-18T18:47:13.556123Z",
     "shell.execute_reply.started": "2022-09-18T18:47:13.545595Z"
    }
   },
   "outputs": [],
   "source": [
    "data['local_services']=data['local_services'].astype('float')"
   ]
  },
  {
   "cell_type": "code",
   "execution_count": 15,
   "metadata": {
    "execution": {
     "iopub.execute_input": "2022-09-18T18:47:13.581217Z",
     "iopub.status.busy": "2022-09-18T18:47:13.580885Z",
     "iopub.status.idle": "2022-09-18T18:47:13.590614Z",
     "shell.execute_reply": "2022-09-18T18:47:13.589435Z",
     "shell.execute_reply.started": "2022-09-18T18:47:13.581185Z"
    }
   },
   "outputs": [],
   "source": [
    "data_manipulated=data.copy(deep=True)"
   ]
  },
  {
   "cell_type": "code",
   "execution_count": 16,
   "metadata": {
    "execution": {
     "iopub.execute_input": "2022-09-18T18:47:13.594885Z",
     "iopub.status.busy": "2022-09-18T18:47:13.59442Z",
     "iopub.status.idle": "2022-09-18T18:47:13.683259Z",
     "shell.execute_reply": "2022-09-18T18:47:13.681858Z",
     "shell.execute_reply.started": "2022-09-18T18:47:13.594844Z"
    }
   },
   "outputs": [
    {
     "data": {
      "text/html": [
       "<div>\n",
       "<style scoped>\n",
       "    .dataframe tbody tr th:only-of-type {\n",
       "        vertical-align: middle;\n",
       "    }\n",
       "\n",
       "    .dataframe tbody tr th {\n",
       "        vertical-align: top;\n",
       "    }\n",
       "\n",
       "    .dataframe thead th {\n",
       "        text-align: right;\n",
       "    }\n",
       "</style>\n",
       "<table border=\"1\" class=\"dataframe\">\n",
       "  <thead>\n",
       "    <tr style=\"text-align: right;\">\n",
       "      <th></th>\n",
       "      <th>churches</th>\n",
       "      <th>resorts</th>\n",
       "      <th>beaches</th>\n",
       "      <th>parks</th>\n",
       "      <th>theaters</th>\n",
       "      <th>museums</th>\n",
       "      <th>malls</th>\n",
       "      <th>zoo</th>\n",
       "      <th>restaurent</th>\n",
       "      <th>pubs_bars</th>\n",
       "      <th>...</th>\n",
       "      <th>art_gallaries</th>\n",
       "      <th>dance_clubs</th>\n",
       "      <th>swimming_pools</th>\n",
       "      <th>gyms</th>\n",
       "      <th>bakeries</th>\n",
       "      <th>beauty_spas</th>\n",
       "      <th>cafes</th>\n",
       "      <th>view_points</th>\n",
       "      <th>monuments</th>\n",
       "      <th>gardens</th>\n",
       "    </tr>\n",
       "  </thead>\n",
       "  <tbody>\n",
       "    <tr>\n",
       "      <th>count</th>\n",
       "      <td>5456.000000</td>\n",
       "      <td>5456.000000</td>\n",
       "      <td>5456.000000</td>\n",
       "      <td>5456.000000</td>\n",
       "      <td>5456.000000</td>\n",
       "      <td>5456.00000</td>\n",
       "      <td>5456.000000</td>\n",
       "      <td>5456.000000</td>\n",
       "      <td>5456.000000</td>\n",
       "      <td>5456.000000</td>\n",
       "      <td>...</td>\n",
       "      <td>5456.000000</td>\n",
       "      <td>5456.000000</td>\n",
       "      <td>5456.000000</td>\n",
       "      <td>5456.000000</td>\n",
       "      <td>5456.000000</td>\n",
       "      <td>5456.000000</td>\n",
       "      <td>5456.000000</td>\n",
       "      <td>5456.000000</td>\n",
       "      <td>5456.000000</td>\n",
       "      <td>5455.000000</td>\n",
       "    </tr>\n",
       "    <tr>\n",
       "      <th>mean</th>\n",
       "      <td>1.455720</td>\n",
       "      <td>2.319707</td>\n",
       "      <td>2.489331</td>\n",
       "      <td>2.796886</td>\n",
       "      <td>2.958941</td>\n",
       "      <td>2.89349</td>\n",
       "      <td>3.351395</td>\n",
       "      <td>2.540795</td>\n",
       "      <td>3.126019</td>\n",
       "      <td>2.832729</td>\n",
       "      <td>...</td>\n",
       "      <td>2.206573</td>\n",
       "      <td>1.192801</td>\n",
       "      <td>0.949203</td>\n",
       "      <td>0.822414</td>\n",
       "      <td>0.969811</td>\n",
       "      <td>1.000071</td>\n",
       "      <td>0.965838</td>\n",
       "      <td>1.750537</td>\n",
       "      <td>1.531453</td>\n",
       "      <td>1.560755</td>\n",
       "    </tr>\n",
       "    <tr>\n",
       "      <th>std</th>\n",
       "      <td>0.827604</td>\n",
       "      <td>1.421438</td>\n",
       "      <td>1.247815</td>\n",
       "      <td>1.309159</td>\n",
       "      <td>1.339056</td>\n",
       "      <td>1.28240</td>\n",
       "      <td>1.413492</td>\n",
       "      <td>1.111391</td>\n",
       "      <td>1.356802</td>\n",
       "      <td>1.307665</td>\n",
       "      <td>...</td>\n",
       "      <td>1.715961</td>\n",
       "      <td>1.107005</td>\n",
       "      <td>0.973536</td>\n",
       "      <td>0.947911</td>\n",
       "      <td>1.203972</td>\n",
       "      <td>1.193891</td>\n",
       "      <td>0.929853</td>\n",
       "      <td>1.598734</td>\n",
       "      <td>1.316889</td>\n",
       "      <td>1.171756</td>\n",
       "    </tr>\n",
       "    <tr>\n",
       "      <th>min</th>\n",
       "      <td>0.000000</td>\n",
       "      <td>0.000000</td>\n",
       "      <td>0.000000</td>\n",
       "      <td>0.830000</td>\n",
       "      <td>1.120000</td>\n",
       "      <td>1.11000</td>\n",
       "      <td>1.120000</td>\n",
       "      <td>0.860000</td>\n",
       "      <td>0.840000</td>\n",
       "      <td>0.810000</td>\n",
       "      <td>...</td>\n",
       "      <td>0.000000</td>\n",
       "      <td>0.000000</td>\n",
       "      <td>0.000000</td>\n",
       "      <td>0.000000</td>\n",
       "      <td>0.000000</td>\n",
       "      <td>0.000000</td>\n",
       "      <td>0.000000</td>\n",
       "      <td>0.000000</td>\n",
       "      <td>0.000000</td>\n",
       "      <td>0.000000</td>\n",
       "    </tr>\n",
       "    <tr>\n",
       "      <th>25%</th>\n",
       "      <td>0.920000</td>\n",
       "      <td>1.360000</td>\n",
       "      <td>1.540000</td>\n",
       "      <td>1.730000</td>\n",
       "      <td>1.770000</td>\n",
       "      <td>1.79000</td>\n",
       "      <td>1.930000</td>\n",
       "      <td>1.620000</td>\n",
       "      <td>1.800000</td>\n",
       "      <td>1.640000</td>\n",
       "      <td>...</td>\n",
       "      <td>0.860000</td>\n",
       "      <td>0.690000</td>\n",
       "      <td>0.580000</td>\n",
       "      <td>0.530000</td>\n",
       "      <td>0.520000</td>\n",
       "      <td>0.540000</td>\n",
       "      <td>0.570000</td>\n",
       "      <td>0.740000</td>\n",
       "      <td>0.790000</td>\n",
       "      <td>0.880000</td>\n",
       "    </tr>\n",
       "    <tr>\n",
       "      <th>50%</th>\n",
       "      <td>1.340000</td>\n",
       "      <td>1.905000</td>\n",
       "      <td>2.060000</td>\n",
       "      <td>2.460000</td>\n",
       "      <td>2.670000</td>\n",
       "      <td>2.68000</td>\n",
       "      <td>3.230000</td>\n",
       "      <td>2.170000</td>\n",
       "      <td>2.800000</td>\n",
       "      <td>2.680000</td>\n",
       "      <td>...</td>\n",
       "      <td>1.330000</td>\n",
       "      <td>0.800000</td>\n",
       "      <td>0.740000</td>\n",
       "      <td>0.690000</td>\n",
       "      <td>0.690000</td>\n",
       "      <td>0.690000</td>\n",
       "      <td>0.760000</td>\n",
       "      <td>1.030000</td>\n",
       "      <td>1.070000</td>\n",
       "      <td>1.290000</td>\n",
       "    </tr>\n",
       "    <tr>\n",
       "      <th>75%</th>\n",
       "      <td>1.810000</td>\n",
       "      <td>2.682500</td>\n",
       "      <td>2.740000</td>\n",
       "      <td>4.092500</td>\n",
       "      <td>4.312500</td>\n",
       "      <td>3.84000</td>\n",
       "      <td>5.000000</td>\n",
       "      <td>3.190000</td>\n",
       "      <td>5.000000</td>\n",
       "      <td>3.530000</td>\n",
       "      <td>...</td>\n",
       "      <td>4.440000</td>\n",
       "      <td>1.160000</td>\n",
       "      <td>0.910000</td>\n",
       "      <td>0.840000</td>\n",
       "      <td>0.860000</td>\n",
       "      <td>0.860000</td>\n",
       "      <td>1.000000</td>\n",
       "      <td>2.070000</td>\n",
       "      <td>1.560000</td>\n",
       "      <td>1.660000</td>\n",
       "    </tr>\n",
       "    <tr>\n",
       "      <th>max</th>\n",
       "      <td>5.000000</td>\n",
       "      <td>5.000000</td>\n",
       "      <td>5.000000</td>\n",
       "      <td>5.000000</td>\n",
       "      <td>5.000000</td>\n",
       "      <td>5.00000</td>\n",
       "      <td>5.000000</td>\n",
       "      <td>5.000000</td>\n",
       "      <td>5.000000</td>\n",
       "      <td>5.000000</td>\n",
       "      <td>...</td>\n",
       "      <td>5.000000</td>\n",
       "      <td>5.000000</td>\n",
       "      <td>5.000000</td>\n",
       "      <td>5.000000</td>\n",
       "      <td>5.000000</td>\n",
       "      <td>5.000000</td>\n",
       "      <td>5.000000</td>\n",
       "      <td>5.000000</td>\n",
       "      <td>5.000000</td>\n",
       "      <td>5.000000</td>\n",
       "    </tr>\n",
       "  </tbody>\n",
       "</table>\n",
       "<p>8 rows × 24 columns</p>\n",
       "</div>"
      ],
      "text/plain": [
       "          churches      resorts      beaches        parks     theaters  \\\n",
       "count  5456.000000  5456.000000  5456.000000  5456.000000  5456.000000   \n",
       "mean      1.455720     2.319707     2.489331     2.796886     2.958941   \n",
       "std       0.827604     1.421438     1.247815     1.309159     1.339056   \n",
       "min       0.000000     0.000000     0.000000     0.830000     1.120000   \n",
       "25%       0.920000     1.360000     1.540000     1.730000     1.770000   \n",
       "50%       1.340000     1.905000     2.060000     2.460000     2.670000   \n",
       "75%       1.810000     2.682500     2.740000     4.092500     4.312500   \n",
       "max       5.000000     5.000000     5.000000     5.000000     5.000000   \n",
       "\n",
       "          museums        malls          zoo   restaurent    pubs_bars  ...  \\\n",
       "count  5456.00000  5456.000000  5456.000000  5456.000000  5456.000000  ...   \n",
       "mean      2.89349     3.351395     2.540795     3.126019     2.832729  ...   \n",
       "std       1.28240     1.413492     1.111391     1.356802     1.307665  ...   \n",
       "min       1.11000     1.120000     0.860000     0.840000     0.810000  ...   \n",
       "25%       1.79000     1.930000     1.620000     1.800000     1.640000  ...   \n",
       "50%       2.68000     3.230000     2.170000     2.800000     2.680000  ...   \n",
       "75%       3.84000     5.000000     3.190000     5.000000     3.530000  ...   \n",
       "max       5.00000     5.000000     5.000000     5.000000     5.000000  ...   \n",
       "\n",
       "       art_gallaries  dance_clubs  swimming_pools         gyms     bakeries  \\\n",
       "count    5456.000000  5456.000000     5456.000000  5456.000000  5456.000000   \n",
       "mean        2.206573     1.192801        0.949203     0.822414     0.969811   \n",
       "std         1.715961     1.107005        0.973536     0.947911     1.203972   \n",
       "min         0.000000     0.000000        0.000000     0.000000     0.000000   \n",
       "25%         0.860000     0.690000        0.580000     0.530000     0.520000   \n",
       "50%         1.330000     0.800000        0.740000     0.690000     0.690000   \n",
       "75%         4.440000     1.160000        0.910000     0.840000     0.860000   \n",
       "max         5.000000     5.000000        5.000000     5.000000     5.000000   \n",
       "\n",
       "       beauty_spas        cafes  view_points    monuments      gardens  \n",
       "count  5456.000000  5456.000000  5456.000000  5456.000000  5455.000000  \n",
       "mean      1.000071     0.965838     1.750537     1.531453     1.560755  \n",
       "std       1.193891     0.929853     1.598734     1.316889     1.171756  \n",
       "min       0.000000     0.000000     0.000000     0.000000     0.000000  \n",
       "25%       0.540000     0.570000     0.740000     0.790000     0.880000  \n",
       "50%       0.690000     0.760000     1.030000     1.070000     1.290000  \n",
       "75%       0.860000     1.000000     2.070000     1.560000     1.660000  \n",
       "max       5.000000     5.000000     5.000000     5.000000     5.000000  \n",
       "\n",
       "[8 rows x 24 columns]"
      ]
     },
     "execution_count": 16,
     "metadata": {},
     "output_type": "execute_result"
    }
   ],
   "source": [
    "data_manipulated.describe()"
   ]
  },
  {
   "cell_type": "code",
   "execution_count": 17,
   "metadata": {
    "execution": {
     "iopub.execute_input": "2022-09-18T18:47:13.68531Z",
     "iopub.status.busy": "2022-09-18T18:47:13.684847Z",
     "iopub.status.idle": "2022-09-18T18:47:13.704385Z",
     "shell.execute_reply": "2022-09-18T18:47:13.703481Z",
     "shell.execute_reply.started": "2022-09-18T18:47:13.685236Z"
    }
   },
   "outputs": [
    {
     "data": {
      "text/html": [
       "<div>\n",
       "<style scoped>\n",
       "    .dataframe tbody tr th:only-of-type {\n",
       "        vertical-align: middle;\n",
       "    }\n",
       "\n",
       "    .dataframe tbody tr th {\n",
       "        vertical-align: top;\n",
       "    }\n",
       "\n",
       "    .dataframe thead th {\n",
       "        text-align: right;\n",
       "    }\n",
       "</style>\n",
       "<table border=\"1\" class=\"dataframe\">\n",
       "  <thead>\n",
       "    <tr style=\"text-align: right;\">\n",
       "      <th></th>\n",
       "      <th>user_id</th>\n",
       "    </tr>\n",
       "  </thead>\n",
       "  <tbody>\n",
       "    <tr>\n",
       "      <th>count</th>\n",
       "      <td>5456</td>\n",
       "    </tr>\n",
       "    <tr>\n",
       "      <th>unique</th>\n",
       "      <td>5456</td>\n",
       "    </tr>\n",
       "    <tr>\n",
       "      <th>top</th>\n",
       "      <td>User 1</td>\n",
       "    </tr>\n",
       "    <tr>\n",
       "      <th>freq</th>\n",
       "      <td>1</td>\n",
       "    </tr>\n",
       "  </tbody>\n",
       "</table>\n",
       "</div>"
      ],
      "text/plain": [
       "       user_id\n",
       "count     5456\n",
       "unique    5456\n",
       "top     User 1\n",
       "freq         1"
      ]
     },
     "execution_count": 17,
     "metadata": {},
     "output_type": "execute_result"
    }
   ],
   "source": [
    "data.describe(include='object')"
   ]
  },
  {
   "cell_type": "code",
   "execution_count": 18,
   "metadata": {
    "execution": {
     "iopub.execute_input": "2022-09-18T18:47:13.707025Z",
     "iopub.status.busy": "2022-09-18T18:47:13.706029Z",
     "iopub.status.idle": "2022-09-18T18:47:13.713767Z",
     "shell.execute_reply": "2022-09-18T18:47:13.712508Z",
     "shell.execute_reply.started": "2022-09-18T18:47:13.706987Z"
    }
   },
   "outputs": [],
   "source": [
    "missing_values=data_manipulated.isnull().sum()"
   ]
  },
  {
   "cell_type": "code",
   "execution_count": 19,
   "metadata": {
    "execution": {
     "iopub.execute_input": "2022-09-18T18:47:13.71649Z",
     "iopub.status.busy": "2022-09-18T18:47:13.715914Z",
     "iopub.status.idle": "2022-09-18T18:47:13.726195Z",
     "shell.execute_reply": "2022-09-18T18:47:13.725334Z",
     "shell.execute_reply.started": "2022-09-18T18:47:13.716439Z"
    }
   },
   "outputs": [
    {
     "data": {
      "text/plain": [
       "user_id                 0\n",
       "churches                0\n",
       "resorts                 0\n",
       "beaches                 0\n",
       "parks                   0\n",
       "theaters                0\n",
       "museums                 0\n",
       "malls                   0\n",
       "zoo                     0\n",
       "restaurent              0\n",
       "pubs_bars               0\n",
       "local_services          1\n",
       "burzer_pizza_shops      1\n",
       "hotel_other_lodgings    0\n",
       "juice_bars              0\n",
       "art_gallaries           0\n",
       "dance_clubs             0\n",
       "swimming_pools          0\n",
       "gyms                    0\n",
       "bakeries                0\n",
       "beauty_spas             0\n",
       "cafes                   0\n",
       "view_points             0\n",
       "monuments               0\n",
       "gardens                 1\n",
       "dtype: int64"
      ]
     },
     "execution_count": 19,
     "metadata": {},
     "output_type": "execute_result"
    }
   ],
   "source": [
    "missing_values"
   ]
  },
  {
   "cell_type": "code",
   "execution_count": 20,
   "metadata": {
    "execution": {
     "iopub.execute_input": "2022-09-18T18:47:13.727462Z",
     "iopub.status.busy": "2022-09-18T18:47:13.727123Z",
     "iopub.status.idle": "2022-09-18T18:47:13.753758Z",
     "shell.execute_reply": "2022-09-18T18:47:13.752436Z",
     "shell.execute_reply.started": "2022-09-18T18:47:13.727432Z"
    }
   },
   "outputs": [
    {
     "name": "stderr",
     "output_type": "stream",
     "text": [
      "C:\\Users\\karth\\AppData\\Local\\Temp\\ipykernel_5308\\1779761430.py:1: FutureWarning: Dropping of nuisance columns in DataFrame reductions (with 'numeric_only=None') is deprecated; in a future version this will raise TypeError.  Select only valid columns before calling the reduction.\n",
      "  data_no_missing=data_manipulated.fillna(data_manipulated.mean())\n"
     ]
    }
   ],
   "source": [
    "data_no_missing=data_manipulated.fillna(data_manipulated.mean())"
   ]
  },
  {
   "cell_type": "code",
   "execution_count": 21,
   "metadata": {
    "execution": {
     "iopub.execute_input": "2022-09-18T18:47:13.755987Z",
     "iopub.status.busy": "2022-09-18T18:47:13.755627Z",
     "iopub.status.idle": "2022-09-18T18:47:13.766407Z",
     "shell.execute_reply": "2022-09-18T18:47:13.765082Z",
     "shell.execute_reply.started": "2022-09-18T18:47:13.755954Z"
    }
   },
   "outputs": [
    {
     "data": {
      "text/plain": [
       "user_id                 0\n",
       "churches                0\n",
       "resorts                 0\n",
       "beaches                 0\n",
       "parks                   0\n",
       "theaters                0\n",
       "museums                 0\n",
       "malls                   0\n",
       "zoo                     0\n",
       "restaurent              0\n",
       "pubs_bars               0\n",
       "local_services          0\n",
       "burzer_pizza_shops      0\n",
       "hotel_other_lodgings    0\n",
       "juice_bars              0\n",
       "art_gallaries           0\n",
       "dance_clubs             0\n",
       "swimming_pools          0\n",
       "gyms                    0\n",
       "bakeries                0\n",
       "beauty_spas             0\n",
       "cafes                   0\n",
       "view_points             0\n",
       "monuments               0\n",
       "gardens                 0\n",
       "dtype: int64"
      ]
     },
     "execution_count": 21,
     "metadata": {},
     "output_type": "execute_result"
    }
   ],
   "source": [
    "data_no_missing.isnull().sum()"
   ]
  },
  {
   "cell_type": "code",
   "execution_count": 22,
   "metadata": {
    "execution": {
     "iopub.execute_input": "2022-09-18T18:47:13.769194Z",
     "iopub.status.busy": "2022-09-18T18:47:13.768196Z",
     "iopub.status.idle": "2022-09-18T18:47:17.141143Z",
     "shell.execute_reply": "2022-09-18T18:47:17.13976Z",
     "shell.execute_reply.started": "2022-09-18T18:47:13.76914Z"
    }
   },
   "outputs": [
    {
     "data": {
      "image/png": "[encoded data removed]",
      "text/plain": [
       "<Figure size 1800x1800 with 25 Axes>"
      ]
     },
     "metadata": {},
     "output_type": "display_data"
    }
   ],
   "source": [
    "fig=data_no_missing.hist(figsize=(18,18))"
   ]
  },
  {
   "cell_type": "code",
   "execution_count": 23,
   "metadata": {
    "execution": {
     "iopub.execute_input": "2022-09-18T18:47:17.142974Z",
     "iopub.status.busy": "2022-09-18T18:47:17.142474Z",
     "iopub.status.idle": "2022-09-18T18:47:17.209107Z",
     "shell.execute_reply": "2022-09-18T18:47:17.207943Z",
     "shell.execute_reply.started": "2022-09-18T18:47:17.14294Z"
    }
   },
   "outputs": [
    {
     "data": {
      "text/plain": [
       "parks                   True\n",
       "theaters                True\n",
       "museums                 True\n",
       "malls                   True\n",
       "zoo                     True\n",
       "restaurent              True\n",
       "pubs_bars               True\n",
       "local_services          True\n",
       "burzer_pizza_shops      True\n",
       "hotel_other_lodgings    True\n",
       "juice_bars              True\n",
       "Name: min, dtype: bool"
      ]
     },
     "execution_count": 23,
     "metadata": {},
     "output_type": "execute_result"
    }
   ],
   "source": [
    "data_desc=data_no_missing.describe()\n",
    "rated=data_desc.loc['min']>0\n",
    "rated[rated]"
   ]
  },
  {
   "cell_type": "code",
   "execution_count": 24,
   "metadata": {
    "execution": {
     "iopub.execute_input": "2022-09-18T18:47:17.211163Z",
     "iopub.status.busy": "2022-09-18T18:47:17.21077Z",
     "iopub.status.idle": "2022-09-18T18:47:17.225523Z",
     "shell.execute_reply": "2022-09-18T18:47:17.224348Z",
     "shell.execute_reply.started": "2022-09-18T18:47:17.211127Z"
    }
   },
   "outputs": [
    {
     "data": {
      "text/plain": [
       "bakeries                4410\n",
       "gyms                    4439\n",
       "beauty_spas             4560\n",
       "cafes                   4852\n",
       "swimming_pools          4977\n",
       "view_points             5111\n",
       "monuments               5154\n",
       "gardens                 5231\n",
       "churches                5261\n",
       "dance_clubs             5344\n",
       "resorts                 5366\n",
       "art_gallaries           5452\n",
       "beaches                 5452\n",
       "pubs_bars               5456\n",
       "local_services          5456\n",
       "zoo                     5456\n",
       "hotel_other_lodgings    5456\n",
       "juice_bars              5456\n",
       "malls                   5456\n",
       "museums                 5456\n",
       "theaters                5456\n",
       "parks                   5456\n",
       "restaurent              5456\n",
       "burzer_pizza_shops      5456\n",
       "dtype: int64"
      ]
     },
     "execution_count": 24,
     "metadata": {},
     "output_type": "execute_result"
    }
   ],
   "source": [
    "reviews=data_no_missing[column_names[1:]].astype(bool).sum().sort_values()\n",
    "reviews"
   ]
  },
  {
   "cell_type": "code",
   "execution_count": 25,
   "metadata": {
    "execution": {
     "iopub.execute_input": "2022-09-18T18:47:17.227745Z",
     "iopub.status.busy": "2022-09-18T18:47:17.22705Z",
     "iopub.status.idle": "2022-09-18T18:47:17.233387Z",
     "shell.execute_reply": "2022-09-18T18:47:17.232123Z",
     "shell.execute_reply.started": "2022-09-18T18:47:17.227698Z"
    }
   },
   "outputs": [],
   "source": [
    "column_names=data_no_missing.columns.values"
   ]
  },
  {
   "cell_type": "code",
   "execution_count": 26,
   "metadata": {
    "execution": {
     "iopub.execute_input": "2022-09-18T18:47:17.235206Z",
     "iopub.status.busy": "2022-09-18T18:47:17.234875Z",
     "iopub.status.idle": "2022-09-18T18:47:17.617417Z",
     "shell.execute_reply": "2022-09-18T18:47:17.616336Z",
     "shell.execute_reply.started": "2022-09-18T18:47:17.235178Z"
    }
   },
   "outputs": [
    {
     "data": {
      "text/plain": [
       "Text(0.5, 1.0, 'no of reviews under each category')"
      ]
     },
     "execution_count": 26,
     "metadata": {},
     "output_type": "execute_result"
    },
    {
     "data": {
      "image/png": "[encoded data removed]",
      "text/plain": [
       "<Figure size 1000x700 with 1 Axes>"
      ]
     },
     "metadata": {},
     "output_type": "display_data"
    }
   ],
   "source": [
    "plt.figure(figsize=(10,7))\n",
    "plt.barh(np.arange(len(column_names[1:])),reviews.values,align='center',alpha=0.5)\n",
    "plt.yticks(np.arange(len(column_names[1:])),reviews.index)\n",
    "plt.xlabel('no of reviews')\n",
    "plt.ylabel('Categories')\n",
    "plt.title('no of reviews under each category')"
   ]
  },
  {
   "cell_type": "code",
   "execution_count": 28,
   "metadata": {
    "execution": {
     "iopub.execute_input": "2022-09-18T18:47:17.635102Z",
     "iopub.status.busy": "2022-09-18T18:47:17.634717Z",
     "iopub.status.idle": "2022-09-18T18:47:17.649144Z",
     "shell.execute_reply": "2022-09-18T18:47:17.64818Z",
     "shell.execute_reply.started": "2022-09-18T18:47:17.635067Z"
    }
   },
   "outputs": [
    {
     "data": {
      "text/plain": [
       "24    3725\n",
       "23     505\n",
       "21     457\n",
       "20     243\n",
       "22     167\n",
       "19     148\n",
       "18     114\n",
       "17      69\n",
       "16      22\n",
       "15       6\n",
       "dtype: int64"
      ]
     },
     "execution_count": 28,
     "metadata": {},
     "output_type": "execute_result"
    }
   ],
   "source": [
    "no_of_reviews=data_no_missing[column_names[1:]].astype(bool).sum(axis=1).value_counts()\n",
    "no_of_reviews"
   ]
  },
  {
   "cell_type": "code",
   "execution_count": 29,
   "metadata": {
    "execution": {
     "iopub.execute_input": "2022-09-18T18:47:17.650896Z",
     "iopub.status.busy": "2022-09-18T18:47:17.650587Z",
     "iopub.status.idle": "2022-09-18T18:47:17.932197Z",
     "shell.execute_reply": "2022-09-18T18:47:17.931328Z",
     "shell.execute_reply.started": "2022-09-18T18:47:17.650867Z"
    }
   },
   "outputs": [
    {
     "data": {
      "text/plain": [
       "Text(0.5, 1.0, 'no of category vs no of reviews ')"
      ]
     },
     "execution_count": 29,
     "metadata": {},
     "output_type": "execute_result"
    },
    {
     "data": {
      "image/png": "[encoded data removed]",
      "text/plain": [
       "<Figure size 1000x700 with 1 Axes>"
      ]
     },
     "metadata": {},
     "output_type": "display_data"
    }
   ],
   "source": [
    "plt.figure(figsize=(10,7))\n",
    "plt.bar(np.arange(len(no_of_reviews)),no_of_reviews.values,align='center',alpha=0.5)\n",
    "plt.xticks(np.arange(len(no_of_reviews)),no_of_reviews.index)\n",
    "plt.xlabel('no of reviews')\n",
    "plt.ylabel('no of Categories')\n",
    "plt.title('no of category vs no of reviews ')"
   ]
  },
  {
   "cell_type": "markdown",
   "metadata": {},
   "source": [
    "# Conclusion\n",
    "Around 3500 user have given a rating for all the 24 categories and the least no of rating given by a user is 15. So for users with lesser number of ratings a recommendation system can be built"
   ]
  },
  {
   "cell_type": "markdown",
   "metadata": {},
   "source": [
    "Now lets check the average rating per feature"
   ]
  },
  {
   "cell_type": "code",
   "execution_count": 30,
   "metadata": {
    "execution": {
     "iopub.execute_input": "2022-09-18T18:47:17.934406Z",
     "iopub.status.busy": "2022-09-18T18:47:17.93348Z",
     "iopub.status.idle": "2022-09-18T18:47:17.9427Z",
     "shell.execute_reply": "2022-09-18T18:47:17.941564Z",
     "shell.execute_reply.started": "2022-09-18T18:47:17.934327Z"
    }
   },
   "outputs": [],
   "source": [
    "avg_rating=data_no_missing[column_names[1:]].mean()\n",
    "avg_rating=avg_rating.sort_values()"
   ]
  },
  {
   "cell_type": "code",
   "execution_count": 31,
   "metadata": {
    "execution": {
     "iopub.execute_input": "2022-09-18T18:47:17.94712Z",
     "iopub.status.busy": "2022-09-18T18:47:17.946797Z",
     "iopub.status.idle": "2022-09-18T18:47:18.321644Z",
     "shell.execute_reply": "2022-09-18T18:47:18.320338Z",
     "shell.execute_reply.started": "2022-09-18T18:47:17.947091Z"
    }
   },
   "outputs": [
    {
     "data": {
      "text/plain": [
       "Text(0.5, 1.0, ' avg rating per Categories')"
      ]
     },
     "execution_count": 31,
     "metadata": {},
     "output_type": "execute_result"
    },
    {
     "data": {
      "image/png": "[encoded data removed]",
      "text/plain": [
       "<Figure size 1000x700 with 1 Axes>"
      ]
     },
     "metadata": {},
     "output_type": "display_data"
    }
   ],
   "source": [
    "plt.figure(figsize=(10,7))\n",
    "plt.barh(np.arange(len(column_names[1:])),avg_rating.values,align='center',alpha=0.5)\n",
    "plt.yticks(np.arange(len(column_names[1:])),avg_rating.index)\n",
    "plt.xlabel('avg rating')\n",
    "plt.title(' avg rating per Categories')\n"
   ]
  },
  {
   "cell_type": "code",
   "execution_count": 32,
   "metadata": {
    "execution": {
     "iopub.execute_input": "2022-09-18T18:47:18.323614Z",
     "iopub.status.busy": "2022-09-18T18:47:18.32299Z",
     "iopub.status.idle": "2022-09-18T18:47:18.374164Z",
     "shell.execute_reply": "2022-09-18T18:47:18.372958Z",
     "shell.execute_reply.started": "2022-09-18T18:47:18.323575Z"
    }
   },
   "outputs": [
    {
     "data": {
      "text/html": [
       "<div>\n",
       "<style scoped>\n",
       "    .dataframe tbody tr th:only-of-type {\n",
       "        vertical-align: middle;\n",
       "    }\n",
       "\n",
       "    .dataframe tbody tr th {\n",
       "        vertical-align: top;\n",
       "    }\n",
       "\n",
       "    .dataframe thead th {\n",
       "        text-align: right;\n",
       "    }\n",
       "</style>\n",
       "<table border=\"1\" class=\"dataframe\">\n",
       "  <thead>\n",
       "    <tr style=\"text-align: right;\">\n",
       "      <th></th>\n",
       "      <th>churches</th>\n",
       "      <th>resorts</th>\n",
       "      <th>beaches</th>\n",
       "      <th>parks</th>\n",
       "      <th>theaters</th>\n",
       "      <th>museums</th>\n",
       "      <th>malls</th>\n",
       "      <th>zoo</th>\n",
       "      <th>restaurent</th>\n",
       "      <th>pubs_bars</th>\n",
       "      <th>...</th>\n",
       "      <th>dance_clubs</th>\n",
       "      <th>swimming_pools</th>\n",
       "      <th>gyms</th>\n",
       "      <th>bakeries</th>\n",
       "      <th>beauty_spas</th>\n",
       "      <th>cafes</th>\n",
       "      <th>view_points</th>\n",
       "      <th>monuments</th>\n",
       "      <th>gardens</th>\n",
       "      <th>id</th>\n",
       "    </tr>\n",
       "  </thead>\n",
       "  <tbody>\n",
       "    <tr>\n",
       "      <th>0</th>\n",
       "      <td>0.0</td>\n",
       "      <td>0.0</td>\n",
       "      <td>3.63</td>\n",
       "      <td>3.65</td>\n",
       "      <td>5.0</td>\n",
       "      <td>2.92</td>\n",
       "      <td>5.0</td>\n",
       "      <td>2.35</td>\n",
       "      <td>2.33</td>\n",
       "      <td>2.64</td>\n",
       "      <td>...</td>\n",
       "      <td>0.59</td>\n",
       "      <td>0.5</td>\n",
       "      <td>0.0</td>\n",
       "      <td>0.5</td>\n",
       "      <td>0.0</td>\n",
       "      <td>0.0</td>\n",
       "      <td>0.0</td>\n",
       "      <td>0.0</td>\n",
       "      <td>0.0</td>\n",
       "      <td>1</td>\n",
       "    </tr>\n",
       "    <tr>\n",
       "      <th>1</th>\n",
       "      <td>0.0</td>\n",
       "      <td>0.0</td>\n",
       "      <td>3.63</td>\n",
       "      <td>3.65</td>\n",
       "      <td>5.0</td>\n",
       "      <td>2.92</td>\n",
       "      <td>5.0</td>\n",
       "      <td>2.64</td>\n",
       "      <td>2.33</td>\n",
       "      <td>2.65</td>\n",
       "      <td>...</td>\n",
       "      <td>0.59</td>\n",
       "      <td>0.5</td>\n",
       "      <td>0.0</td>\n",
       "      <td>0.5</td>\n",
       "      <td>0.0</td>\n",
       "      <td>0.0</td>\n",
       "      <td>0.0</td>\n",
       "      <td>0.0</td>\n",
       "      <td>0.0</td>\n",
       "      <td>2</td>\n",
       "    </tr>\n",
       "    <tr>\n",
       "      <th>2</th>\n",
       "      <td>0.0</td>\n",
       "      <td>0.0</td>\n",
       "      <td>3.63</td>\n",
       "      <td>3.63</td>\n",
       "      <td>5.0</td>\n",
       "      <td>2.92</td>\n",
       "      <td>5.0</td>\n",
       "      <td>2.64</td>\n",
       "      <td>2.33</td>\n",
       "      <td>2.64</td>\n",
       "      <td>...</td>\n",
       "      <td>0.59</td>\n",
       "      <td>0.5</td>\n",
       "      <td>0.0</td>\n",
       "      <td>0.5</td>\n",
       "      <td>0.0</td>\n",
       "      <td>0.0</td>\n",
       "      <td>0.0</td>\n",
       "      <td>0.0</td>\n",
       "      <td>0.0</td>\n",
       "      <td>3</td>\n",
       "    </tr>\n",
       "    <tr>\n",
       "      <th>3</th>\n",
       "      <td>0.0</td>\n",
       "      <td>0.5</td>\n",
       "      <td>3.63</td>\n",
       "      <td>3.63</td>\n",
       "      <td>5.0</td>\n",
       "      <td>2.92</td>\n",
       "      <td>5.0</td>\n",
       "      <td>2.35</td>\n",
       "      <td>2.33</td>\n",
       "      <td>2.64</td>\n",
       "      <td>...</td>\n",
       "      <td>0.59</td>\n",
       "      <td>0.5</td>\n",
       "      <td>0.0</td>\n",
       "      <td>0.5</td>\n",
       "      <td>0.0</td>\n",
       "      <td>0.0</td>\n",
       "      <td>0.0</td>\n",
       "      <td>0.0</td>\n",
       "      <td>0.0</td>\n",
       "      <td>4</td>\n",
       "    </tr>\n",
       "    <tr>\n",
       "      <th>4</th>\n",
       "      <td>0.0</td>\n",
       "      <td>0.0</td>\n",
       "      <td>3.63</td>\n",
       "      <td>3.63</td>\n",
       "      <td>5.0</td>\n",
       "      <td>2.92</td>\n",
       "      <td>5.0</td>\n",
       "      <td>2.64</td>\n",
       "      <td>2.33</td>\n",
       "      <td>2.64</td>\n",
       "      <td>...</td>\n",
       "      <td>0.59</td>\n",
       "      <td>0.5</td>\n",
       "      <td>0.0</td>\n",
       "      <td>0.5</td>\n",
       "      <td>0.0</td>\n",
       "      <td>0.0</td>\n",
       "      <td>0.0</td>\n",
       "      <td>0.0</td>\n",
       "      <td>0.0</td>\n",
       "      <td>5</td>\n",
       "    </tr>\n",
       "  </tbody>\n",
       "</table>\n",
       "<p>5 rows × 25 columns</p>\n",
       "</div>"
      ],
      "text/plain": [
       "   churches  resorts  beaches  parks  theaters  museums  malls   zoo  \\\n",
       "0       0.0      0.0     3.63   3.65       5.0     2.92    5.0  2.35   \n",
       "1       0.0      0.0     3.63   3.65       5.0     2.92    5.0  2.64   \n",
       "2       0.0      0.0     3.63   3.63       5.0     2.92    5.0  2.64   \n",
       "3       0.0      0.5     3.63   3.63       5.0     2.92    5.0  2.35   \n",
       "4       0.0      0.0     3.63   3.63       5.0     2.92    5.0  2.64   \n",
       "\n",
       "   restaurent  pubs_bars  ...  dance_clubs  swimming_pools  gyms  bakeries  \\\n",
       "0        2.33       2.64  ...         0.59             0.5   0.0       0.5   \n",
       "1        2.33       2.65  ...         0.59             0.5   0.0       0.5   \n",
       "2        2.33       2.64  ...         0.59             0.5   0.0       0.5   \n",
       "3        2.33       2.64  ...         0.59             0.5   0.0       0.5   \n",
       "4        2.33       2.64  ...         0.59             0.5   0.0       0.5   \n",
       "\n",
       "   beauty_spas  cafes  view_points  monuments  gardens  id  \n",
       "0          0.0    0.0          0.0        0.0      0.0   1  \n",
       "1          0.0    0.0          0.0        0.0      0.0   2  \n",
       "2          0.0    0.0          0.0        0.0      0.0   3  \n",
       "3          0.0    0.0          0.0        0.0      0.0   4  \n",
       "4          0.0    0.0          0.0        0.0      0.0   5  \n",
       "\n",
       "[5 rows x 25 columns]"
      ]
     },
     "execution_count": 32,
     "metadata": {},
     "output_type": "execute_result"
    }
   ],
   "source": [
    "data_1=data_no_missing.copy()\n",
    "new=data_1['user_id'].str.split(' ',n=2,expand=True)\n",
    "data_1['user']=new[0]\n",
    "data_1['id']=new[1]\n",
    "data_1=data_1.drop(['user_id','user'],axis=1)\n",
    "data_1.head()\n"
   ]
  },
  {
   "cell_type": "code",
   "execution_count": 33,
   "metadata": {
    "execution": {
     "iopub.execute_input": "2022-09-18T18:47:18.376184Z",
     "iopub.status.busy": "2022-09-18T18:47:18.375838Z",
     "iopub.status.idle": "2022-09-18T18:47:18.408278Z",
     "shell.execute_reply": "2022-09-18T18:47:18.406662Z",
     "shell.execute_reply.started": "2022-09-18T18:47:18.376154Z"
    }
   },
   "outputs": [
    {
     "data": {
      "text/html": [
       "<div>\n",
       "<style scoped>\n",
       "    .dataframe tbody tr th:only-of-type {\n",
       "        vertical-align: middle;\n",
       "    }\n",
       "\n",
       "    .dataframe tbody tr th {\n",
       "        vertical-align: top;\n",
       "    }\n",
       "\n",
       "    .dataframe thead th {\n",
       "        text-align: right;\n",
       "    }\n",
       "</style>\n",
       "<table border=\"1\" class=\"dataframe\">\n",
       "  <thead>\n",
       "    <tr style=\"text-align: right;\">\n",
       "      <th></th>\n",
       "      <th>churches</th>\n",
       "      <th>resorts</th>\n",
       "      <th>beaches</th>\n",
       "      <th>parks</th>\n",
       "      <th>theaters</th>\n",
       "      <th>museums</th>\n",
       "      <th>malls</th>\n",
       "      <th>zoo</th>\n",
       "      <th>restaurent</th>\n",
       "      <th>pubs_bars</th>\n",
       "      <th>...</th>\n",
       "      <th>dance_clubs</th>\n",
       "      <th>swimming_pools</th>\n",
       "      <th>gyms</th>\n",
       "      <th>bakeries</th>\n",
       "      <th>beauty_spas</th>\n",
       "      <th>cafes</th>\n",
       "      <th>view_points</th>\n",
       "      <th>monuments</th>\n",
       "      <th>gardens</th>\n",
       "      <th>id</th>\n",
       "    </tr>\n",
       "  </thead>\n",
       "  <tbody>\n",
       "    <tr>\n",
       "      <th>0</th>\n",
       "      <td>0.0</td>\n",
       "      <td>0.0</td>\n",
       "      <td>3.63</td>\n",
       "      <td>3.65</td>\n",
       "      <td>5.0</td>\n",
       "      <td>2.92</td>\n",
       "      <td>5.0</td>\n",
       "      <td>2.35</td>\n",
       "      <td>2.33</td>\n",
       "      <td>2.64</td>\n",
       "      <td>...</td>\n",
       "      <td>0.59</td>\n",
       "      <td>0.5</td>\n",
       "      <td>0.0</td>\n",
       "      <td>0.5</td>\n",
       "      <td>0.0</td>\n",
       "      <td>0.0</td>\n",
       "      <td>0.0</td>\n",
       "      <td>0.0</td>\n",
       "      <td>0.0</td>\n",
       "      <td>1</td>\n",
       "    </tr>\n",
       "    <tr>\n",
       "      <th>1</th>\n",
       "      <td>0.0</td>\n",
       "      <td>0.0</td>\n",
       "      <td>3.63</td>\n",
       "      <td>3.65</td>\n",
       "      <td>5.0</td>\n",
       "      <td>2.92</td>\n",
       "      <td>5.0</td>\n",
       "      <td>2.64</td>\n",
       "      <td>2.33</td>\n",
       "      <td>2.65</td>\n",
       "      <td>...</td>\n",
       "      <td>0.59</td>\n",
       "      <td>0.5</td>\n",
       "      <td>0.0</td>\n",
       "      <td>0.5</td>\n",
       "      <td>0.0</td>\n",
       "      <td>0.0</td>\n",
       "      <td>0.0</td>\n",
       "      <td>0.0</td>\n",
       "      <td>0.0</td>\n",
       "      <td>2</td>\n",
       "    </tr>\n",
       "    <tr>\n",
       "      <th>2</th>\n",
       "      <td>0.0</td>\n",
       "      <td>0.0</td>\n",
       "      <td>3.63</td>\n",
       "      <td>3.63</td>\n",
       "      <td>5.0</td>\n",
       "      <td>2.92</td>\n",
       "      <td>5.0</td>\n",
       "      <td>2.64</td>\n",
       "      <td>2.33</td>\n",
       "      <td>2.64</td>\n",
       "      <td>...</td>\n",
       "      <td>0.59</td>\n",
       "      <td>0.5</td>\n",
       "      <td>0.0</td>\n",
       "      <td>0.5</td>\n",
       "      <td>0.0</td>\n",
       "      <td>0.0</td>\n",
       "      <td>0.0</td>\n",
       "      <td>0.0</td>\n",
       "      <td>0.0</td>\n",
       "      <td>3</td>\n",
       "    </tr>\n",
       "    <tr>\n",
       "      <th>3</th>\n",
       "      <td>0.0</td>\n",
       "      <td>0.5</td>\n",
       "      <td>3.63</td>\n",
       "      <td>3.63</td>\n",
       "      <td>5.0</td>\n",
       "      <td>2.92</td>\n",
       "      <td>5.0</td>\n",
       "      <td>2.35</td>\n",
       "      <td>2.33</td>\n",
       "      <td>2.64</td>\n",
       "      <td>...</td>\n",
       "      <td>0.59</td>\n",
       "      <td>0.5</td>\n",
       "      <td>0.0</td>\n",
       "      <td>0.5</td>\n",
       "      <td>0.0</td>\n",
       "      <td>0.0</td>\n",
       "      <td>0.0</td>\n",
       "      <td>0.0</td>\n",
       "      <td>0.0</td>\n",
       "      <td>4</td>\n",
       "    </tr>\n",
       "    <tr>\n",
       "      <th>4</th>\n",
       "      <td>0.0</td>\n",
       "      <td>0.0</td>\n",
       "      <td>3.63</td>\n",
       "      <td>3.63</td>\n",
       "      <td>5.0</td>\n",
       "      <td>2.92</td>\n",
       "      <td>5.0</td>\n",
       "      <td>2.64</td>\n",
       "      <td>2.33</td>\n",
       "      <td>2.64</td>\n",
       "      <td>...</td>\n",
       "      <td>0.59</td>\n",
       "      <td>0.5</td>\n",
       "      <td>0.0</td>\n",
       "      <td>0.5</td>\n",
       "      <td>0.0</td>\n",
       "      <td>0.0</td>\n",
       "      <td>0.0</td>\n",
       "      <td>0.0</td>\n",
       "      <td>0.0</td>\n",
       "      <td>5</td>\n",
       "    </tr>\n",
       "  </tbody>\n",
       "</table>\n",
       "<p>5 rows × 25 columns</p>\n",
       "</div>"
      ],
      "text/plain": [
       "   churches  resorts  beaches  parks  theaters  museums  malls   zoo  \\\n",
       "0       0.0      0.0     3.63   3.65       5.0     2.92    5.0  2.35   \n",
       "1       0.0      0.0     3.63   3.65       5.0     2.92    5.0  2.64   \n",
       "2       0.0      0.0     3.63   3.63       5.0     2.92    5.0  2.64   \n",
       "3       0.0      0.5     3.63   3.63       5.0     2.92    5.0  2.35   \n",
       "4       0.0      0.0     3.63   3.63       5.0     2.92    5.0  2.64   \n",
       "\n",
       "   restaurent  pubs_bars  ...  dance_clubs  swimming_pools  gyms  bakeries  \\\n",
       "0        2.33       2.64  ...         0.59             0.5   0.0       0.5   \n",
       "1        2.33       2.65  ...         0.59             0.5   0.0       0.5   \n",
       "2        2.33       2.64  ...         0.59             0.5   0.0       0.5   \n",
       "3        2.33       2.64  ...         0.59             0.5   0.0       0.5   \n",
       "4        2.33       2.64  ...         0.59             0.5   0.0       0.5   \n",
       "\n",
       "   beauty_spas  cafes  view_points  monuments  gardens  id  \n",
       "0          0.0    0.0          0.0        0.0      0.0   1  \n",
       "1          0.0    0.0          0.0        0.0      0.0   2  \n",
       "2          0.0    0.0          0.0        0.0      0.0   3  \n",
       "3          0.0    0.0          0.0        0.0      0.0   4  \n",
       "4          0.0    0.0          0.0        0.0      0.0   5  \n",
       "\n",
       "[5 rows x 25 columns]"
      ]
     },
     "execution_count": 33,
     "metadata": {},
     "output_type": "execute_result"
    }
   ],
   "source": [
    "data_final=data_1.copy(deep=True)\n",
    "data_final.head()"
   ]
  },
  {
   "cell_type": "code",
   "execution_count": 34,
   "metadata": {
    "execution": {
     "iopub.execute_input": "2022-09-18T18:47:18.410343Z",
     "iopub.status.busy": "2022-09-18T18:47:18.40988Z",
     "iopub.status.idle": "2022-09-18T18:47:18.41937Z",
     "shell.execute_reply": "2022-09-18T18:47:18.418505Z",
     "shell.execute_reply.started": "2022-09-18T18:47:18.410309Z"
    }
   },
   "outputs": [],
   "source": [
    "import scipy.cluster.hierarchy as sch\n",
    "from sklearn.preprocessing import scale as s\n",
    "from scipy.cluster.hierarchy import dendrogram , linkage"
   ]
  },
  {
   "cell_type": "code",
   "execution_count": 35,
   "metadata": {
    "execution": {
     "iopub.execute_input": "2022-09-18T18:47:18.421726Z",
     "iopub.status.busy": "2022-09-18T18:47:18.421135Z",
     "iopub.status.idle": "2022-09-18T18:47:19.351296Z",
     "shell.execute_reply": "2022-09-18T18:47:19.349847Z",
     "shell.execute_reply.started": "2022-09-18T18:47:18.421678Z"
    }
   },
   "outputs": [
    {
     "data": {
      "text/plain": [
       "array([[2.99000000e+02, 3.00000000e+02, 1.00005000e+00, 2.00000000e+00],\n",
       "       [6.72000000e+02, 6.73000000e+02, 1.00005000e+00, 2.00000000e+00],\n",
       "       [2.16000000e+03, 2.16100000e+03, 1.00005000e+00, 2.00000000e+00],\n",
       "       ...,\n",
       "       [1.09020000e+04, 1.09050000e+04, 3.22742555e+04, 2.06400000e+03],\n",
       "       [1.09060000e+04, 1.09070000e+04, 6.91602450e+04, 3.39200000e+03],\n",
       "       [1.09080000e+04, 1.09090000e+04, 1.38199023e+05, 5.45600000e+03]])"
      ]
     },
     "execution_count": 35,
     "metadata": {},
     "output_type": "execute_result"
    }
   ],
   "source": [
    "z=sch.linkage(data_final,method='ward')\n",
    "z"
   ]
  },
  {
   "cell_type": "code",
   "execution_count": 36,
   "metadata": {
    "execution": {
     "iopub.execute_input": "2022-09-18T18:47:19.353909Z",
     "iopub.status.busy": "2022-09-18T18:47:19.353445Z",
     "iopub.status.idle": "2022-09-18T18:47:30.299421Z",
     "shell.execute_reply": "2022-09-18T18:47:30.298556Z",
     "shell.execute_reply.started": "2022-09-18T18:47:19.353864Z"
    }
   },
   "outputs": [
    {
     "data": {
      "text/plain": [
       "Text(0.5, 1.0, 'Hierarichal Clustering')"
      ]
     },
     "execution_count": 36,
     "metadata": {},
     "output_type": "execute_result"
    },
    {
     "data": {
      "image/png": "[encoded data removed]",
      "text/plain": [
       "<Figure size 640x480 with 1 Axes>"
      ]
     },
     "metadata": {},
     "output_type": "display_data"
    }
   ],
   "source": [
    "den=sch.dendrogram(z)\n",
    "plt.tick_params(\n",
    "         axis='x',\n",
    "        which='both',\n",
    "        bottom=False,\n",
    "        top=False,\n",
    "        labelbottom=False)\n",
    "plt.title('Hierarichal Clustering')"
   ]
  },
  {
   "cell_type": "markdown",
   "metadata": {},
   "source": [
    " the number of clusters will be the number of verticle lines which are being intersected by the lines drawn using the thresold . So we need to determine the cutting line."
   ]
  },
  {
   "cell_type": "markdown",
   "metadata": {},
   "source": [
    "we can see that there are basically 2 clusters are possible"
   ]
  },
  {
   "cell_type": "markdown",
   "metadata": {},
   "source": [
    "\n",
    "# Creating a Herirical clustering model"
   ]
  },
  {
   "cell_type": "code",
   "execution_count": 37,
   "metadata": {
    "execution": {
     "iopub.execute_input": "2022-09-18T18:47:30.302172Z",
     "iopub.status.busy": "2022-09-18T18:47:30.300829Z",
     "iopub.status.idle": "2022-09-18T18:47:30.583755Z",
     "shell.execute_reply": "2022-09-18T18:47:30.582731Z",
     "shell.execute_reply.started": "2022-09-18T18:47:30.302119Z"
    }
   },
   "outputs": [],
   "source": [
    "from sklearn.cluster import AgglomerativeClustering"
   ]
  },
  {
   "cell_type": "code",
   "execution_count": 38,
   "metadata": {
    "execution": {
     "iopub.execute_input": "2022-09-18T18:47:30.586605Z",
     "iopub.status.busy": "2022-09-18T18:47:30.585696Z",
     "iopub.status.idle": "2022-09-18T18:47:30.593063Z",
     "shell.execute_reply": "2022-09-18T18:47:30.591505Z",
     "shell.execute_reply.started": "2022-09-18T18:47:30.586557Z"
    }
   },
   "outputs": [],
   "source": [
    "hc_model=AgglomerativeClustering(n_clusters=2,affinity='euclidean',linkage='ward')"
   ]
  },
  {
   "cell_type": "code",
   "execution_count": 39,
   "metadata": {
    "execution": {
     "iopub.execute_input": "2022-09-18T18:47:30.595295Z",
     "iopub.status.busy": "2022-09-18T18:47:30.594791Z",
     "iopub.status.idle": "2022-09-18T18:47:31.414279Z",
     "shell.execute_reply": "2022-09-18T18:47:31.412994Z",
     "shell.execute_reply.started": "2022-09-18T18:47:30.595223Z"
    }
   },
   "outputs": [],
   "source": [
    "y_cluster=hc_model.fit_predict(data_final)"
   ]
  },
  {
   "cell_type": "code",
   "execution_count": 40,
   "metadata": {
    "execution": {
     "iopub.execute_input": "2022-09-18T18:47:31.416246Z",
     "iopub.status.busy": "2022-09-18T18:47:31.415843Z",
     "iopub.status.idle": "2022-09-18T18:47:31.421225Z",
     "shell.execute_reply": "2022-09-18T18:47:31.420393Z",
     "shell.execute_reply.started": "2022-09-18T18:47:31.416214Z"
    }
   },
   "outputs": [],
   "source": [
    "#adding the cluster column\n",
    "data_cluster=data_final.copy()"
   ]
  },
  {
   "cell_type": "code",
   "execution_count": 41,
   "metadata": {
    "execution": {
     "iopub.execute_input": "2022-09-18T18:47:31.423242Z",
     "iopub.status.busy": "2022-09-18T18:47:31.422256Z",
     "iopub.status.idle": "2022-09-18T18:47:31.437767Z",
     "shell.execute_reply": "2022-09-18T18:47:31.436448Z",
     "shell.execute_reply.started": "2022-09-18T18:47:31.423207Z"
    }
   },
   "outputs": [],
   "source": [
    "data_cluster['cluster']=y_cluster.astype('object')"
   ]
  },
  {
   "cell_type": "code",
   "execution_count": 42,
   "metadata": {
    "execution": {
     "iopub.execute_input": "2022-09-18T18:47:31.440097Z",
     "iopub.status.busy": "2022-09-18T18:47:31.439617Z",
     "iopub.status.idle": "2022-09-18T18:47:31.480172Z",
     "shell.execute_reply": "2022-09-18T18:47:31.479026Z",
     "shell.execute_reply.started": "2022-09-18T18:47:31.440048Z"
    }
   },
   "outputs": [
    {
     "data": {
      "text/html": [
       "<div>\n",
       "<style scoped>\n",
       "    .dataframe tbody tr th:only-of-type {\n",
       "        vertical-align: middle;\n",
       "    }\n",
       "\n",
       "    .dataframe tbody tr th {\n",
       "        vertical-align: top;\n",
       "    }\n",
       "\n",
       "    .dataframe thead th {\n",
       "        text-align: right;\n",
       "    }\n",
       "</style>\n",
       "<table border=\"1\" class=\"dataframe\">\n",
       "  <thead>\n",
       "    <tr style=\"text-align: right;\">\n",
       "      <th></th>\n",
       "      <th>churches</th>\n",
       "      <th>resorts</th>\n",
       "      <th>beaches</th>\n",
       "      <th>parks</th>\n",
       "      <th>theaters</th>\n",
       "      <th>museums</th>\n",
       "      <th>malls</th>\n",
       "      <th>zoo</th>\n",
       "      <th>restaurent</th>\n",
       "      <th>pubs_bars</th>\n",
       "      <th>...</th>\n",
       "      <th>swimming_pools</th>\n",
       "      <th>gyms</th>\n",
       "      <th>bakeries</th>\n",
       "      <th>beauty_spas</th>\n",
       "      <th>cafes</th>\n",
       "      <th>view_points</th>\n",
       "      <th>monuments</th>\n",
       "      <th>gardens</th>\n",
       "      <th>id</th>\n",
       "      <th>cluster</th>\n",
       "    </tr>\n",
       "  </thead>\n",
       "  <tbody>\n",
       "    <tr>\n",
       "      <th>0</th>\n",
       "      <td>0.0</td>\n",
       "      <td>0.0</td>\n",
       "      <td>3.63</td>\n",
       "      <td>3.65</td>\n",
       "      <td>5.0</td>\n",
       "      <td>2.92</td>\n",
       "      <td>5.0</td>\n",
       "      <td>2.35</td>\n",
       "      <td>2.33</td>\n",
       "      <td>2.64</td>\n",
       "      <td>...</td>\n",
       "      <td>0.5</td>\n",
       "      <td>0.0</td>\n",
       "      <td>0.5</td>\n",
       "      <td>0.0</td>\n",
       "      <td>0.0</td>\n",
       "      <td>0.0</td>\n",
       "      <td>0.0</td>\n",
       "      <td>0.0</td>\n",
       "      <td>1</td>\n",
       "      <td>1</td>\n",
       "    </tr>\n",
       "    <tr>\n",
       "      <th>1</th>\n",
       "      <td>0.0</td>\n",
       "      <td>0.0</td>\n",
       "      <td>3.63</td>\n",
       "      <td>3.65</td>\n",
       "      <td>5.0</td>\n",
       "      <td>2.92</td>\n",
       "      <td>5.0</td>\n",
       "      <td>2.64</td>\n",
       "      <td>2.33</td>\n",
       "      <td>2.65</td>\n",
       "      <td>...</td>\n",
       "      <td>0.5</td>\n",
       "      <td>0.0</td>\n",
       "      <td>0.5</td>\n",
       "      <td>0.0</td>\n",
       "      <td>0.0</td>\n",
       "      <td>0.0</td>\n",
       "      <td>0.0</td>\n",
       "      <td>0.0</td>\n",
       "      <td>2</td>\n",
       "      <td>1</td>\n",
       "    </tr>\n",
       "    <tr>\n",
       "      <th>2</th>\n",
       "      <td>0.0</td>\n",
       "      <td>0.0</td>\n",
       "      <td>3.63</td>\n",
       "      <td>3.63</td>\n",
       "      <td>5.0</td>\n",
       "      <td>2.92</td>\n",
       "      <td>5.0</td>\n",
       "      <td>2.64</td>\n",
       "      <td>2.33</td>\n",
       "      <td>2.64</td>\n",
       "      <td>...</td>\n",
       "      <td>0.5</td>\n",
       "      <td>0.0</td>\n",
       "      <td>0.5</td>\n",
       "      <td>0.0</td>\n",
       "      <td>0.0</td>\n",
       "      <td>0.0</td>\n",
       "      <td>0.0</td>\n",
       "      <td>0.0</td>\n",
       "      <td>3</td>\n",
       "      <td>1</td>\n",
       "    </tr>\n",
       "    <tr>\n",
       "      <th>3</th>\n",
       "      <td>0.0</td>\n",
       "      <td>0.5</td>\n",
       "      <td>3.63</td>\n",
       "      <td>3.63</td>\n",
       "      <td>5.0</td>\n",
       "      <td>2.92</td>\n",
       "      <td>5.0</td>\n",
       "      <td>2.35</td>\n",
       "      <td>2.33</td>\n",
       "      <td>2.64</td>\n",
       "      <td>...</td>\n",
       "      <td>0.5</td>\n",
       "      <td>0.0</td>\n",
       "      <td>0.5</td>\n",
       "      <td>0.0</td>\n",
       "      <td>0.0</td>\n",
       "      <td>0.0</td>\n",
       "      <td>0.0</td>\n",
       "      <td>0.0</td>\n",
       "      <td>4</td>\n",
       "      <td>1</td>\n",
       "    </tr>\n",
       "    <tr>\n",
       "      <th>4</th>\n",
       "      <td>0.0</td>\n",
       "      <td>0.0</td>\n",
       "      <td>3.63</td>\n",
       "      <td>3.63</td>\n",
       "      <td>5.0</td>\n",
       "      <td>2.92</td>\n",
       "      <td>5.0</td>\n",
       "      <td>2.64</td>\n",
       "      <td>2.33</td>\n",
       "      <td>2.64</td>\n",
       "      <td>...</td>\n",
       "      <td>0.5</td>\n",
       "      <td>0.0</td>\n",
       "      <td>0.5</td>\n",
       "      <td>0.0</td>\n",
       "      <td>0.0</td>\n",
       "      <td>0.0</td>\n",
       "      <td>0.0</td>\n",
       "      <td>0.0</td>\n",
       "      <td>5</td>\n",
       "      <td>1</td>\n",
       "    </tr>\n",
       "  </tbody>\n",
       "</table>\n",
       "<p>5 rows × 26 columns</p>\n",
       "</div>"
      ],
      "text/plain": [
       "   churches  resorts  beaches  parks  theaters  museums  malls   zoo  \\\n",
       "0       0.0      0.0     3.63   3.65       5.0     2.92    5.0  2.35   \n",
       "1       0.0      0.0     3.63   3.65       5.0     2.92    5.0  2.64   \n",
       "2       0.0      0.0     3.63   3.63       5.0     2.92    5.0  2.64   \n",
       "3       0.0      0.5     3.63   3.63       5.0     2.92    5.0  2.35   \n",
       "4       0.0      0.0     3.63   3.63       5.0     2.92    5.0  2.64   \n",
       "\n",
       "   restaurent  pubs_bars  ...  swimming_pools  gyms  bakeries  beauty_spas  \\\n",
       "0        2.33       2.64  ...             0.5   0.0       0.5          0.0   \n",
       "1        2.33       2.65  ...             0.5   0.0       0.5          0.0   \n",
       "2        2.33       2.64  ...             0.5   0.0       0.5          0.0   \n",
       "3        2.33       2.64  ...             0.5   0.0       0.5          0.0   \n",
       "4        2.33       2.64  ...             0.5   0.0       0.5          0.0   \n",
       "\n",
       "   cafes  view_points  monuments  gardens  id  cluster  \n",
       "0    0.0          0.0        0.0      0.0   1        1  \n",
       "1    0.0          0.0        0.0      0.0   2        1  \n",
       "2    0.0          0.0        0.0      0.0   3        1  \n",
       "3    0.0          0.0        0.0      0.0   4        1  \n",
       "4    0.0          0.0        0.0      0.0   5        1  \n",
       "\n",
       "[5 rows x 26 columns]"
      ]
     },
     "execution_count": 42,
     "metadata": {},
     "output_type": "execute_result"
    }
   ],
   "source": [
    "data_cluster.head()"
   ]
  },
  {
   "cell_type": "markdown",
   "metadata": {},
   "source": [
    "# visualizing the cluster"
   ]
  },
  {
   "cell_type": "code",
   "execution_count": 43,
   "metadata": {
    "execution": {
     "iopub.execute_input": "2022-09-18T18:47:31.48253Z",
     "iopub.status.busy": "2022-09-18T18:47:31.481769Z",
     "iopub.status.idle": "2022-09-18T18:47:31.49343Z",
     "shell.execute_reply": "2022-09-18T18:47:31.491983Z",
     "shell.execute_reply.started": "2022-09-18T18:47:31.48247Z"
    }
   },
   "outputs": [
    {
     "data": {
      "text/plain": [
       "['churches',\n",
       " 'resorts',\n",
       " 'beaches',\n",
       " 'parks',\n",
       " 'theaters',\n",
       " 'museums',\n",
       " 'malls',\n",
       " 'zoo',\n",
       " 'restaurent',\n",
       " 'pubs_bars',\n",
       " 'local_services',\n",
       " 'burzer_pizza_shops',\n",
       " 'hotel_other_lodgings',\n",
       " 'juice_bars',\n",
       " 'art_gallaries',\n",
       " 'dance_clubs',\n",
       " 'swimming_pools',\n",
       " 'gyms',\n",
       " 'bakeries',\n",
       " 'beauty_spas',\n",
       " 'cafes',\n",
       " 'view_points',\n",
       " 'monuments',\n",
       " 'gardens',\n",
       " 'id']"
      ]
     },
     "execution_count": 43,
     "metadata": {},
     "output_type": "execute_result"
    }
   ],
   "source": [
    "cols=list(data_final.columns)\n",
    "cols"
   ]
  },
  {
   "cell_type": "code",
   "execution_count": null,
   "metadata": {
    "execution": {
     "iopub.execute_input": "2022-09-18T18:47:31.49521Z",
     "iopub.status.busy": "2022-09-18T18:47:31.494829Z",
     "iopub.status.idle": "2022-09-18T18:47:31.501929Z",
     "shell.execute_reply": "2022-09-18T18:47:31.500823Z",
     "shell.execute_reply.started": "2022-09-18T18:47:31.495177Z"
    }
   },
   "outputs": [],
   "source": [
    "#sns.pairplot(data_cluster,hue='cluster',diag_kind='hist')"
   ]
  },
  {
   "cell_type": "markdown",
   "metadata": {},
   "source": [
    "# 9.Conclusion\n",
    "By using heirarical clustering we clustered review into two category,positive review and a negative review"
   ]
  },
  {
   "cell_type": "code",
   "execution_count": 44,
   "metadata": {
    "execution": {
     "iopub.execute_input": "2022-09-18T18:47:31.504707Z",
     "iopub.status.busy": "2022-09-18T18:47:31.503387Z",
     "iopub.status.idle": "2022-09-18T18:47:31.516784Z",
     "shell.execute_reply": "2022-09-18T18:47:31.515534Z",
     "shell.execute_reply.started": "2022-09-18T18:47:31.504667Z"
    }
   },
   "outputs": [],
   "source": [
    "result=data_cluster.copy()"
   ]
  },
  {
   "cell_type": "code",
   "execution_count": 45,
   "metadata": {
    "execution": {
     "iopub.execute_input": "2022-09-18T18:47:31.518996Z",
     "iopub.status.busy": "2022-09-18T18:47:31.518613Z",
     "iopub.status.idle": "2022-09-18T18:47:31.530793Z",
     "shell.execute_reply": "2022-09-18T18:47:31.52966Z",
     "shell.execute_reply.started": "2022-09-18T18:47:31.518938Z"
    }
   },
   "outputs": [],
   "source": [
    "result.replace({'cluster':1},'Positive',inplace=True)\n",
    "result.replace({'cluster':0}, 'Negative',inplace=True)"
   ]
  },
  {
   "cell_type": "code",
   "execution_count": 46,
   "metadata": {
    "execution": {
     "iopub.execute_input": "2022-09-18T18:47:31.533879Z",
     "iopub.status.busy": "2022-09-18T18:47:31.532676Z",
     "iopub.status.idle": "2022-09-18T18:47:31.574117Z",
     "shell.execute_reply": "2022-09-18T18:47:31.57283Z",
     "shell.execute_reply.started": "2022-09-18T18:47:31.533831Z"
    }
   },
   "outputs": [
    {
     "data": {
      "text/html": [
       "<div>\n",
       "<style scoped>\n",
       "    .dataframe tbody tr th:only-of-type {\n",
       "        vertical-align: middle;\n",
       "    }\n",
       "\n",
       "    .dataframe tbody tr th {\n",
       "        vertical-align: top;\n",
       "    }\n",
       "\n",
       "    .dataframe thead th {\n",
       "        text-align: right;\n",
       "    }\n",
       "</style>\n",
       "<table border=\"1\" class=\"dataframe\">\n",
       "  <thead>\n",
       "    <tr style=\"text-align: right;\">\n",
       "      <th></th>\n",
       "      <th>churches</th>\n",
       "      <th>resorts</th>\n",
       "      <th>beaches</th>\n",
       "      <th>parks</th>\n",
       "      <th>theaters</th>\n",
       "      <th>museums</th>\n",
       "      <th>malls</th>\n",
       "      <th>zoo</th>\n",
       "      <th>restaurent</th>\n",
       "      <th>pubs_bars</th>\n",
       "      <th>...</th>\n",
       "      <th>swimming_pools</th>\n",
       "      <th>gyms</th>\n",
       "      <th>bakeries</th>\n",
       "      <th>beauty_spas</th>\n",
       "      <th>cafes</th>\n",
       "      <th>view_points</th>\n",
       "      <th>monuments</th>\n",
       "      <th>gardens</th>\n",
       "      <th>id</th>\n",
       "      <th>cluster</th>\n",
       "    </tr>\n",
       "  </thead>\n",
       "  <tbody>\n",
       "    <tr>\n",
       "      <th>0</th>\n",
       "      <td>0.0</td>\n",
       "      <td>0.0</td>\n",
       "      <td>3.63</td>\n",
       "      <td>3.65</td>\n",
       "      <td>5.0</td>\n",
       "      <td>2.92</td>\n",
       "      <td>5.0</td>\n",
       "      <td>2.35</td>\n",
       "      <td>2.33</td>\n",
       "      <td>2.64</td>\n",
       "      <td>...</td>\n",
       "      <td>0.5</td>\n",
       "      <td>0.0</td>\n",
       "      <td>0.5</td>\n",
       "      <td>0.0</td>\n",
       "      <td>0.0</td>\n",
       "      <td>0.0</td>\n",
       "      <td>0.0</td>\n",
       "      <td>0.0</td>\n",
       "      <td>1</td>\n",
       "      <td>Positive</td>\n",
       "    </tr>\n",
       "    <tr>\n",
       "      <th>1</th>\n",
       "      <td>0.0</td>\n",
       "      <td>0.0</td>\n",
       "      <td>3.63</td>\n",
       "      <td>3.65</td>\n",
       "      <td>5.0</td>\n",
       "      <td>2.92</td>\n",
       "      <td>5.0</td>\n",
       "      <td>2.64</td>\n",
       "      <td>2.33</td>\n",
       "      <td>2.65</td>\n",
       "      <td>...</td>\n",
       "      <td>0.5</td>\n",
       "      <td>0.0</td>\n",
       "      <td>0.5</td>\n",
       "      <td>0.0</td>\n",
       "      <td>0.0</td>\n",
       "      <td>0.0</td>\n",
       "      <td>0.0</td>\n",
       "      <td>0.0</td>\n",
       "      <td>2</td>\n",
       "      <td>Positive</td>\n",
       "    </tr>\n",
       "    <tr>\n",
       "      <th>2</th>\n",
       "      <td>0.0</td>\n",
       "      <td>0.0</td>\n",
       "      <td>3.63</td>\n",
       "      <td>3.63</td>\n",
       "      <td>5.0</td>\n",
       "      <td>2.92</td>\n",
       "      <td>5.0</td>\n",
       "      <td>2.64</td>\n",
       "      <td>2.33</td>\n",
       "      <td>2.64</td>\n",
       "      <td>...</td>\n",
       "      <td>0.5</td>\n",
       "      <td>0.0</td>\n",
       "      <td>0.5</td>\n",
       "      <td>0.0</td>\n",
       "      <td>0.0</td>\n",
       "      <td>0.0</td>\n",
       "      <td>0.0</td>\n",
       "      <td>0.0</td>\n",
       "      <td>3</td>\n",
       "      <td>Positive</td>\n",
       "    </tr>\n",
       "    <tr>\n",
       "      <th>3</th>\n",
       "      <td>0.0</td>\n",
       "      <td>0.5</td>\n",
       "      <td>3.63</td>\n",
       "      <td>3.63</td>\n",
       "      <td>5.0</td>\n",
       "      <td>2.92</td>\n",
       "      <td>5.0</td>\n",
       "      <td>2.35</td>\n",
       "      <td>2.33</td>\n",
       "      <td>2.64</td>\n",
       "      <td>...</td>\n",
       "      <td>0.5</td>\n",
       "      <td>0.0</td>\n",
       "      <td>0.5</td>\n",
       "      <td>0.0</td>\n",
       "      <td>0.0</td>\n",
       "      <td>0.0</td>\n",
       "      <td>0.0</td>\n",
       "      <td>0.0</td>\n",
       "      <td>4</td>\n",
       "      <td>Positive</td>\n",
       "    </tr>\n",
       "    <tr>\n",
       "      <th>4</th>\n",
       "      <td>0.0</td>\n",
       "      <td>0.0</td>\n",
       "      <td>3.63</td>\n",
       "      <td>3.63</td>\n",
       "      <td>5.0</td>\n",
       "      <td>2.92</td>\n",
       "      <td>5.0</td>\n",
       "      <td>2.64</td>\n",
       "      <td>2.33</td>\n",
       "      <td>2.64</td>\n",
       "      <td>...</td>\n",
       "      <td>0.5</td>\n",
       "      <td>0.0</td>\n",
       "      <td>0.5</td>\n",
       "      <td>0.0</td>\n",
       "      <td>0.0</td>\n",
       "      <td>0.0</td>\n",
       "      <td>0.0</td>\n",
       "      <td>0.0</td>\n",
       "      <td>5</td>\n",
       "      <td>Positive</td>\n",
       "    </tr>\n",
       "  </tbody>\n",
       "</table>\n",
       "<p>5 rows × 26 columns</p>\n",
       "</div>"
      ],
      "text/plain": [
       "   churches  resorts  beaches  parks  theaters  museums  malls   zoo  \\\n",
       "0       0.0      0.0     3.63   3.65       5.0     2.92    5.0  2.35   \n",
       "1       0.0      0.0     3.63   3.65       5.0     2.92    5.0  2.64   \n",
       "2       0.0      0.0     3.63   3.63       5.0     2.92    5.0  2.64   \n",
       "3       0.0      0.5     3.63   3.63       5.0     2.92    5.0  2.35   \n",
       "4       0.0      0.0     3.63   3.63       5.0     2.92    5.0  2.64   \n",
       "\n",
       "   restaurent  pubs_bars  ...  swimming_pools  gyms  bakeries  beauty_spas  \\\n",
       "0        2.33       2.64  ...             0.5   0.0       0.5          0.0   \n",
       "1        2.33       2.65  ...             0.5   0.0       0.5          0.0   \n",
       "2        2.33       2.64  ...             0.5   0.0       0.5          0.0   \n",
       "3        2.33       2.64  ...             0.5   0.0       0.5          0.0   \n",
       "4        2.33       2.64  ...             0.5   0.0       0.5          0.0   \n",
       "\n",
       "   cafes  view_points  monuments  gardens  id   cluster  \n",
       "0    0.0          0.0        0.0      0.0   1  Positive  \n",
       "1    0.0          0.0        0.0      0.0   2  Positive  \n",
       "2    0.0          0.0        0.0      0.0   3  Positive  \n",
       "3    0.0          0.0        0.0      0.0   4  Positive  \n",
       "4    0.0          0.0        0.0      0.0   5  Positive  \n",
       "\n",
       "[5 rows x 26 columns]"
      ]
     },
     "execution_count": 46,
     "metadata": {},
     "output_type": "execute_result"
    }
   ],
   "source": [
    "result.head()"
   ]
  },
  {
   "cell_type": "code",
   "execution_count": null,
   "metadata": {},
   "outputs": [],
   "source": []
  }
 ],
 "metadata": {
  "kernelspec": {
   "display_name": "Python 3 (ipykernel)",
   "language": "python",
   "name": "python3"
  },
  "language_info": {
   "codemirror_mode": {
    "name": "ipython",
    "version": 3
   },
   "file_extension": ".py",
   "mimetype": "text/x-python",
   "name": "python",
   "nbconvert_exporter": "python",
   "pygments_lexer": "ipython3",
   "version": "3.9.13"
  }
 },
 "nbformat": 4,
 "nbformat_minor": 4
}
