{
 "cells": [
  {
   "cell_type": "markdown",
   "id": "0ff3496c",
   "metadata": {},
   "source": [
    "# Problem statement - House Price Prediction"
   ]
  },
  {
   "cell_type": "markdown",
   "id": "081a0bfc",
   "metadata": {},
   "source": [
    "# Analytic Approach - Regression"
   ]
  },
  {
   "cell_type": "code",
   "execution_count": 1,
   "id": "9d6f4ba5",
   "metadata": {},
   "outputs": [],
   "source": [
    "import numpy as np\n",
    "import pandas as pd\n",
    "import matplotlib.pyplot as plt\n",
    "import seaborn as sns\n",
    "%matplotlib inline\n",
    "\n",
    "\n",
    "from sklearn.preprocessing import StandardScaler\n",
    "from sklearn.model_selection import train_test_split\n",
    "from sklearn.linear_model import LinearRegression\n",
    "from sklearn.preprocessing import PolynomialFeatures\n",
    "from sklearn.tree import DecisionTreeRegressor\n",
    "from sklearn.ensemble import RandomForestRegressor\n",
    "\n",
    "\n",
    "import warnings\n",
    "warnings.filterwarnings('ignore')"
   ]
  },
  {
   "cell_type": "code",
   "execution_count": 2,
   "id": "bc278c7e",
   "metadata": {},
   "outputs": [],
   "source": [
    "pd.set_option('display.max_rows',None)\n",
    "pd.set_option('display.max_columns',None)"
   ]
  },
  {
   "cell_type": "code",
   "execution_count": 3,
   "id": "8453d3a3",
   "metadata": {},
   "outputs": [
    {
     "ename": "FileNotFoundError",
     "evalue": "[Errno 2] No such file or directory: 'D:Dataset/HousePrices.csv'",
     "output_type": "error",
     "traceback": [
      "\u001b[1;31m---------------------------------------------------------------------------\u001b[0m",
      "\u001b[1;31mFileNotFoundError\u001b[0m                         Traceback (most recent call last)",
      "Cell \u001b[1;32mIn[3], line 1\u001b[0m\n\u001b[1;32m----> 1\u001b[0m df \u001b[38;5;241m=\u001b[39m \u001b[43mpd\u001b[49m\u001b[38;5;241;43m.\u001b[39;49m\u001b[43mread_csv\u001b[49m\u001b[43m(\u001b[49m\u001b[38;5;124;43m\"\u001b[39;49m\u001b[38;5;124;43mD:Dataset/HousePrices.csv\u001b[39;49m\u001b[38;5;124;43m\"\u001b[39;49m\u001b[43m)\u001b[49m\n",
      "File \u001b[1;32m~\\anaconda3\\envs\\ml\\lib\\site-packages\\pandas\\util\\_decorators.py:211\u001b[0m, in \u001b[0;36mdeprecate_kwarg.<locals>._deprecate_kwarg.<locals>.wrapper\u001b[1;34m(*args, **kwargs)\u001b[0m\n\u001b[0;32m    209\u001b[0m     \u001b[38;5;28;01melse\u001b[39;00m:\n\u001b[0;32m    210\u001b[0m         kwargs[new_arg_name] \u001b[38;5;241m=\u001b[39m new_arg_value\n\u001b[1;32m--> 211\u001b[0m \u001b[38;5;28;01mreturn\u001b[39;00m func(\u001b[38;5;241m*\u001b[39margs, \u001b[38;5;241m*\u001b[39m\u001b[38;5;241m*\u001b[39mkwargs)\n",
      "File \u001b[1;32m~\\anaconda3\\envs\\ml\\lib\\site-packages\\pandas\\util\\_decorators.py:331\u001b[0m, in \u001b[0;36mdeprecate_nonkeyword_arguments.<locals>.decorate.<locals>.wrapper\u001b[1;34m(*args, **kwargs)\u001b[0m\n\u001b[0;32m    325\u001b[0m \u001b[38;5;28;01mif\u001b[39;00m \u001b[38;5;28mlen\u001b[39m(args) \u001b[38;5;241m>\u001b[39m num_allow_args:\n\u001b[0;32m    326\u001b[0m     warnings\u001b[38;5;241m.\u001b[39mwarn(\n\u001b[0;32m    327\u001b[0m         msg\u001b[38;5;241m.\u001b[39mformat(arguments\u001b[38;5;241m=\u001b[39m_format_argument_list(allow_args)),\n\u001b[0;32m    328\u001b[0m         \u001b[38;5;167;01mFutureWarning\u001b[39;00m,\n\u001b[0;32m    329\u001b[0m         stacklevel\u001b[38;5;241m=\u001b[39mfind_stack_level(),\n\u001b[0;32m    330\u001b[0m     )\n\u001b[1;32m--> 331\u001b[0m \u001b[38;5;28;01mreturn\u001b[39;00m func(\u001b[38;5;241m*\u001b[39margs, \u001b[38;5;241m*\u001b[39m\u001b[38;5;241m*\u001b[39mkwargs)\n",
      "File \u001b[1;32m~\\anaconda3\\envs\\ml\\lib\\site-packages\\pandas\\io\\parsers\\readers.py:950\u001b[0m, in \u001b[0;36mread_csv\u001b[1;34m(filepath_or_buffer, sep, delimiter, header, names, index_col, usecols, squeeze, prefix, mangle_dupe_cols, dtype, engine, converters, true_values, false_values, skipinitialspace, skiprows, skipfooter, nrows, na_values, keep_default_na, na_filter, verbose, skip_blank_lines, parse_dates, infer_datetime_format, keep_date_col, date_parser, dayfirst, cache_dates, iterator, chunksize, compression, thousands, decimal, lineterminator, quotechar, quoting, doublequote, escapechar, comment, encoding, encoding_errors, dialect, error_bad_lines, warn_bad_lines, on_bad_lines, delim_whitespace, low_memory, memory_map, float_precision, storage_options)\u001b[0m\n\u001b[0;32m    935\u001b[0m kwds_defaults \u001b[38;5;241m=\u001b[39m _refine_defaults_read(\n\u001b[0;32m    936\u001b[0m     dialect,\n\u001b[0;32m    937\u001b[0m     delimiter,\n\u001b[1;32m   (...)\u001b[0m\n\u001b[0;32m    946\u001b[0m     defaults\u001b[38;5;241m=\u001b[39m{\u001b[38;5;124m\"\u001b[39m\u001b[38;5;124mdelimiter\u001b[39m\u001b[38;5;124m\"\u001b[39m: \u001b[38;5;124m\"\u001b[39m\u001b[38;5;124m,\u001b[39m\u001b[38;5;124m\"\u001b[39m},\n\u001b[0;32m    947\u001b[0m )\n\u001b[0;32m    948\u001b[0m kwds\u001b[38;5;241m.\u001b[39mupdate(kwds_defaults)\n\u001b[1;32m--> 950\u001b[0m \u001b[38;5;28;01mreturn\u001b[39;00m \u001b[43m_read\u001b[49m\u001b[43m(\u001b[49m\u001b[43mfilepath_or_buffer\u001b[49m\u001b[43m,\u001b[49m\u001b[43m \u001b[49m\u001b[43mkwds\u001b[49m\u001b[43m)\u001b[49m\n",
      "File \u001b[1;32m~\\anaconda3\\envs\\ml\\lib\\site-packages\\pandas\\io\\parsers\\readers.py:605\u001b[0m, in \u001b[0;36m_read\u001b[1;34m(filepath_or_buffer, kwds)\u001b[0m\n\u001b[0;32m    602\u001b[0m _validate_names(kwds\u001b[38;5;241m.\u001b[39mget(\u001b[38;5;124m\"\u001b[39m\u001b[38;5;124mnames\u001b[39m\u001b[38;5;124m\"\u001b[39m, \u001b[38;5;28;01mNone\u001b[39;00m))\n\u001b[0;32m    604\u001b[0m \u001b[38;5;66;03m# Create the parser.\u001b[39;00m\n\u001b[1;32m--> 605\u001b[0m parser \u001b[38;5;241m=\u001b[39m TextFileReader(filepath_or_buffer, \u001b[38;5;241m*\u001b[39m\u001b[38;5;241m*\u001b[39mkwds)\n\u001b[0;32m    607\u001b[0m \u001b[38;5;28;01mif\u001b[39;00m chunksize \u001b[38;5;129;01mor\u001b[39;00m iterator:\n\u001b[0;32m    608\u001b[0m     \u001b[38;5;28;01mreturn\u001b[39;00m parser\n",
      "File \u001b[1;32m~\\anaconda3\\envs\\ml\\lib\\site-packages\\pandas\\io\\parsers\\readers.py:1442\u001b[0m, in \u001b[0;36mTextFileReader.__init__\u001b[1;34m(self, f, engine, **kwds)\u001b[0m\n\u001b[0;32m   1439\u001b[0m     \u001b[38;5;28mself\u001b[39m\u001b[38;5;241m.\u001b[39moptions[\u001b[38;5;124m\"\u001b[39m\u001b[38;5;124mhas_index_names\u001b[39m\u001b[38;5;124m\"\u001b[39m] \u001b[38;5;241m=\u001b[39m kwds[\u001b[38;5;124m\"\u001b[39m\u001b[38;5;124mhas_index_names\u001b[39m\u001b[38;5;124m\"\u001b[39m]\n\u001b[0;32m   1441\u001b[0m \u001b[38;5;28mself\u001b[39m\u001b[38;5;241m.\u001b[39mhandles: IOHandles \u001b[38;5;241m|\u001b[39m \u001b[38;5;28;01mNone\u001b[39;00m \u001b[38;5;241m=\u001b[39m \u001b[38;5;28;01mNone\u001b[39;00m\n\u001b[1;32m-> 1442\u001b[0m \u001b[38;5;28mself\u001b[39m\u001b[38;5;241m.\u001b[39m_engine \u001b[38;5;241m=\u001b[39m \u001b[38;5;28;43mself\u001b[39;49m\u001b[38;5;241;43m.\u001b[39;49m\u001b[43m_make_engine\u001b[49m\u001b[43m(\u001b[49m\u001b[43mf\u001b[49m\u001b[43m,\u001b[49m\u001b[43m \u001b[49m\u001b[38;5;28;43mself\u001b[39;49m\u001b[38;5;241;43m.\u001b[39;49m\u001b[43mengine\u001b[49m\u001b[43m)\u001b[49m\n",
      "File \u001b[1;32m~\\anaconda3\\envs\\ml\\lib\\site-packages\\pandas\\io\\parsers\\readers.py:1735\u001b[0m, in \u001b[0;36mTextFileReader._make_engine\u001b[1;34m(self, f, engine)\u001b[0m\n\u001b[0;32m   1733\u001b[0m     \u001b[38;5;28;01mif\u001b[39;00m \u001b[38;5;124m\"\u001b[39m\u001b[38;5;124mb\u001b[39m\u001b[38;5;124m\"\u001b[39m \u001b[38;5;129;01mnot\u001b[39;00m \u001b[38;5;129;01min\u001b[39;00m mode:\n\u001b[0;32m   1734\u001b[0m         mode \u001b[38;5;241m+\u001b[39m\u001b[38;5;241m=\u001b[39m \u001b[38;5;124m\"\u001b[39m\u001b[38;5;124mb\u001b[39m\u001b[38;5;124m\"\u001b[39m\n\u001b[1;32m-> 1735\u001b[0m \u001b[38;5;28mself\u001b[39m\u001b[38;5;241m.\u001b[39mhandles \u001b[38;5;241m=\u001b[39m \u001b[43mget_handle\u001b[49m\u001b[43m(\u001b[49m\n\u001b[0;32m   1736\u001b[0m \u001b[43m    \u001b[49m\u001b[43mf\u001b[49m\u001b[43m,\u001b[49m\n\u001b[0;32m   1737\u001b[0m \u001b[43m    \u001b[49m\u001b[43mmode\u001b[49m\u001b[43m,\u001b[49m\n\u001b[0;32m   1738\u001b[0m \u001b[43m    \u001b[49m\u001b[43mencoding\u001b[49m\u001b[38;5;241;43m=\u001b[39;49m\u001b[38;5;28;43mself\u001b[39;49m\u001b[38;5;241;43m.\u001b[39;49m\u001b[43moptions\u001b[49m\u001b[38;5;241;43m.\u001b[39;49m\u001b[43mget\u001b[49m\u001b[43m(\u001b[49m\u001b[38;5;124;43m\"\u001b[39;49m\u001b[38;5;124;43mencoding\u001b[39;49m\u001b[38;5;124;43m\"\u001b[39;49m\u001b[43m,\u001b[49m\u001b[43m \u001b[49m\u001b[38;5;28;43;01mNone\u001b[39;49;00m\u001b[43m)\u001b[49m\u001b[43m,\u001b[49m\n\u001b[0;32m   1739\u001b[0m \u001b[43m    \u001b[49m\u001b[43mcompression\u001b[49m\u001b[38;5;241;43m=\u001b[39;49m\u001b[38;5;28;43mself\u001b[39;49m\u001b[38;5;241;43m.\u001b[39;49m\u001b[43moptions\u001b[49m\u001b[38;5;241;43m.\u001b[39;49m\u001b[43mget\u001b[49m\u001b[43m(\u001b[49m\u001b[38;5;124;43m\"\u001b[39;49m\u001b[38;5;124;43mcompression\u001b[39;49m\u001b[38;5;124;43m\"\u001b[39;49m\u001b[43m,\u001b[49m\u001b[43m \u001b[49m\u001b[38;5;28;43;01mNone\u001b[39;49;00m\u001b[43m)\u001b[49m\u001b[43m,\u001b[49m\n\u001b[0;32m   1740\u001b[0m \u001b[43m    \u001b[49m\u001b[43mmemory_map\u001b[49m\u001b[38;5;241;43m=\u001b[39;49m\u001b[38;5;28;43mself\u001b[39;49m\u001b[38;5;241;43m.\u001b[39;49m\u001b[43moptions\u001b[49m\u001b[38;5;241;43m.\u001b[39;49m\u001b[43mget\u001b[49m\u001b[43m(\u001b[49m\u001b[38;5;124;43m\"\u001b[39;49m\u001b[38;5;124;43mmemory_map\u001b[39;49m\u001b[38;5;124;43m\"\u001b[39;49m\u001b[43m,\u001b[49m\u001b[43m \u001b[49m\u001b[38;5;28;43;01mFalse\u001b[39;49;00m\u001b[43m)\u001b[49m\u001b[43m,\u001b[49m\n\u001b[0;32m   1741\u001b[0m \u001b[43m    \u001b[49m\u001b[43mis_text\u001b[49m\u001b[38;5;241;43m=\u001b[39;49m\u001b[43mis_text\u001b[49m\u001b[43m,\u001b[49m\n\u001b[0;32m   1742\u001b[0m \u001b[43m    \u001b[49m\u001b[43merrors\u001b[49m\u001b[38;5;241;43m=\u001b[39;49m\u001b[38;5;28;43mself\u001b[39;49m\u001b[38;5;241;43m.\u001b[39;49m\u001b[43moptions\u001b[49m\u001b[38;5;241;43m.\u001b[39;49m\u001b[43mget\u001b[49m\u001b[43m(\u001b[49m\u001b[38;5;124;43m\"\u001b[39;49m\u001b[38;5;124;43mencoding_errors\u001b[39;49m\u001b[38;5;124;43m\"\u001b[39;49m\u001b[43m,\u001b[49m\u001b[43m \u001b[49m\u001b[38;5;124;43m\"\u001b[39;49m\u001b[38;5;124;43mstrict\u001b[39;49m\u001b[38;5;124;43m\"\u001b[39;49m\u001b[43m)\u001b[49m\u001b[43m,\u001b[49m\n\u001b[0;32m   1743\u001b[0m \u001b[43m    \u001b[49m\u001b[43mstorage_options\u001b[49m\u001b[38;5;241;43m=\u001b[39;49m\u001b[38;5;28;43mself\u001b[39;49m\u001b[38;5;241;43m.\u001b[39;49m\u001b[43moptions\u001b[49m\u001b[38;5;241;43m.\u001b[39;49m\u001b[43mget\u001b[49m\u001b[43m(\u001b[49m\u001b[38;5;124;43m\"\u001b[39;49m\u001b[38;5;124;43mstorage_options\u001b[39;49m\u001b[38;5;124;43m\"\u001b[39;49m\u001b[43m,\u001b[49m\u001b[43m \u001b[49m\u001b[38;5;28;43;01mNone\u001b[39;49;00m\u001b[43m)\u001b[49m\u001b[43m,\u001b[49m\n\u001b[0;32m   1744\u001b[0m \u001b[43m\u001b[49m\u001b[43m)\u001b[49m\n\u001b[0;32m   1745\u001b[0m \u001b[38;5;28;01massert\u001b[39;00m \u001b[38;5;28mself\u001b[39m\u001b[38;5;241m.\u001b[39mhandles \u001b[38;5;129;01mis\u001b[39;00m \u001b[38;5;129;01mnot\u001b[39;00m \u001b[38;5;28;01mNone\u001b[39;00m\n\u001b[0;32m   1746\u001b[0m f \u001b[38;5;241m=\u001b[39m \u001b[38;5;28mself\u001b[39m\u001b[38;5;241m.\u001b[39mhandles\u001b[38;5;241m.\u001b[39mhandle\n",
      "File \u001b[1;32m~\\anaconda3\\envs\\ml\\lib\\site-packages\\pandas\\io\\common.py:856\u001b[0m, in \u001b[0;36mget_handle\u001b[1;34m(path_or_buf, mode, encoding, compression, memory_map, is_text, errors, storage_options)\u001b[0m\n\u001b[0;32m    851\u001b[0m \u001b[38;5;28;01melif\u001b[39;00m \u001b[38;5;28misinstance\u001b[39m(handle, \u001b[38;5;28mstr\u001b[39m):\n\u001b[0;32m    852\u001b[0m     \u001b[38;5;66;03m# Check whether the filename is to be opened in binary mode.\u001b[39;00m\n\u001b[0;32m    853\u001b[0m     \u001b[38;5;66;03m# Binary mode does not support 'encoding' and 'newline'.\u001b[39;00m\n\u001b[0;32m    854\u001b[0m     \u001b[38;5;28;01mif\u001b[39;00m ioargs\u001b[38;5;241m.\u001b[39mencoding \u001b[38;5;129;01mand\u001b[39;00m \u001b[38;5;124m\"\u001b[39m\u001b[38;5;124mb\u001b[39m\u001b[38;5;124m\"\u001b[39m \u001b[38;5;129;01mnot\u001b[39;00m \u001b[38;5;129;01min\u001b[39;00m ioargs\u001b[38;5;241m.\u001b[39mmode:\n\u001b[0;32m    855\u001b[0m         \u001b[38;5;66;03m# Encoding\u001b[39;00m\n\u001b[1;32m--> 856\u001b[0m         handle \u001b[38;5;241m=\u001b[39m \u001b[38;5;28;43mopen\u001b[39;49m\u001b[43m(\u001b[49m\n\u001b[0;32m    857\u001b[0m \u001b[43m            \u001b[49m\u001b[43mhandle\u001b[49m\u001b[43m,\u001b[49m\n\u001b[0;32m    858\u001b[0m \u001b[43m            \u001b[49m\u001b[43mioargs\u001b[49m\u001b[38;5;241;43m.\u001b[39;49m\u001b[43mmode\u001b[49m\u001b[43m,\u001b[49m\n\u001b[0;32m    859\u001b[0m \u001b[43m            \u001b[49m\u001b[43mencoding\u001b[49m\u001b[38;5;241;43m=\u001b[39;49m\u001b[43mioargs\u001b[49m\u001b[38;5;241;43m.\u001b[39;49m\u001b[43mencoding\u001b[49m\u001b[43m,\u001b[49m\n\u001b[0;32m    860\u001b[0m \u001b[43m            \u001b[49m\u001b[43merrors\u001b[49m\u001b[38;5;241;43m=\u001b[39;49m\u001b[43merrors\u001b[49m\u001b[43m,\u001b[49m\n\u001b[0;32m    861\u001b[0m \u001b[43m            \u001b[49m\u001b[43mnewline\u001b[49m\u001b[38;5;241;43m=\u001b[39;49m\u001b[38;5;124;43m\"\u001b[39;49m\u001b[38;5;124;43m\"\u001b[39;49m\u001b[43m,\u001b[49m\n\u001b[0;32m    862\u001b[0m \u001b[43m        \u001b[49m\u001b[43m)\u001b[49m\n\u001b[0;32m    863\u001b[0m     \u001b[38;5;28;01melse\u001b[39;00m:\n\u001b[0;32m    864\u001b[0m         \u001b[38;5;66;03m# Binary mode\u001b[39;00m\n\u001b[0;32m    865\u001b[0m         handle \u001b[38;5;241m=\u001b[39m \u001b[38;5;28mopen\u001b[39m(handle, ioargs\u001b[38;5;241m.\u001b[39mmode)\n",
      "\u001b[1;31mFileNotFoundError\u001b[0m: [Errno 2] No such file or directory: 'D:Dataset/HousePrices.csv'"
     ]
    }
   ],
   "source": [
    "df = pd.read_csv(\"D:Dataset/HousePrices.csv\")"
   ]
  },
  {
   "cell_type": "code",
   "execution_count": null,
   "id": "3d52d75d",
   "metadata": {},
   "outputs": [],
   "source": [
    "df.head(10)"
   ]
  },
  {
   "cell_type": "code",
   "execution_count": null,
   "id": "b5387d55",
   "metadata": {},
   "outputs": [],
   "source": [
    "df.shape"
   ]
  },
  {
   "cell_type": "code",
   "execution_count": null,
   "id": "1d79df53",
   "metadata": {},
   "outputs": [],
   "source": [
    "df.columns"
   ]
  },
  {
   "cell_type": "code",
   "execution_count": null,
   "id": "0eda5ce8",
   "metadata": {},
   "outputs": [],
   "source": [
    "df.describe()"
   ]
  },
  {
   "cell_type": "code",
   "execution_count": null,
   "id": "0226bacd",
   "metadata": {},
   "outputs": [],
   "source": [
    "df.info()"
   ]
  },
  {
   "cell_type": "markdown",
   "id": "ba126ae1",
   "metadata": {},
   "source": [
    "# Data Cleaning"
   ]
  },
  {
   "cell_type": "markdown",
   "id": "7b7ee3f8",
   "metadata": {},
   "source": [
    "## Filling missing values"
   ]
  },
  {
   "cell_type": "code",
   "execution_count": null,
   "id": "83c5afb1",
   "metadata": {},
   "outputs": [],
   "source": [
    "df.drop('Id',axis=1,inplace=True)"
   ]
  },
  {
   "cell_type": "code",
   "execution_count": null,
   "id": "66872d9e",
   "metadata": {},
   "outputs": [],
   "source": [
    "df.isnull().sum()"
   ]
  },
  {
   "cell_type": "code",
   "execution_count": null,
   "id": "d0242e9f",
   "metadata": {},
   "outputs": [],
   "source": [
    "missing_values = df.isnull().sum()\n",
    "\n",
    "# Calculate the missing value percentage for each column\n",
    "missing_percentage = (missing_values / len(df)) * 100\n",
    "\n",
    "# Display the result\n",
    "print(missing_percentage)"
   ]
  },
  {
   "cell_type": "code",
   "execution_count": null,
   "id": "e2fa954f",
   "metadata": {},
   "outputs": [],
   "source": [
    "df['LotFrontage']= df['LotFrontage'].fillna(df['LotFrontage'].median())\n",
    "df['LotFrontage'].isnull().sum()"
   ]
  },
  {
   "cell_type": "code",
   "execution_count": null,
   "id": "d11f8748",
   "metadata": {},
   "outputs": [],
   "source": [
    "print(df['Alley'].unique())"
   ]
  },
  {
   "cell_type": "code",
   "execution_count": null,
   "id": "ec0628ea",
   "metadata": {},
   "outputs": [],
   "source": [
    "df['Alley'] = df['Alley'].fillna('NA')\n",
    "print(df['Alley'].unique())\n",
    "df['Alley'].isnull().sum()"
   ]
  },
  {
   "cell_type": "code",
   "execution_count": null,
   "id": "94fb4610",
   "metadata": {},
   "outputs": [],
   "source": [
    "print(df['MasVnrType'].unique())"
   ]
  },
  {
   "cell_type": "code",
   "execution_count": null,
   "id": "f0bbd9a5",
   "metadata": {},
   "outputs": [],
   "source": [
    "df['MasVnrType'] = df['MasVnrType'].replace(np.nan,df['MasVnrType'].mode()[0])\n",
    "print(df['MasVnrType'].unique())\n",
    "df['MasVnrType'].isnull().sum()"
   ]
  },
  {
   "cell_type": "code",
   "execution_count": null,
   "id": "6c9fd1ef",
   "metadata": {
    "scrolled": true
   },
   "outputs": [],
   "source": [
    "df['MasVnrArea']= df['MasVnrArea'].fillna(df['MasVnrArea'].median())\n",
    "df['MasVnrArea'].isnull().sum()"
   ]
  },
  {
   "cell_type": "code",
   "execution_count": null,
   "id": "8f31550c",
   "metadata": {},
   "outputs": [],
   "source": [
    "print(df['BsmtQual'].unique())"
   ]
  },
  {
   "cell_type": "code",
   "execution_count": null,
   "id": "16cc4618",
   "metadata": {},
   "outputs": [],
   "source": [
    "df['BsmtQual'] = df['BsmtQual'].fillna('NA')\n",
    "print(df['BsmtQual'].unique())\n",
    "df['BsmtQual'].isnull().sum()"
   ]
  },
  {
   "cell_type": "code",
   "execution_count": null,
   "id": "bb41298f",
   "metadata": {},
   "outputs": [],
   "source": [
    "print(df['BsmtCond'].unique())"
   ]
  },
  {
   "cell_type": "code",
   "execution_count": null,
   "id": "bc5d5588",
   "metadata": {},
   "outputs": [],
   "source": [
    "df['BsmtCond'] = df['BsmtCond'].fillna('NA')\n",
    "print(df['BsmtCond'].unique())\n",
    "df['BsmtCond'].isnull().sum()"
   ]
  },
  {
   "cell_type": "code",
   "execution_count": null,
   "id": "4c3d2dcc",
   "metadata": {},
   "outputs": [],
   "source": [
    "print(df['BsmtExposure'].unique())"
   ]
  },
  {
   "cell_type": "code",
   "execution_count": null,
   "id": "a942c8eb",
   "metadata": {},
   "outputs": [],
   "source": [
    "df['BsmtExposure'] = df['BsmtExposure'].fillna('NA')\n",
    "print(df['BsmtExposure'].unique())\n",
    "df['BsmtExposure'].isnull().sum()"
   ]
  },
  {
   "cell_type": "code",
   "execution_count": null,
   "id": "ec5c2167",
   "metadata": {},
   "outputs": [],
   "source": [
    "print(df['BsmtFinType1'].unique())"
   ]
  },
  {
   "cell_type": "code",
   "execution_count": null,
   "id": "bf695e6b",
   "metadata": {},
   "outputs": [],
   "source": [
    "df['BsmtFinType1'] = df['BsmtFinType1'].fillna('NA')\n",
    "print(df['BsmtFinType1'].unique())\n",
    "df['BsmtFinType1'].isnull().sum()"
   ]
  },
  {
   "cell_type": "code",
   "execution_count": null,
   "id": "c349ab03",
   "metadata": {},
   "outputs": [],
   "source": [
    "print(df['BsmtFinType2'].unique())"
   ]
  },
  {
   "cell_type": "code",
   "execution_count": null,
   "id": "26261298",
   "metadata": {},
   "outputs": [],
   "source": [
    "df['BsmtFinType2'] = df['BsmtFinType2'].fillna('NA')\n",
    "print(df['BsmtFinType2'].unique())\n",
    "df['BsmtFinType2'].isnull().sum()"
   ]
  },
  {
   "cell_type": "code",
   "execution_count": null,
   "id": "c06eb3ba",
   "metadata": {},
   "outputs": [],
   "source": [
    "print(df['Electrical'].unique())"
   ]
  },
  {
   "cell_type": "code",
   "execution_count": null,
   "id": "aa123cc0",
   "metadata": {},
   "outputs": [],
   "source": [
    "df['Electrical'] = df['Electrical'].fillna(df['Electrical'].mode()[0])\n",
    "print(df['Electrical'].unique())\n",
    "df['Electrical'].isnull().sum()"
   ]
  },
  {
   "cell_type": "code",
   "execution_count": null,
   "id": "4d7b44d1",
   "metadata": {},
   "outputs": [],
   "source": [
    "print(df['FireplaceQu'].unique())"
   ]
  },
  {
   "cell_type": "code",
   "execution_count": null,
   "id": "fec1b5f1",
   "metadata": {},
   "outputs": [],
   "source": [
    "df['FireplaceQu'] = df['FireplaceQu'].fillna('NA')\n",
    "print(df['FireplaceQu'].unique())\n",
    "df['FireplaceQu'].isnull().sum()"
   ]
  },
  {
   "cell_type": "code",
   "execution_count": null,
   "id": "0f46e855",
   "metadata": {},
   "outputs": [],
   "source": [
    "print(df['GarageType'].unique())"
   ]
  },
  {
   "cell_type": "code",
   "execution_count": null,
   "id": "b8f5a39b",
   "metadata": {},
   "outputs": [],
   "source": [
    "df['GarageType'] = df['GarageType'].fillna('NA')\n",
    "print(df['GarageType'].unique())\n",
    "df['GarageType'].isnull().sum()"
   ]
  },
  {
   "cell_type": "code",
   "execution_count": null,
   "id": "66fc1dba",
   "metadata": {},
   "outputs": [],
   "source": [
    "df['GarageYrBlt']= df['GarageYrBlt'].fillna(df['GarageYrBlt'].median())\n",
    "df['GarageYrBlt'].isnull().sum()"
   ]
  },
  {
   "cell_type": "code",
   "execution_count": null,
   "id": "d2855fff",
   "metadata": {},
   "outputs": [],
   "source": [
    "print(df['GarageFinish'].unique())"
   ]
  },
  {
   "cell_type": "code",
   "execution_count": null,
   "id": "e2bf977d",
   "metadata": {},
   "outputs": [],
   "source": [
    "df['GarageFinish'] = df['GarageFinish'].fillna('NA')\n",
    "print(df['GarageFinish'].unique())\n",
    "df['GarageFinish'].isnull().sum()"
   ]
  },
  {
   "cell_type": "code",
   "execution_count": null,
   "id": "184ed0c7",
   "metadata": {},
   "outputs": [],
   "source": [
    "print(df['GarageQual'].unique())"
   ]
  },
  {
   "cell_type": "code",
   "execution_count": null,
   "id": "25c5e406",
   "metadata": {},
   "outputs": [],
   "source": [
    "df['GarageQual'] = df['GarageQual'].fillna('NA')\n",
    "print(df['GarageQual'].unique())\n",
    "df['GarageQual'].isnull().sum()"
   ]
  },
  {
   "cell_type": "code",
   "execution_count": null,
   "id": "52f806f0",
   "metadata": {},
   "outputs": [],
   "source": [
    "print(df['GarageCond'].unique())"
   ]
  },
  {
   "cell_type": "code",
   "execution_count": null,
   "id": "def1d654",
   "metadata": {},
   "outputs": [],
   "source": [
    "df['GarageCond'] = df['GarageCond'].fillna('NA')\n",
    "print(df['GarageCond'].unique())\n",
    "df['GarageCond'].isnull().sum()"
   ]
  },
  {
   "cell_type": "code",
   "execution_count": null,
   "id": "822b5c8e",
   "metadata": {},
   "outputs": [],
   "source": [
    "print(df['PoolQC'].unique())"
   ]
  },
  {
   "cell_type": "code",
   "execution_count": null,
   "id": "f26c58dc",
   "metadata": {},
   "outputs": [],
   "source": [
    "df['PoolQC'] = df['PoolQC'].fillna('NA')\n",
    "print(df['PoolQC'].unique())\n",
    "df['PoolQC'].isnull().sum()"
   ]
  },
  {
   "cell_type": "code",
   "execution_count": null,
   "id": "79f8d433",
   "metadata": {},
   "outputs": [],
   "source": [
    "print(df['Fence'].unique())"
   ]
  },
  {
   "cell_type": "code",
   "execution_count": null,
   "id": "63e19e84",
   "metadata": {},
   "outputs": [],
   "source": [
    "df['Fence'] = df['Fence'].fillna('NA')\n",
    "print(df['Fence'].unique())\n",
    "df['Fence'].isnull().sum()"
   ]
  },
  {
   "cell_type": "code",
   "execution_count": null,
   "id": "6452f119",
   "metadata": {},
   "outputs": [],
   "source": [
    "print(df['MiscFeature'].unique())"
   ]
  },
  {
   "cell_type": "code",
   "execution_count": null,
   "id": "e53d8e7a",
   "metadata": {},
   "outputs": [],
   "source": [
    "df['MiscFeature'] = df['MiscFeature'].fillna('NA')\n",
    "print(df['MiscFeature'].unique())\n",
    "df['MiscFeature'].isnull().sum()"
   ]
  },
  {
   "cell_type": "code",
   "execution_count": null,
   "id": "edacb132",
   "metadata": {},
   "outputs": [],
   "source": [
    "df.sample(10)"
   ]
  },
  {
   "cell_type": "markdown",
   "id": "5fb39995",
   "metadata": {},
   "source": [
    "## Checking coorelation"
   ]
  },
  {
   "cell_type": "code",
   "execution_count": null,
   "id": "5bdad5dd",
   "metadata": {},
   "outputs": [],
   "source": [
    "plt.figure(figsize=(30, 20))  # Set the figure size\n",
    "colormap = sns.diverging_palette(10, 220, as_cmap = True)\n",
    "\n",
    "# Create a mask for the upper triangle\n",
    "corr_matrix = df.corr()\n",
    "\n",
    "# Generate a mask for the upper triangle\n",
    "mask = np.triu(np.ones_like(corr_matrix, dtype=bool))\n",
    "\n",
    "sns.heatmap(corr_matrix, mask=mask, cmap=colormap, annot=True, fmt=\".2f\", linewidths=0.5, vmax=0.5, annot_kws={'fontsize':9})\n",
    "plt.title('Correlation Heatmap', fontsize=14)\n",
    "plt.xticks(rotation=90, ha='right')  # Rotate x-axis labels for better visibility\n",
    "plt.yticks(rotation=0)\n",
    "plt.show()"
   ]
  },
  {
   "cell_type": "code",
   "execution_count": null,
   "id": "84285c00",
   "metadata": {
    "scrolled": false
   },
   "outputs": [],
   "source": [
    "correlation_matrix = df.corr()\n",
    "\n",
    "# Extract the correlations of each column with the target variable\n",
    "correlations = correlation_matrix['Property_Sale_Price'].abs().sort_values(ascending=False).round(2)\n",
    "\n",
    "# Display the correlations in decreasing order\n",
    "print(correlations)"
   ]
  },
  {
   "cell_type": "code",
   "execution_count": null,
   "id": "ddaa8e70",
   "metadata": {
    "scrolled": true
   },
   "outputs": [],
   "source": [
    "threshold = 0.3\n",
    "\n",
    "# Find the columns to drop\n",
    "columns_to_drop = correlation_matrix.columns[correlation_matrix['Property_Sale_Price'].abs() < threshold]\n",
    "\n",
    "# Drop the columns from the DataFrame\n",
    "df_dropped = df.drop(columns_to_drop, axis=1)\n",
    "\n",
    "# Display the resulting DataFrame\n",
    "df_dropped.shape #19 columns removed"
   ]
  },
  {
   "cell_type": "code",
   "execution_count": null,
   "id": "3555a698",
   "metadata": {
    "scrolled": true
   },
   "outputs": [],
   "source": [
    "df_dropped.head()"
   ]
  },
  {
   "cell_type": "code",
   "execution_count": null,
   "id": "e8dcf76e",
   "metadata": {
    "scrolled": false
   },
   "outputs": [],
   "source": [
    "plt.figure(figsize=(16, 12))  # Set the figure size\n",
    "colormap = sns.diverging_palette(10, 220, as_cmap = True)\n",
    "\n",
    "# Create a mask for the upper triangle\n",
    "corr_matrix = df_dropped.corr()\n",
    "\n",
    "# Generate a mask for the upper triangle\n",
    "mask = np.triu(np.ones_like(corr_matrix, dtype=bool))\n",
    "\n",
    "sns.heatmap(corr_matrix, mask=mask, cmap=colormap, annot=True, fmt=\".2f\", linewidths=0.5, vmax=0.5, annot_kws={'fontsize':11})\n",
    "plt.title('Correlation Heatmap', fontsize=20)\n",
    "plt.xticks(rotation=90, ha='right')  # Rotate x-axis labels for better visibility\n",
    "plt.yticks(rotation=0)\n",
    "plt.show()"
   ]
  },
  {
   "cell_type": "markdown",
   "id": "64604398",
   "metadata": {},
   "source": [
    "# Checking distribution of data"
   ]
  },
  {
   "cell_type": "code",
   "execution_count": null,
   "id": "c72e24e5",
   "metadata": {
    "scrolled": true
   },
   "outputs": [],
   "source": [
    "sns.pairplot(df_dropped,diag_kind='kde')"
   ]
  },
  {
   "cell_type": "code",
   "execution_count": null,
   "id": "f8fefe28",
   "metadata": {
    "scrolled": true
   },
   "outputs": [],
   "source": [
    "# Determine the number of rows and columns for the subplot grid\n",
    "num_columns = 2  # Number of columns for the subplot grid\n",
    "num_rows = -(-len(df.columns) // num_columns)  # Round up the division result to the nearest integer\n",
    "\n",
    "colors = sns.color_palette('husl', df.shape[1])\n",
    "\n",
    "# Create a figure and axes for the subplots\n",
    "fig, axes = plt.subplots(num_rows, num_columns, figsize=(18,275))\n",
    "\n",
    "# Flatten the axes array for ease of iteration\n",
    "axes = axes.flatten()\n",
    "\n",
    "# Iterate over the columns and create histplot with KDE\n",
    "for i, column in enumerate(df.columns):\n",
    "    ax = axes[i] if i < len(axes) else None  # Handle cases where there are more columns than subplots\n",
    "    if ax is not None:\n",
    "        sns.histplot(data=df, x=column, kde=True, color=colors[i], line_kws={'color': 'black'}, ax=ax)\n",
    "        ax.set_title(column,fontsize=20)\n",
    "        \n",
    "        ax.set_xticklabels(ax.get_xticklabels(), rotation=55,fontsize=11)\n",
    "        ax.set_yticklabels(ax.get_yticklabels(),fontsize=11)\n",
    "        ax.set_xlabel(column,fontsize=15)\n",
    "        ax.set_ylabel('Count',fontsize=15)\n",
    "        \n",
    "# Remove any unused subplots\n",
    "if len(df.columns) < len(axes):\n",
    "    for j in range(len(df.columns), len(axes)):\n",
    "        fig.delaxes(axes[j])\n",
    "\n",
    "# Adjust the layout of subplots and spacing\n",
    "plt.tight_layout()\n",
    "\n",
    "# Display the subplots\n",
    "plt.show()"
   ]
  },
  {
   "cell_type": "markdown",
   "id": "fc880170",
   "metadata": {},
   "source": [
    "# Checking count of each categorical columns"
   ]
  },
  {
   "cell_type": "code",
   "execution_count": null,
   "id": "36d7a71c",
   "metadata": {
    "scrolled": true
   },
   "outputs": [],
   "source": [
    "\n",
    "# Select the categorical columns from the DataFrame\n",
    "categorical_columns = df.select_dtypes(include='object').columns\n",
    "\n",
    "# Determine the number of rows and columns for the subplot grid\n",
    "num_columns = 2  # Number of columns for the subplot grid\n",
    "num_rows = -(-len(categorical_columns) // num_columns)  # Round up the division result to the nearest integer\n",
    "\n",
    "# Create a figure and axes for the subplots figsize=(15, 300)\n",
    "fig, axes = plt.subplots(num_rows, num_columns, figsize=(18,200))\n",
    "\n",
    "# Flatten the axes array for ease of iteration\n",
    "axes = axes.flatten()\n",
    "\n",
    "# Iterate over the categorical columns and create countplots\n",
    "for i, column in enumerate(categorical_columns):\n",
    "    ax = axes[i] if i < len(axes) else None  # Handle cases where there are more columns than subplots\n",
    "    if ax is not None:\n",
    "        # Calculate value counts for the current column\n",
    "        value_counts = df[column].value_counts()\n",
    "\n",
    "        # Create a countplot for the column\n",
    "        sns.countplot(data=df, x=column, ax=ax)\n",
    "\n",
    "        # Calculate the value percentages\n",
    "        total_count = value_counts.sum()\n",
    "        value_percentages = value_counts / total_count * 100\n",
    "\n",
    "        # Add value percentage text to the countplot\n",
    "        for j, p in enumerate(ax.patches):\n",
    "            ax.text(p.get_x() + p.get_width() / 2, p.get_height() + 5, f\"{value_percentages[j]:.1f}%\", ha='center',fontsize=10)\n",
    "        \n",
    "        #ax.set_title(column,fontsize=20)\n",
    "        ax.set_xticklabels(ax.get_xticklabels(), rotation=55,fontsize=11)\n",
    "        ax.set_yticklabels(ax.get_yticklabels(),fontsize=11)\n",
    "        ax.set_xlabel(column,fontsize=15)\n",
    "        ax.set_ylabel('Count',fontsize=15)\n",
    "        \n",
    "if len(categorical_columns) < len(axes):\n",
    "    for j in range(len(categorical_columns), len(axes)):\n",
    "        fig.delaxes(axes[j])        \n",
    "        \n",
    "# Adjust the layout of subplots and spacing\n",
    "fig.subplots_adjust(hspace=0.3)\n",
    "\n",
    "# Display the subplots\n",
    "plt.show()"
   ]
  },
  {
   "cell_type": "markdown",
   "id": "e3c1f27c",
   "metadata": {},
   "source": [
    "# Standardization"
   ]
  },
  {
   "cell_type": "code",
   "execution_count": null,
   "id": "a562e28b",
   "metadata": {},
   "outputs": [],
   "source": [
    "std = StandardScaler()\n",
    "\n",
    "cols = ['OverallQual', 'YearBuilt', 'YearRemodAdd', 'MasVnrArea', 'BsmtFinSF1',\n",
    "       'TotalBsmtSF', '1stFlrSF', '2ndFlrSF', 'GrLivArea', 'FullBath',\n",
    "       'TotRmsAbvGrd', 'Fireplaces', 'GarageYrBlt', 'GarageCars', 'GarageArea',\n",
    "       'WoodDeckSF', 'OpenPorchSF']\n",
    "\n",
    "for i in cols:\n",
    "    df_dropped[i] = std.fit_transform(df_dropped[[i]])"
   ]
  },
  {
   "cell_type": "markdown",
   "id": "4dd61a00",
   "metadata": {},
   "source": [
    "# Encoding"
   ]
  },
  {
   "cell_type": "code",
   "execution_count": null,
   "id": "9cab3f87",
   "metadata": {},
   "outputs": [],
   "source": [
    "df_dropped = pd.get_dummies(df_dropped)"
   ]
  },
  {
   "cell_type": "code",
   "execution_count": null,
   "id": "ca1b3183",
   "metadata": {
    "scrolled": true
   },
   "outputs": [],
   "source": [
    "df_dropped.dtypes"
   ]
  },
  {
   "cell_type": "code",
   "execution_count": null,
   "id": "942d1f7d",
   "metadata": {},
   "outputs": [],
   "source": [
    "df_dropped.shape"
   ]
  },
  {
   "cell_type": "markdown",
   "id": "12821459",
   "metadata": {},
   "source": [
    "# Model building"
   ]
  },
  {
   "cell_type": "code",
   "execution_count": null,
   "id": "8d7d6793",
   "metadata": {},
   "outputs": [],
   "source": [
    "X1 = df_dropped.drop('Property_Sale_Price',axis=1)\n",
    "y1 = df_dropped['Property_Sale_Price']\n",
    "\n",
    "X_train,X_test,y_train,y_test = train_test_split(X1,y1,test_size=0.3,random_state=0)"
   ]
  },
  {
   "cell_type": "markdown",
   "id": "f30d8ab1",
   "metadata": {},
   "source": [
    "# Linear Regression"
   ]
  },
  {
   "cell_type": "code",
   "execution_count": null,
   "id": "bc8e88e0",
   "metadata": {},
   "outputs": [],
   "source": [
    "model_1 = LinearRegression()\n",
    "\n",
    "model_1.fit(X_train,y_train)\n",
    "\n",
    "print('train - ', model_1.score(X_train,y_train))\n",
    "print('test - ', model_1.score(X_test,y_test))"
   ]
  },
  {
   "cell_type": "markdown",
   "id": "a9608563",
   "metadata": {},
   "source": [
    "# Decision Tree Regressor"
   ]
  },
  {
   "cell_type": "code",
   "execution_count": null,
   "id": "6b66c5de",
   "metadata": {},
   "outputs": [],
   "source": [
    "model_2 = DecisionTreeRegressor()\n",
    "model_2.fit(X_train,y_train)\n",
    "\n",
    "print('train - ', model_2.score(X_train,y_train))\n",
    "print('test - ', model_2.score(X_test,y_test))"
   ]
  },
  {
   "cell_type": "code",
   "execution_count": null,
   "id": "911dd5b5",
   "metadata": {},
   "outputs": [],
   "source": [
    "model_2 = DecisionTreeRegressor(max_depth=5)\n",
    "model_2.fit(X_train,y_train)\n",
    "\n",
    "print('train - ', model_2.score(X_train,y_train))\n",
    "print('test - ', model_2.score(X_test,y_test))"
   ]
  },
  {
   "cell_type": "code",
   "execution_count": null,
   "id": "9806f368",
   "metadata": {},
   "outputs": [],
   "source": [
    "model_2 = DecisionTreeRegressor(criterion=\"friedman_mse\",max_depth=7)\n",
    "model_2.fit(X_train,y_train)\n",
    "\n",
    "print('train - ', model_2.score(X_train,y_train))\n",
    "print('test - ', model_2.score(X_test,y_test))"
   ]
  },
  {
   "cell_type": "markdown",
   "id": "61599bd5",
   "metadata": {},
   "source": [
    "# Random Forest Regressor"
   ]
  },
  {
   "cell_type": "code",
   "execution_count": null,
   "id": "fc0158e7",
   "metadata": {},
   "outputs": [],
   "source": [
    "model_3 = RandomForestRegressor()\n",
    "model_3.fit(X_train,y_train)\n",
    "\n",
    "print('train - ', model_3.score(X_train,y_train))\n",
    "print('test - ', model_3.score(X_test,y_test))"
   ]
  },
  {
   "cell_type": "code",
   "execution_count": null,
   "id": "ecf4df69",
   "metadata": {},
   "outputs": [],
   "source": [
    "model_3 = RandomForestRegressor(n_estimators=101,criterion='friedman_mse', max_depth= 9)\n",
    "model_3.fit(X_train,y_train)\n",
    "\n",
    "print('train - ', model_3.score(X_train,y_train))\n",
    "print('test - ', model_3.score(X_test,y_test))"
   ]
  },
  {
   "cell_type": "code",
   "execution_count": null,
   "id": "4e60a2d5",
   "metadata": {},
   "outputs": [],
   "source": [
    "model_3 = RandomForestRegressor(n_estimators=101,criterion='absolute_error', max_depth= 10)\n",
    "model_3.fit(X_train,y_train)\n",
    "\n",
    "print('train - ', model_3.score(X_train,y_train))\n",
    "print('test - ', model_3.score(X_test,y_test))"
   ]
  },
  {
   "cell_type": "code",
   "execution_count": null,
   "id": "52dc04af",
   "metadata": {},
   "outputs": [],
   "source": [
    "model_3 = RandomForestRegressor(n_estimators=100,criterion='friedman_mse', max_depth= 15)\n",
    "model_3.fit(X_train,y_train)\n",
    "\n",
    "print('train - ', model_3.score(X_train,y_train))\n",
    "print('test - ', model_3.score(X_test,y_test))"
   ]
  },
  {
   "cell_type": "code",
   "execution_count": null,
   "id": "e142839f",
   "metadata": {},
   "outputs": [],
   "source": [
    "model_3 = RandomForestRegressor(n_estimators=80,criterion='absolute_error', max_depth=15)\n",
    "model_3.fit(X_train,y_train)\n",
    "\n",
    "print('train - ', model_3.score(X_train,y_train))\n",
    "print('test - ', model_3.score(X_test,y_test))"
   ]
  },
  {
   "cell_type": "markdown",
   "id": "921baefa",
   "metadata": {},
   "source": [
    "# Scores of models :\n",
    "\n",
    "### 1. Linear Regression : train = 0.97, test =  -1.47\n",
    "\n",
    "### 2. Decision Tree Regression : train = 0.87, test =  0.77\n",
    "\n",
    "### 3. Random Forest Regression : train = 0.97, test =  0.91\n",
    "\n",
    "\n",
    "### Interpretation : Random forest regressor model yeilds high score compared to other regressor models\n",
    "\n"
   ]
  },
  {
   "cell_type": "code",
   "execution_count": null,
   "id": "55dd8738",
   "metadata": {},
   "outputs": [],
   "source": []
  }
 ],
 "metadata": {
  "kernelspec": {
   "display_name": "Python 3 (ipykernel)",
   "language": "python",
   "name": "python3"
  },
  "language_info": {
   "codemirror_mode": {
    "name": "ipython",
    "version": 3
   },
   "file_extension": ".py",
   "mimetype": "text/x-python",
   "name": "python",
   "nbconvert_exporter": "python",
   "pygments_lexer": "ipython3",
   "version": "3.9.16"
  }
 },
 "nbformat": 4,
 "nbformat_minor": 5
}
